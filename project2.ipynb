{
 "cells": [
  {
   "cell_type": "markdown",
   "metadata": {},
   "source": [
    "## 1. Data Cleaning"
   ]
  },
  {
   "cell_type": "markdown",
   "metadata": {},
   "source": [
    "### 1.1 Import libraries and explore data shape"
   ]
  },
  {
   "cell_type": "code",
   "execution_count": 221,
   "metadata": {},
   "outputs": [],
   "source": [
    "#Importing libraries\n",
    "import pandas as pd\n",
    "import matplotlib.pyplot as plt\n",
    "import seaborn as sns\n",
    "import numpy as np\n",
    "import math\n",
    "import matplotlib.pyplot as plt\n",
    "%matplotlib inline\n",
    "np.random.seed(10)\n",
    "#%matplotlib inline\n",
    "from sklearn.model_selection import train_test_split\n",
    "from sklearn.linear_model import Ridge, Lasso, LinearRegression, LogisticRegression\n",
    "from sklearn.ensemble import RandomForestRegressor\n",
    "from sklearn.neighbors import KNeighborsRegressor\n",
    "from sklearn.model_selection import KFold\n",
    "from sklearn.model_selection import GridSearchCV"
   ]
  },
  {
   "cell_type": "code",
   "execution_count": 81,
   "metadata": {},
   "outputs": [
    {
     "data": {
      "text/html": [
       "<div>\n",
       "<style scoped>\n",
       "    .dataframe tbody tr th:only-of-type {\n",
       "        vertical-align: middle;\n",
       "    }\n",
       "\n",
       "    .dataframe tbody tr th {\n",
       "        vertical-align: top;\n",
       "    }\n",
       "\n",
       "    .dataframe thead th {\n",
       "        text-align: right;\n",
       "    }\n",
       "</style>\n",
       "<table border=\"1\" class=\"dataframe\">\n",
       "  <thead>\n",
       "    <tr style=\"text-align: right;\">\n",
       "      <th></th>\n",
       "      <th>County</th>\n",
       "      <th>State</th>\n",
       "      <th>CountyFIPS</th>\n",
       "      <th>Diabetes_Number</th>\n",
       "      <th>Obesity_Number</th>\n",
       "      <th>Physical_Inactivity_Number</th>\n",
       "      <th>sex and age_total population_65 years and over_sex ratio (males per 100 females)</th>\n",
       "      <th>race_total population</th>\n",
       "      <th>race_total population_one race</th>\n",
       "      <th>race_total population_two or more races</th>\n",
       "      <th>...</th>\n",
       "      <th>sex and age_total population_21 years and over</th>\n",
       "      <th>sex and age_total population_62 years and over</th>\n",
       "      <th>sex and age_total population_65 years and over</th>\n",
       "      <th>sex and age_total population_18 years and over_1</th>\n",
       "      <th>sex and age_total population_18 years and over_male</th>\n",
       "      <th>sex and age_total population_18 years and over_female</th>\n",
       "      <th>sex and age_total population_18 years and over_sex ratio (males per 100 females)</th>\n",
       "      <th>sex and age_total population_65 years and over_1</th>\n",
       "      <th>sex and age_total population_65 years and over_male</th>\n",
       "      <th>sex and age_total population_65 years and over_female</th>\n",
       "    </tr>\n",
       "  </thead>\n",
       "  <tbody>\n",
       "    <tr>\n",
       "      <th>0</th>\n",
       "      <td>Autauga County</td>\n",
       "      <td>Alabama</td>\n",
       "      <td>1001</td>\n",
       "      <td>5178</td>\n",
       "      <td>13489</td>\n",
       "      <td>12525</td>\n",
       "      <td>76.5</td>\n",
       "      <td>55200</td>\n",
       "      <td>54170</td>\n",
       "      <td>1030</td>\n",
       "      <td>...</td>\n",
       "      <td>39614</td>\n",
       "      <td>9403</td>\n",
       "      <td>8050</td>\n",
       "      <td>41831</td>\n",
       "      <td>20054</td>\n",
       "      <td>21777</td>\n",
       "      <td>92.1</td>\n",
       "      <td>8050</td>\n",
       "      <td>3488</td>\n",
       "      <td>4562</td>\n",
       "    </tr>\n",
       "    <tr>\n",
       "      <th>1</th>\n",
       "      <td>Baldwin County</td>\n",
       "      <td>Alabama</td>\n",
       "      <td>1003</td>\n",
       "      <td>16707</td>\n",
       "      <td>48542</td>\n",
       "      <td>40024</td>\n",
       "      <td>86.6</td>\n",
       "      <td>208107</td>\n",
       "      <td>204535</td>\n",
       "      <td>3572</td>\n",
       "      <td>...</td>\n",
       "      <td>155502</td>\n",
       "      <td>49811</td>\n",
       "      <td>40665</td>\n",
       "      <td>162430</td>\n",
       "      <td>78104</td>\n",
       "      <td>84326</td>\n",
       "      <td>92.6</td>\n",
       "      <td>40665</td>\n",
       "      <td>18870</td>\n",
       "      <td>21795</td>\n",
       "    </tr>\n",
       "    <tr>\n",
       "      <th>2</th>\n",
       "      <td>Barbour County</td>\n",
       "      <td>Alabama</td>\n",
       "      <td>1005</td>\n",
       "      <td>3400</td>\n",
       "      <td>8009</td>\n",
       "      <td>5431</td>\n",
       "      <td>76.2</td>\n",
       "      <td>25782</td>\n",
       "      <td>25429</td>\n",
       "      <td>353</td>\n",
       "      <td>...</td>\n",
       "      <td>19394</td>\n",
       "      <td>5658</td>\n",
       "      <td>4634</td>\n",
       "      <td>20346</td>\n",
       "      <td>10923</td>\n",
       "      <td>9423</td>\n",
       "      <td>115.9</td>\n",
       "      <td>4634</td>\n",
       "      <td>2004</td>\n",
       "      <td>2630</td>\n",
       "    </tr>\n",
       "  </tbody>\n",
       "</table>\n",
       "<p>3 rows × 95 columns</p>\n",
       "</div>"
      ],
      "text/plain": [
       "           County    State  CountyFIPS Diabetes_Number Obesity_Number  \\\n",
       "0  Autauga County  Alabama        1001            5178          13489   \n",
       "1  Baldwin County  Alabama        1003           16707          48542   \n",
       "2  Barbour County  Alabama        1005            3400           8009   \n",
       "\n",
       "  Physical_Inactivity_Number  \\\n",
       "0                      12525   \n",
       "1                      40024   \n",
       "2                       5431   \n",
       "\n",
       "  sex and age_total population_65 years and over_sex ratio (males per 100 females)  \\\n",
       "0                                               76.5                                 \n",
       "1                                               86.6                                 \n",
       "2                                               76.2                                 \n",
       "\n",
       "   race_total population  race_total population_one race  \\\n",
       "0                  55200                           54170   \n",
       "1                 208107                          204535   \n",
       "2                  25782                           25429   \n",
       "\n",
       "   race_total population_two or more races  ...  \\\n",
       "0                                     1030  ...   \n",
       "1                                     3572  ...   \n",
       "2                                      353  ...   \n",
       "\n",
       "   sex and age_total population_21 years and over  \\\n",
       "0                                           39614   \n",
       "1                                          155502   \n",
       "2                                           19394   \n",
       "\n",
       "   sex and age_total population_62 years and over  \\\n",
       "0                                            9403   \n",
       "1                                           49811   \n",
       "2                                            5658   \n",
       "\n",
       "   sex and age_total population_65 years and over  \\\n",
       "0                                            8050   \n",
       "1                                           40665   \n",
       "2                                            4634   \n",
       "\n",
       "   sex and age_total population_18 years and over_1  \\\n",
       "0                                             41831   \n",
       "1                                            162430   \n",
       "2                                             20346   \n",
       "\n",
       "   sex and age_total population_18 years and over_male  \\\n",
       "0                                              20054     \n",
       "1                                              78104     \n",
       "2                                              10923     \n",
       "\n",
       "   sex and age_total population_18 years and over_female  \\\n",
       "0                                              21777       \n",
       "1                                              84326       \n",
       "2                                               9423       \n",
       "\n",
       "   sex and age_total population_18 years and over_sex ratio (males per 100 females)  \\\n",
       "0                                               92.1                                  \n",
       "1                                               92.6                                  \n",
       "2                                              115.9                                  \n",
       "\n",
       "   sex and age_total population_65 years and over_1  \\\n",
       "0                                              8050   \n",
       "1                                             40665   \n",
       "2                                              4634   \n",
       "\n",
       "   sex and age_total population_65 years and over_male  \\\n",
       "0                                               3488     \n",
       "1                                              18870     \n",
       "2                                               2004     \n",
       "\n",
       "   sex and age_total population_65 years and over_female  \n",
       "0                                               4562      \n",
       "1                                              21795      \n",
       "2                                               2630      \n",
       "\n",
       "[3 rows x 95 columns]"
      ]
     },
     "execution_count": 81,
     "metadata": {},
     "output_type": "execute_result"
    }
   ],
   "source": [
    "diabetes = pd.read_csv(\"Diabetes with Population Info by County 2017.csv\")\n",
    "diabetes.head(3)"
   ]
  },
  {
   "cell_type": "code",
   "execution_count": 82,
   "metadata": {},
   "outputs": [
    {
     "data": {
      "text/plain": [
       "(3220, 95)"
      ]
     },
     "execution_count": 82,
     "metadata": {},
     "output_type": "execute_result"
    }
   ],
   "source": [
    "# number of rows and columns\n",
    "diabetes.shape"
   ]
  },
  {
   "cell_type": "code",
   "execution_count": 83,
   "metadata": {},
   "outputs": [],
   "source": [
    "#View all column names\n",
    "cols = diabetes.columns.tolist()\n",
    "#cols\n",
    "\n",
    "# list of variable names (long)\n",
    "#list(diabetes.columns.values)"
   ]
  },
  {
   "cell_type": "code",
   "execution_count": 5,
   "metadata": {},
   "outputs": [],
   "source": [
    "# type of the three variables we are concerned are strings\n",
    "#diabetes.dtypes[3:6]\n",
    "#We may not need this section after including the new chunk below"
   ]
  },
  {
   "cell_type": "markdown",
   "metadata": {},
   "source": [
    "### 2.2 Ensure that all datatypes other than the counry and state names are numeric."
   ]
  },
  {
   "cell_type": "code",
   "execution_count": 84,
   "metadata": {},
   "outputs": [
    {
     "data": {
      "text/html": [
       "<div>\n",
       "<style scoped>\n",
       "    .dataframe tbody tr th:only-of-type {\n",
       "        vertical-align: middle;\n",
       "    }\n",
       "\n",
       "    .dataframe tbody tr th {\n",
       "        vertical-align: top;\n",
       "    }\n",
       "\n",
       "    .dataframe thead th {\n",
       "        text-align: right;\n",
       "    }\n",
       "</style>\n",
       "<table border=\"1\" class=\"dataframe\">\n",
       "  <thead>\n",
       "    <tr style=\"text-align: right;\">\n",
       "      <th></th>\n",
       "      <th>County</th>\n",
       "      <th>State</th>\n",
       "      <th>Diabetes_Number</th>\n",
       "      <th>Obesity_Number</th>\n",
       "      <th>Physical_Inactivity_Number</th>\n",
       "      <th>sex and age_total population_65 years and over_sex ratio (males per 100 females)</th>\n",
       "    </tr>\n",
       "  </thead>\n",
       "  <tbody>\n",
       "    <tr>\n",
       "      <th>0</th>\n",
       "      <td>Autauga County</td>\n",
       "      <td>Alabama</td>\n",
       "      <td>5178</td>\n",
       "      <td>13489</td>\n",
       "      <td>12525</td>\n",
       "      <td>76.5</td>\n",
       "    </tr>\n",
       "    <tr>\n",
       "      <th>1</th>\n",
       "      <td>Baldwin County</td>\n",
       "      <td>Alabama</td>\n",
       "      <td>16707</td>\n",
       "      <td>48542</td>\n",
       "      <td>40024</td>\n",
       "      <td>86.6</td>\n",
       "    </tr>\n",
       "    <tr>\n",
       "      <th>2</th>\n",
       "      <td>Barbour County</td>\n",
       "      <td>Alabama</td>\n",
       "      <td>3400</td>\n",
       "      <td>8009</td>\n",
       "      <td>5431</td>\n",
       "      <td>76.2</td>\n",
       "    </tr>\n",
       "  </tbody>\n",
       "</table>\n",
       "</div>"
      ],
      "text/plain": [
       "           County    State Diabetes_Number Obesity_Number  \\\n",
       "0  Autauga County  Alabama            5178          13489   \n",
       "1  Baldwin County  Alabama           16707          48542   \n",
       "2  Barbour County  Alabama            3400           8009   \n",
       "\n",
       "  Physical_Inactivity_Number  \\\n",
       "0                      12525   \n",
       "1                      40024   \n",
       "2                       5431   \n",
       "\n",
       "  sex and age_total population_65 years and over_sex ratio (males per 100 females)  \n",
       "0                                               76.5                                \n",
       "1                                               86.6                                \n",
       "2                                               76.2                                "
      ]
     },
     "execution_count": 84,
     "metadata": {},
     "output_type": "execute_result"
    }
   ],
   "source": [
    "#Checkout all datatypes that are object\n",
    "diabetes.loc[:, diabetes.dtypes == np.object].head(3)"
   ]
  },
  {
   "cell_type": "markdown",
   "metadata": {},
   "source": [
    "The counts for diabetes, people who are obese, and people who are inactive, and sex and age_total population_65 years and over_sex ratio (males per 100 females) are strings. Some of these columns contain missing data, which is recorded as the string \"No Data\". We convert these columns to floats, coercing any rows with non-numeric strings in to NaN.  "
   ]
  },
  {
   "cell_type": "code",
   "execution_count": 85,
   "metadata": {},
   "outputs": [
    {
     "data": {
      "text/html": [
       "<div>\n",
       "<style scoped>\n",
       "    .dataframe tbody tr th:only-of-type {\n",
       "        vertical-align: middle;\n",
       "    }\n",
       "\n",
       "    .dataframe tbody tr th {\n",
       "        vertical-align: top;\n",
       "    }\n",
       "\n",
       "    .dataframe thead th {\n",
       "        text-align: right;\n",
       "    }\n",
       "</style>\n",
       "<table border=\"1\" class=\"dataframe\">\n",
       "  <thead>\n",
       "    <tr style=\"text-align: right;\">\n",
       "      <th></th>\n",
       "      <th>County</th>\n",
       "      <th>State</th>\n",
       "    </tr>\n",
       "  </thead>\n",
       "  <tbody>\n",
       "    <tr>\n",
       "      <th>0</th>\n",
       "      <td>Autauga County</td>\n",
       "      <td>Alabama</td>\n",
       "    </tr>\n",
       "    <tr>\n",
       "      <th>1</th>\n",
       "      <td>Baldwin County</td>\n",
       "      <td>Alabama</td>\n",
       "    </tr>\n",
       "    <tr>\n",
       "      <th>2</th>\n",
       "      <td>Barbour County</td>\n",
       "      <td>Alabama</td>\n",
       "    </tr>\n",
       "  </tbody>\n",
       "</table>\n",
       "</div>"
      ],
      "text/plain": [
       "           County    State\n",
       "0  Autauga County  Alabama\n",
       "1  Baldwin County  Alabama\n",
       "2  Barbour County  Alabama"
      ]
     },
     "execution_count": 85,
     "metadata": {},
     "output_type": "execute_result"
    }
   ],
   "source": [
    "diabetes['Diabetes_Number'] = pd.to_numeric(arg=diabetes['Diabetes_Number'], errors='coerce')\n",
    "diabetes['Obesity_Number'] = pd.to_numeric(arg=diabetes['Obesity_Number'], errors='coerce')\n",
    "diabetes['Physical_Inactivity_Number'] = pd.to_numeric(arg=diabetes['Physical_Inactivity_Number'], errors='coerce')\n",
    "diabetes['sex and age_total population_65 years and over_sex ratio (males per 100 females)'] = pd.to_numeric(arg=diabetes['sex and age_total population_65 years and over_sex ratio (males per 100 females)'], errors='coerce')\n",
    "\n",
    "diabetes.dtypes[3:6]\n",
    "\n",
    "#using the same command to check there are no obtect type columns\n",
    "diabetes.loc[:, diabetes.dtypes == np.object].head(3)"
   ]
  },
  {
   "cell_type": "markdown",
   "metadata": {},
   "source": [
    "### 2.3 Check missing counts for key variables"
   ]
  },
  {
   "cell_type": "code",
   "execution_count": 86,
   "metadata": {},
   "outputs": [
    {
     "data": {
      "text/plain": [
       "Diabetes_Number                1\n",
       "Obesity_Number                78\n",
       "Physical_Inactivity_Number    78\n",
       "dtype: int64"
      ]
     },
     "execution_count": 86,
     "metadata": {},
     "output_type": "execute_result"
    }
   ],
   "source": [
    "diabetes.isnull().sum()[3:6]"
   ]
  },
  {
   "cell_type": "markdown",
   "metadata": {},
   "source": [
    "There is 1 row with missing diabetes counts. There are 78 rows with missing counts for Physically Inactive and Obese. Since Diabetes is our predicted feature, we drop rows with missing value for this feature (in this case only one row). "
   ]
  },
  {
   "cell_type": "code",
   "execution_count": 87,
   "metadata": {},
   "outputs": [
    {
     "data": {
      "text/plain": [
       "(3219, 95)"
      ]
     },
     "execution_count": 87,
     "metadata": {},
     "output_type": "execute_result"
    }
   ],
   "source": [
    "diabetes = diabetes.dropna(subset=['Diabetes_Number'])\n",
    "diabetes.shape\n"
   ]
  },
  {
   "cell_type": "markdown",
   "metadata": {},
   "source": [
    "## 2. Exploratory Data Analysis\n",
    "Our data set is a combination of variables from the CDC and the ACS at the county level. We have information from 3220 counties. Variables include the population counts of people with diabetes, who are obese, and who are physically inactive, and population counts of people by race, ethnicity, age, and sex. "
   ]
  },
  {
   "cell_type": "markdown",
   "metadata": {},
   "source": [
    "**Distribution of Diabetes Cases** \n",
    "\n",
    "We start our report with some descriptive plots. Our goal here is to explore variation in diabetes numbers across counties. We also look at a couple of predictors that we suspect might be important for prediction later on.  \n",
    "\n",
    "We plot a histogram of diabetes cases as the county level. We plot this both as number of cases and as number of cases per 100 people, as the counties vary in population size. "
   ]
  },
  {
   "cell_type": "code",
   "execution_count": 88,
   "metadata": {},
   "outputs": [],
   "source": [
    "# calculate diabetes cases per 100 people\n",
    "diabetes['diabetes_per100'] = diabetes['Diabetes_Number']/diabetes['race_total population']*100\n",
    "\n",
    "# calculate log of diabetes cases\n",
    "diabetes['ln_diabetes'] = np.log(diabetes[\"Diabetes_Number\"])"
   ]
  },
  {
   "cell_type": "code",
   "execution_count": 89,
   "metadata": {},
   "outputs": [
    {
     "data": {
      "image/png": "[encoded data removed]",
      "text/plain": [
       "<Figure size 432x288 with 1 Axes>"
      ]
     },
     "metadata": {
      "needs_background": "light"
     },
     "output_type": "display_data"
    }
   ],
   "source": [
    "#diabetes cases across counties\n",
    "#sns.histplot(data = diabetes, x = 'Diabetes_Number')\n",
    "plt.hist(diabetes['Diabetes_Number'])\n",
    "plt.title(\"Distribution of County Diabetes Cases\")\n",
    "plt.xlabel(\"Cases\");"
   ]
  },
  {
   "cell_type": "markdown",
   "metadata": {},
   "source": [
    "The plot above shows that the distribution of cases across counties is extremely right skewed, likely driven by counties with very large populations. Logging the case numbers makes the distribution easier to see. "
   ]
  },
  {
   "cell_type": "code",
   "execution_count": 90,
   "metadata": {},
   "outputs": [
    {
     "data": {
      "image/png": "[encoded data removed]",
      "text/plain": [
       "<Figure size 432x288 with 1 Axes>"
      ]
     },
     "metadata": {
      "needs_background": "light"
     },
     "output_type": "display_data"
    }
   ],
   "source": [
    "#sns.histplot(data = diabetes, x = 'Diabetes_Number', log_scale= True)\n",
    "plt.hist(diabetes['ln_diabetes'], log = True)\n",
    "plt.title(\"Distribution of County Diabetes Cases\")\n",
    "plt.xlabel(\"Log of Cases\");"
   ]
  },
  {
   "cell_type": "markdown",
   "metadata": {},
   "source": [
    "The plot below shows that the percentage of people with diabetes is roughly normally distributed across counties, with a mean around 10%. This corresponds to the percentage of the population with diabetes reported by the [American Diabetes Association](https://www.diabetes.org/resources/statistics/statistics-about-diabetes). "
   ]
  },
  {
   "cell_type": "code",
   "execution_count": 91,
   "metadata": {},
   "outputs": [
    {
     "data": {
      "image/png": "[encoded data removed]",
      "text/plain": [
       "<Figure size 432x288 with 1 Axes>"
      ]
     },
     "metadata": {
      "needs_background": "light"
     },
     "output_type": "display_data"
    }
   ],
   "source": [
    "# diabetes per 100 people\n",
    "#sns.histplot(data = diabetes, x = 'diabetes_per100', kde = True)\n",
    "plt.hist(diabetes[\"diabetes_per100\"])\n",
    "plt.title(\"Distribution of County Diabetes Cases per 100 People\")\n",
    "plt.xlabel(\"Cases per 100 People\");"
   ]
  },
  {
   "cell_type": "markdown",
   "metadata": {},
   "source": [
    "**Diabetes and Level of Inactivity**\n",
    "\n",
    "We suspect there might be a relationship between diabetes and level of inactivity. To explore this, we plot the linear regression line of physical inactivity on diabetes cases, at the county level. We first log both numbers. The plot below also includes a scatter plot of the underlying data. There is a linear relationship between number of diabetes cases and number of people who are physically inactive. There is greater variation around the middle of the distribution. This implies that the number of inactive people might not be a good linear predictor for the number of diabetes cases in counties with cases around the middle of the distribution. "
   ]
  },
  {
   "cell_type": "code",
   "execution_count": 92,
   "metadata": {},
   "outputs": [
    {
     "data": {
      "image/png": "[encoded data removed]",
      "text/plain": [
       "<Figure size 432x288 with 1 Axes>"
      ]
     },
     "metadata": {
      "needs_background": "light"
     },
     "output_type": "display_data"
    }
   ],
   "source": [
    "# take log of physically inactive\n",
    "diabetes['ln_inactive'] = np.log(diabetes[\"Physical_Inactivity_Number\"])\n",
    "\n",
    "sns.regplot(data = diabetes, x = 'ln_diabetes', y = 'ln_inactive', scatter = True)\n",
    "plt.title(\"Diabetes vs. Physical Inactivity by County\")\n",
    "plt.xlabel(\"Log of Cases of Diabetes\")\n",
    "plt.ylabel(\"Log of Count of Physical Inactivity\");"
   ]
  },
  {
   "cell_type": "markdown",
   "metadata": {},
   "source": [
    "There is similarly a linear relationship between diabetes cases and the number of obese people at the county level. Again, this relationship seems weakest around the middle of the distribution, where there is greater variation, and it is not clear that increasing cases of obesity would predict increasing cases of diabetes. "
   ]
  },
  {
   "cell_type": "markdown",
   "metadata": {},
   "source": [
    "__Diabetes and obesity__"
   ]
  },
  {
   "cell_type": "code",
   "execution_count": 93,
   "metadata": {},
   "outputs": [
    {
     "data": {
      "image/png": "[encoded data removed]",
      "text/plain": [
       "<Figure size 432x288 with 1 Axes>"
      ]
     },
     "metadata": {
      "needs_background": "light"
     },
     "output_type": "display_data"
    }
   ],
   "source": [
    "# Diabetes and obesity\n",
    "diabetes['ln_obesity'] = np.log(diabetes[\"Obesity_Number\"])\n",
    "\n",
    "sns.regplot(data = diabetes, x = 'ln_diabetes', y = 'ln_obesity', scatter = True)\n",
    "plt.title(\"Diabetes vs. Obesity  by County\")\n",
    "plt.xlabel(\"Log of Cases of Diabetes\")\n",
    "plt.ylabel(\"Log of cases of Obesity\");"
   ]
  },
  {
   "cell_type": "markdown",
   "metadata": {},
   "source": [
    "**Diabetes and Demographic Characteristics**\n",
    "\n",
    "Our data contains county population counts by sex, race, and age (and interactions of all three). It is possible that upstream social factors that vary by gender, such as diet or activity levels, impact rates of diabetes. Although we do not observe the rates of diabetes differentially for men and women (the only genders reported in the ACS), we can see if counties with a higher male to female ratio have higher or lower rates of diabetes. For this, we create a dummy variable indicating if a county has more or equal number of women than men (female_cnty). We then plot a box-and-whisker diagram of cases per 100 people for the two types of county.\n",
    "\n",
    "The plot below shows that for counties with equal or higher numbers of women than men, their rate of diabetes is slightly higher (orange plot). However, there is not a large difference and it may not be significant.  \n"
   ]
  },
  {
   "cell_type": "code",
   "execution_count": 94,
   "metadata": {},
   "outputs": [],
   "source": [
    "# dummy for a county having more or equal number of women to men\n",
    "diabetes['female_cnty'] = 1*(diabetes['sex and age_total population_sex ratio (males per 100 females)'] <=100) \\\n",
    "+ 0*(diabetes['sex and age_total population_sex ratio (males per 100 females)'] > 100)\n",
    "#diabetes['female_cnty']"
   ]
  },
  {
   "cell_type": "code",
   "execution_count": 95,
   "metadata": {},
   "outputs": [
    {
     "data": {
      "image/png": "[encoded data removed]",
      "text/plain": [
       "<Figure size 432x288 with 1 Axes>"
      ]
     },
     "metadata": {
      "needs_background": "light"
     },
     "output_type": "display_data"
    }
   ],
   "source": [
    "sns.boxplot(data = diabetes, x = 'female_cnty', y = 'diabetes_per100')\n",
    "plt.title('Distribution of per capita Diabetes by Sex Ratio of County')\n",
    "plt.xlabel('County Type')\n",
    "plt.ylabel('Diabetes Cases per 100 People');"
   ]
  },
  {
   "cell_type": "markdown",
   "metadata": {},
   "source": [
    "## 3. Data perperation for machnine learning models."
   ]
  },
  {
   "cell_type": "markdown",
   "metadata": {},
   "source": [
    "In this next section we prepare the data so we can use it to fir machine learning models. Our process includes additional data cleaning steps, data partition, and preliminary feature selection."
   ]
  },
  {
   "cell_type": "markdown",
   "metadata": {},
   "source": [
    "### 3.1 Additional data cleaning\n",
    "\n",
    "We remove geographic features and variables we created for data exploration."
   ]
  },
  {
   "cell_type": "code",
   "execution_count": 96,
   "metadata": {},
   "outputs": [
    {
     "data": {
      "text/plain": [
       "(3219, 92)"
      ]
     },
     "execution_count": 96,
     "metadata": {},
     "output_type": "execute_result"
    }
   ],
   "source": [
    "# We create a new variable to store the clean dataset\n",
    "diabetes_clean = diabetes \n",
    "\n",
    "# We drop variables that shouldn't be used in the analysis\n",
    "diabetes_clean = diabetes_clean.drop([ 'State' ,'County','CountyFIPS' # columns with geographic information\n",
    "                                       ,'diabetes_per100','ln_diabetes','ln_inactive','ln_obesity','female_cnty' #Data exploration variables\n",
    "                                     ], axis=1)\n",
    "diabetes_clean.shape"
   ]
  },
  {
   "cell_type": "code",
   "execution_count": 97,
   "metadata": {},
   "outputs": [
    {
     "data": {
      "text/plain": [
       "(3112, 92)"
      ]
     },
     "execution_count": 97,
     "metadata": {},
     "output_type": "execute_result"
    }
   ],
   "source": [
    "#Remove all rows with missing values\n",
    "diabetes_clean = diabetes_clean.dropna()\n",
    "diabetes_clean.shape"
   ]
  },
  {
   "cell_type": "markdown",
   "metadata": {},
   "source": [
    "### 3.2 Partition data\n",
    "\n",
    "We start by first creating a binary variable for high diabetes cases indicator based on median split and separating the response from the features:"
   ]
  },
  {
   "cell_type": "code",
   "execution_count": 183,
   "metadata": {},
   "outputs": [
    {
     "data": {
      "text/html": [
       "<div>\n",
       "<style scoped>\n",
       "    .dataframe tbody tr th:only-of-type {\n",
       "        vertical-align: middle;\n",
       "    }\n",
       "\n",
       "    .dataframe tbody tr th {\n",
       "        vertical-align: top;\n",
       "    }\n",
       "\n",
       "    .dataframe thead th {\n",
       "        text-align: right;\n",
       "    }\n",
       "</style>\n",
       "<table border=\"1\" class=\"dataframe\">\n",
       "  <thead>\n",
       "    <tr style=\"text-align: right;\">\n",
       "      <th></th>\n",
       "      <th>Diabetes_Number</th>\n",
       "      <th>Obesity_Number</th>\n",
       "      <th>Physical_Inactivity_Number</th>\n",
       "      <th>sex and age_total population_65 years and over_sex ratio (males per 100 females)</th>\n",
       "      <th>race_total population</th>\n",
       "      <th>race_total population_one race</th>\n",
       "      <th>race_total population_two or more races</th>\n",
       "      <th>race_total population_one race_1</th>\n",
       "      <th>race_total population_one race_white</th>\n",
       "      <th>race_total population_one race_black or african american</th>\n",
       "      <th>...</th>\n",
       "      <th>sex and age_total population_65 years and over</th>\n",
       "      <th>sex and age_total population_18 years and over_1</th>\n",
       "      <th>sex and age_total population_18 years and over_male</th>\n",
       "      <th>sex and age_total population_18 years and over_female</th>\n",
       "      <th>sex and age_total population_18 years and over_sex ratio (males per 100 females)</th>\n",
       "      <th>sex and age_total population_65 years and over_1</th>\n",
       "      <th>sex and age_total population_65 years and over_male</th>\n",
       "      <th>sex and age_total population_65 years and over_female</th>\n",
       "      <th>diabetes_cat</th>\n",
       "      <th>diabetes_binary</th>\n",
       "    </tr>\n",
       "  </thead>\n",
       "  <tbody>\n",
       "    <tr>\n",
       "      <th>0</th>\n",
       "      <td>5178.0</td>\n",
       "      <td>13489.0</td>\n",
       "      <td>12525.0</td>\n",
       "      <td>76.5</td>\n",
       "      <td>55200</td>\n",
       "      <td>54170</td>\n",
       "      <td>1030</td>\n",
       "      <td>54170</td>\n",
       "      <td>42437</td>\n",
       "      <td>10565</td>\n",
       "      <td>...</td>\n",
       "      <td>8050</td>\n",
       "      <td>41831</td>\n",
       "      <td>20054</td>\n",
       "      <td>21777</td>\n",
       "      <td>92.1</td>\n",
       "      <td>8050</td>\n",
       "      <td>3488</td>\n",
       "      <td>4562</td>\n",
       "      <td>&gt;= 2609</td>\n",
       "      <td>0</td>\n",
       "    </tr>\n",
       "    <tr>\n",
       "      <th>1</th>\n",
       "      <td>16707.0</td>\n",
       "      <td>48542.0</td>\n",
       "      <td>40024.0</td>\n",
       "      <td>86.6</td>\n",
       "      <td>208107</td>\n",
       "      <td>204535</td>\n",
       "      <td>3572</td>\n",
       "      <td>204535</td>\n",
       "      <td>179526</td>\n",
       "      <td>19764</td>\n",
       "      <td>...</td>\n",
       "      <td>40665</td>\n",
       "      <td>162430</td>\n",
       "      <td>78104</td>\n",
       "      <td>84326</td>\n",
       "      <td>92.6</td>\n",
       "      <td>40665</td>\n",
       "      <td>18870</td>\n",
       "      <td>21795</td>\n",
       "      <td>&gt;= 2609</td>\n",
       "      <td>0</td>\n",
       "    </tr>\n",
       "    <tr>\n",
       "      <th>2</th>\n",
       "      <td>3400.0</td>\n",
       "      <td>8009.0</td>\n",
       "      <td>5431.0</td>\n",
       "      <td>76.2</td>\n",
       "      <td>25782</td>\n",
       "      <td>25429</td>\n",
       "      <td>353</td>\n",
       "      <td>25429</td>\n",
       "      <td>12216</td>\n",
       "      <td>12266</td>\n",
       "      <td>...</td>\n",
       "      <td>4634</td>\n",
       "      <td>20346</td>\n",
       "      <td>10923</td>\n",
       "      <td>9423</td>\n",
       "      <td>115.9</td>\n",
       "      <td>4634</td>\n",
       "      <td>2004</td>\n",
       "      <td>2630</td>\n",
       "      <td>&gt;= 2609</td>\n",
       "      <td>0</td>\n",
       "    </tr>\n",
       "    <tr>\n",
       "      <th>3</th>\n",
       "      <td>2371.0</td>\n",
       "      <td>6534.0</td>\n",
       "      <td>5827.0</td>\n",
       "      <td>80.5</td>\n",
       "      <td>22527</td>\n",
       "      <td>22340</td>\n",
       "      <td>187</td>\n",
       "      <td>22340</td>\n",
       "      <td>17268</td>\n",
       "      <td>5018</td>\n",
       "      <td>...</td>\n",
       "      <td>3661</td>\n",
       "      <td>17868</td>\n",
       "      <td>9578</td>\n",
       "      <td>8290</td>\n",
       "      <td>115.5</td>\n",
       "      <td>3661</td>\n",
       "      <td>1633</td>\n",
       "      <td>2028</td>\n",
       "      <td>&lt; 2609</td>\n",
       "      <td>1</td>\n",
       "    </tr>\n",
       "    <tr>\n",
       "      <th>4</th>\n",
       "      <td>6282.0</td>\n",
       "      <td>14227.0</td>\n",
       "      <td>14365.0</td>\n",
       "      <td>79.7</td>\n",
       "      <td>57645</td>\n",
       "      <td>56710</td>\n",
       "      <td>935</td>\n",
       "      <td>56710</td>\n",
       "      <td>55054</td>\n",
       "      <td>862</td>\n",
       "      <td>...</td>\n",
       "      <td>10233</td>\n",
       "      <td>44177</td>\n",
       "      <td>21595</td>\n",
       "      <td>22582</td>\n",
       "      <td>95.6</td>\n",
       "      <td>10233</td>\n",
       "      <td>4540</td>\n",
       "      <td>5693</td>\n",
       "      <td>&gt;= 2609</td>\n",
       "      <td>0</td>\n",
       "    </tr>\n",
       "  </tbody>\n",
       "</table>\n",
       "<p>5 rows × 94 columns</p>\n",
       "</div>"
      ],
      "text/plain": [
       "   Diabetes_Number  Obesity_Number  Physical_Inactivity_Number  \\\n",
       "0           5178.0         13489.0                     12525.0   \n",
       "1          16707.0         48542.0                     40024.0   \n",
       "2           3400.0          8009.0                      5431.0   \n",
       "3           2371.0          6534.0                      5827.0   \n",
       "4           6282.0         14227.0                     14365.0   \n",
       "\n",
       "   sex and age_total population_65 years and over_sex ratio (males per 100 females)  \\\n",
       "0                                               76.5                                  \n",
       "1                                               86.6                                  \n",
       "2                                               76.2                                  \n",
       "3                                               80.5                                  \n",
       "4                                               79.7                                  \n",
       "\n",
       "   race_total population  race_total population_one race  \\\n",
       "0                  55200                           54170   \n",
       "1                 208107                          204535   \n",
       "2                  25782                           25429   \n",
       "3                  22527                           22340   \n",
       "4                  57645                           56710   \n",
       "\n",
       "   race_total population_two or more races  race_total population_one race_1  \\\n",
       "0                                     1030                             54170   \n",
       "1                                     3572                            204535   \n",
       "2                                      353                             25429   \n",
       "3                                      187                             22340   \n",
       "4                                      935                             56710   \n",
       "\n",
       "   race_total population_one race_white  \\\n",
       "0                                 42437   \n",
       "1                                179526   \n",
       "2                                 12216   \n",
       "3                                 17268   \n",
       "4                                 55054   \n",
       "\n",
       "   race_total population_one race_black or african american  ...  \\\n",
       "0                                              10565         ...   \n",
       "1                                              19764         ...   \n",
       "2                                              12266         ...   \n",
       "3                                               5018         ...   \n",
       "4                                                862         ...   \n",
       "\n",
       "   sex and age_total population_65 years and over  \\\n",
       "0                                            8050   \n",
       "1                                           40665   \n",
       "2                                            4634   \n",
       "3                                            3661   \n",
       "4                                           10233   \n",
       "\n",
       "   sex and age_total population_18 years and over_1  \\\n",
       "0                                             41831   \n",
       "1                                            162430   \n",
       "2                                             20346   \n",
       "3                                             17868   \n",
       "4                                             44177   \n",
       "\n",
       "   sex and age_total population_18 years and over_male  \\\n",
       "0                                              20054     \n",
       "1                                              78104     \n",
       "2                                              10923     \n",
       "3                                               9578     \n",
       "4                                              21595     \n",
       "\n",
       "   sex and age_total population_18 years and over_female  \\\n",
       "0                                              21777       \n",
       "1                                              84326       \n",
       "2                                               9423       \n",
       "3                                               8290       \n",
       "4                                              22582       \n",
       "\n",
       "   sex and age_total population_18 years and over_sex ratio (males per 100 females)  \\\n",
       "0                                               92.1                                  \n",
       "1                                               92.6                                  \n",
       "2                                              115.9                                  \n",
       "3                                              115.5                                  \n",
       "4                                               95.6                                  \n",
       "\n",
       "   sex and age_total population_65 years and over_1  \\\n",
       "0                                              8050   \n",
       "1                                             40665   \n",
       "2                                              4634   \n",
       "3                                              3661   \n",
       "4                                             10233   \n",
       "\n",
       "   sex and age_total population_65 years and over_male  \\\n",
       "0                                               3488     \n",
       "1                                              18870     \n",
       "2                                               2004     \n",
       "3                                               1633     \n",
       "4                                               4540     \n",
       "\n",
       "   sex and age_total population_65 years and over_female  diabetes_cat  \\\n",
       "0                                               4562           >= 2609   \n",
       "1                                              21795           >= 2609   \n",
       "2                                               2630           >= 2609   \n",
       "3                                               2028            < 2609   \n",
       "4                                               5693           >= 2609   \n",
       "\n",
       "   diabetes_binary  \n",
       "0                0  \n",
       "1                0  \n",
       "2                0  \n",
       "3                1  \n",
       "4                0  \n",
       "\n",
       "[5 rows x 94 columns]"
      ]
     },
     "execution_count": 183,
     "metadata": {},
     "output_type": "execute_result"
    }
   ],
   "source": [
    "# create a binary variable for logistic regression\n",
    "# diabetes_clean.describe() #median of Diabetes counts is 2609 [high diabetes: >2609 and low diabetes <=2609]\n",
    "diabetes_clean.loc[diabetes_clean['Diabetes_Number'] < 2609, 'diabetes_cat'] = \"< 2609\"\n",
    "diabetes_clean.loc[diabetes_clean['Diabetes_Number'] >= 2609, 'diabetes_cat'] = \">= 2609\"\n",
    "diabetes_clean.head()\n"
   ]
  },
  {
   "cell_type": "code",
   "execution_count": 184,
   "metadata": {},
   "outputs": [
    {
     "data": {
      "text/html": [
       "<div>\n",
       "<style scoped>\n",
       "    .dataframe tbody tr th:only-of-type {\n",
       "        vertical-align: middle;\n",
       "    }\n",
       "\n",
       "    .dataframe tbody tr th {\n",
       "        vertical-align: top;\n",
       "    }\n",
       "\n",
       "    .dataframe thead th {\n",
       "        text-align: right;\n",
       "    }\n",
       "</style>\n",
       "<table border=\"1\" class=\"dataframe\">\n",
       "  <thead>\n",
       "    <tr style=\"text-align: right;\">\n",
       "      <th></th>\n",
       "      <th>Diabetes_Number</th>\n",
       "      <th>Obesity_Number</th>\n",
       "      <th>Physical_Inactivity_Number</th>\n",
       "      <th>sex and age_total population_65 years and over_sex ratio (males per 100 females)</th>\n",
       "      <th>race_total population</th>\n",
       "      <th>race_total population_one race</th>\n",
       "      <th>race_total population_two or more races</th>\n",
       "      <th>race_total population_one race_1</th>\n",
       "      <th>race_total population_one race_white</th>\n",
       "      <th>race_total population_one race_black or african american</th>\n",
       "      <th>...</th>\n",
       "      <th>sex and age_total population_65 years and over</th>\n",
       "      <th>sex and age_total population_18 years and over_1</th>\n",
       "      <th>sex and age_total population_18 years and over_male</th>\n",
       "      <th>sex and age_total population_18 years and over_female</th>\n",
       "      <th>sex and age_total population_18 years and over_sex ratio (males per 100 females)</th>\n",
       "      <th>sex and age_total population_65 years and over_1</th>\n",
       "      <th>sex and age_total population_65 years and over_male</th>\n",
       "      <th>sex and age_total population_65 years and over_female</th>\n",
       "      <th>diabetes_cat</th>\n",
       "      <th>diabetes_binary</th>\n",
       "    </tr>\n",
       "  </thead>\n",
       "  <tbody>\n",
       "    <tr>\n",
       "      <th>0</th>\n",
       "      <td>5178.0</td>\n",
       "      <td>13489.0</td>\n",
       "      <td>12525.0</td>\n",
       "      <td>76.5</td>\n",
       "      <td>55200</td>\n",
       "      <td>54170</td>\n",
       "      <td>1030</td>\n",
       "      <td>54170</td>\n",
       "      <td>42437</td>\n",
       "      <td>10565</td>\n",
       "      <td>...</td>\n",
       "      <td>8050</td>\n",
       "      <td>41831</td>\n",
       "      <td>20054</td>\n",
       "      <td>21777</td>\n",
       "      <td>92.1</td>\n",
       "      <td>8050</td>\n",
       "      <td>3488</td>\n",
       "      <td>4562</td>\n",
       "      <td>&gt;= 2609</td>\n",
       "      <td>1</td>\n",
       "    </tr>\n",
       "    <tr>\n",
       "      <th>1</th>\n",
       "      <td>16707.0</td>\n",
       "      <td>48542.0</td>\n",
       "      <td>40024.0</td>\n",
       "      <td>86.6</td>\n",
       "      <td>208107</td>\n",
       "      <td>204535</td>\n",
       "      <td>3572</td>\n",
       "      <td>204535</td>\n",
       "      <td>179526</td>\n",
       "      <td>19764</td>\n",
       "      <td>...</td>\n",
       "      <td>40665</td>\n",
       "      <td>162430</td>\n",
       "      <td>78104</td>\n",
       "      <td>84326</td>\n",
       "      <td>92.6</td>\n",
       "      <td>40665</td>\n",
       "      <td>18870</td>\n",
       "      <td>21795</td>\n",
       "      <td>&gt;= 2609</td>\n",
       "      <td>1</td>\n",
       "    </tr>\n",
       "    <tr>\n",
       "      <th>2</th>\n",
       "      <td>3400.0</td>\n",
       "      <td>8009.0</td>\n",
       "      <td>5431.0</td>\n",
       "      <td>76.2</td>\n",
       "      <td>25782</td>\n",
       "      <td>25429</td>\n",
       "      <td>353</td>\n",
       "      <td>25429</td>\n",
       "      <td>12216</td>\n",
       "      <td>12266</td>\n",
       "      <td>...</td>\n",
       "      <td>4634</td>\n",
       "      <td>20346</td>\n",
       "      <td>10923</td>\n",
       "      <td>9423</td>\n",
       "      <td>115.9</td>\n",
       "      <td>4634</td>\n",
       "      <td>2004</td>\n",
       "      <td>2630</td>\n",
       "      <td>&gt;= 2609</td>\n",
       "      <td>1</td>\n",
       "    </tr>\n",
       "    <tr>\n",
       "      <th>3</th>\n",
       "      <td>2371.0</td>\n",
       "      <td>6534.0</td>\n",
       "      <td>5827.0</td>\n",
       "      <td>80.5</td>\n",
       "      <td>22527</td>\n",
       "      <td>22340</td>\n",
       "      <td>187</td>\n",
       "      <td>22340</td>\n",
       "      <td>17268</td>\n",
       "      <td>5018</td>\n",
       "      <td>...</td>\n",
       "      <td>3661</td>\n",
       "      <td>17868</td>\n",
       "      <td>9578</td>\n",
       "      <td>8290</td>\n",
       "      <td>115.5</td>\n",
       "      <td>3661</td>\n",
       "      <td>1633</td>\n",
       "      <td>2028</td>\n",
       "      <td>&lt; 2609</td>\n",
       "      <td>0</td>\n",
       "    </tr>\n",
       "    <tr>\n",
       "      <th>4</th>\n",
       "      <td>6282.0</td>\n",
       "      <td>14227.0</td>\n",
       "      <td>14365.0</td>\n",
       "      <td>79.7</td>\n",
       "      <td>57645</td>\n",
       "      <td>56710</td>\n",
       "      <td>935</td>\n",
       "      <td>56710</td>\n",
       "      <td>55054</td>\n",
       "      <td>862</td>\n",
       "      <td>...</td>\n",
       "      <td>10233</td>\n",
       "      <td>44177</td>\n",
       "      <td>21595</td>\n",
       "      <td>22582</td>\n",
       "      <td>95.6</td>\n",
       "      <td>10233</td>\n",
       "      <td>4540</td>\n",
       "      <td>5693</td>\n",
       "      <td>&gt;= 2609</td>\n",
       "      <td>1</td>\n",
       "    </tr>\n",
       "    <tr>\n",
       "      <th>5</th>\n",
       "      <td>2321.0</td>\n",
       "      <td>3662.0</td>\n",
       "      <td>3333.0</td>\n",
       "      <td>73.6</td>\n",
       "      <td>10352</td>\n",
       "      <td>10352</td>\n",
       "      <td>0</td>\n",
       "      <td>10352</td>\n",
       "      <td>2276</td>\n",
       "      <td>7893</td>\n",
       "      <td>...</td>\n",
       "      <td>1616</td>\n",
       "      <td>8202</td>\n",
       "      <td>4527</td>\n",
       "      <td>3675</td>\n",
       "      <td>123.2</td>\n",
       "      <td>1616</td>\n",
       "      <td>685</td>\n",
       "      <td>931</td>\n",
       "      <td>&lt; 2609</td>\n",
       "      <td>0</td>\n",
       "    </tr>\n",
       "    <tr>\n",
       "      <th>6</th>\n",
       "      <td>2910.0</td>\n",
       "      <td>6999.0</td>\n",
       "      <td>6027.0</td>\n",
       "      <td>69.1</td>\n",
       "      <td>20025</td>\n",
       "      <td>19702</td>\n",
       "      <td>323</td>\n",
       "      <td>19702</td>\n",
       "      <td>10414</td>\n",
       "      <td>9055</td>\n",
       "      <td>...</td>\n",
       "      <td>3806</td>\n",
       "      <td>15459</td>\n",
       "      <td>6967</td>\n",
       "      <td>8492</td>\n",
       "      <td>82.0</td>\n",
       "      <td>3806</td>\n",
       "      <td>1555</td>\n",
       "      <td>2251</td>\n",
       "      <td>&gt;= 2609</td>\n",
       "      <td>1</td>\n",
       "    </tr>\n",
       "    <tr>\n",
       "      <th>7</th>\n",
       "      <td>14692.0</td>\n",
       "      <td>34366.0</td>\n",
       "      <td>26949.0</td>\n",
       "      <td>73.7</td>\n",
       "      <td>115098</td>\n",
       "      <td>112362</td>\n",
       "      <td>2736</td>\n",
       "      <td>112362</td>\n",
       "      <td>85558</td>\n",
       "      <td>23676</td>\n",
       "      <td>...</td>\n",
       "      <td>19386</td>\n",
       "      <td>89902</td>\n",
       "      <td>42495</td>\n",
       "      <td>47407</td>\n",
       "      <td>89.6</td>\n",
       "      <td>19386</td>\n",
       "      <td>8223</td>\n",
       "      <td>11163</td>\n",
       "      <td>&gt;= 2609</td>\n",
       "      <td>1</td>\n",
       "    </tr>\n",
       "    <tr>\n",
       "      <th>8</th>\n",
       "      <td>4787.0</td>\n",
       "      <td>10974.0</td>\n",
       "      <td>7461.0</td>\n",
       "      <td>73.3</td>\n",
       "      <td>33826</td>\n",
       "      <td>33479</td>\n",
       "      <td>347</td>\n",
       "      <td>33479</td>\n",
       "      <td>19483</td>\n",
       "      <td>13319</td>\n",
       "      <td>...</td>\n",
       "      <td>6409</td>\n",
       "      <td>26820</td>\n",
       "      <td>12684</td>\n",
       "      <td>14136</td>\n",
       "      <td>89.7</td>\n",
       "      <td>6409</td>\n",
       "      <td>2711</td>\n",
       "      <td>3698</td>\n",
       "      <td>&gt;= 2609</td>\n",
       "      <td>1</td>\n",
       "    </tr>\n",
       "    <tr>\n",
       "      <th>9</th>\n",
       "      <td>3176.0</td>\n",
       "      <td>7767.0</td>\n",
       "      <td>6136.0</td>\n",
       "      <td>86.7</td>\n",
       "      <td>25853</td>\n",
       "      <td>25645</td>\n",
       "      <td>208</td>\n",
       "      <td>25645</td>\n",
       "      <td>23997</td>\n",
       "      <td>1267</td>\n",
       "      <td>...</td>\n",
       "      <td>5621</td>\n",
       "      <td>20567</td>\n",
       "      <td>10167</td>\n",
       "      <td>10400</td>\n",
       "      <td>97.8</td>\n",
       "      <td>5621</td>\n",
       "      <td>2611</td>\n",
       "      <td>3010</td>\n",
       "      <td>&gt;= 2609</td>\n",
       "      <td>1</td>\n",
       "    </tr>\n",
       "  </tbody>\n",
       "</table>\n",
       "<p>10 rows × 94 columns</p>\n",
       "</div>"
      ],
      "text/plain": [
       "   Diabetes_Number  Obesity_Number  Physical_Inactivity_Number  \\\n",
       "0           5178.0         13489.0                     12525.0   \n",
       "1          16707.0         48542.0                     40024.0   \n",
       "2           3400.0          8009.0                      5431.0   \n",
       "3           2371.0          6534.0                      5827.0   \n",
       "4           6282.0         14227.0                     14365.0   \n",
       "5           2321.0          3662.0                      3333.0   \n",
       "6           2910.0          6999.0                      6027.0   \n",
       "7          14692.0         34366.0                     26949.0   \n",
       "8           4787.0         10974.0                      7461.0   \n",
       "9           3176.0          7767.0                      6136.0   \n",
       "\n",
       "   sex and age_total population_65 years and over_sex ratio (males per 100 females)  \\\n",
       "0                                               76.5                                  \n",
       "1                                               86.6                                  \n",
       "2                                               76.2                                  \n",
       "3                                               80.5                                  \n",
       "4                                               79.7                                  \n",
       "5                                               73.6                                  \n",
       "6                                               69.1                                  \n",
       "7                                               73.7                                  \n",
       "8                                               73.3                                  \n",
       "9                                               86.7                                  \n",
       "\n",
       "   race_total population  race_total population_one race  \\\n",
       "0                  55200                           54170   \n",
       "1                 208107                          204535   \n",
       "2                  25782                           25429   \n",
       "3                  22527                           22340   \n",
       "4                  57645                           56710   \n",
       "5                  10352                           10352   \n",
       "6                  20025                           19702   \n",
       "7                 115098                          112362   \n",
       "8                  33826                           33479   \n",
       "9                  25853                           25645   \n",
       "\n",
       "   race_total population_two or more races  race_total population_one race_1  \\\n",
       "0                                     1030                             54170   \n",
       "1                                     3572                            204535   \n",
       "2                                      353                             25429   \n",
       "3                                      187                             22340   \n",
       "4                                      935                             56710   \n",
       "5                                        0                             10352   \n",
       "6                                      323                             19702   \n",
       "7                                     2736                            112362   \n",
       "8                                      347                             33479   \n",
       "9                                      208                             25645   \n",
       "\n",
       "   race_total population_one race_white  \\\n",
       "0                                 42437   \n",
       "1                                179526   \n",
       "2                                 12216   \n",
       "3                                 17268   \n",
       "4                                 55054   \n",
       "5                                  2276   \n",
       "6                                 10414   \n",
       "7                                 85558   \n",
       "8                                 19483   \n",
       "9                                 23997   \n",
       "\n",
       "   race_total population_one race_black or african american  ...  \\\n",
       "0                                              10565         ...   \n",
       "1                                              19764         ...   \n",
       "2                                              12266         ...   \n",
       "3                                               5018         ...   \n",
       "4                                                862         ...   \n",
       "5                                               7893         ...   \n",
       "6                                               9055         ...   \n",
       "7                                              23676         ...   \n",
       "8                                              13319         ...   \n",
       "9                                               1267         ...   \n",
       "\n",
       "   sex and age_total population_65 years and over  \\\n",
       "0                                            8050   \n",
       "1                                           40665   \n",
       "2                                            4634   \n",
       "3                                            3661   \n",
       "4                                           10233   \n",
       "5                                            1616   \n",
       "6                                            3806   \n",
       "7                                           19386   \n",
       "8                                            6409   \n",
       "9                                            5621   \n",
       "\n",
       "   sex and age_total population_18 years and over_1  \\\n",
       "0                                             41831   \n",
       "1                                            162430   \n",
       "2                                             20346   \n",
       "3                                             17868   \n",
       "4                                             44177   \n",
       "5                                              8202   \n",
       "6                                             15459   \n",
       "7                                             89902   \n",
       "8                                             26820   \n",
       "9                                             20567   \n",
       "\n",
       "   sex and age_total population_18 years and over_male  \\\n",
       "0                                              20054     \n",
       "1                                              78104     \n",
       "2                                              10923     \n",
       "3                                               9578     \n",
       "4                                              21595     \n",
       "5                                               4527     \n",
       "6                                               6967     \n",
       "7                                              42495     \n",
       "8                                              12684     \n",
       "9                                              10167     \n",
       "\n",
       "   sex and age_total population_18 years and over_female  \\\n",
       "0                                              21777       \n",
       "1                                              84326       \n",
       "2                                               9423       \n",
       "3                                               8290       \n",
       "4                                              22582       \n",
       "5                                               3675       \n",
       "6                                               8492       \n",
       "7                                              47407       \n",
       "8                                              14136       \n",
       "9                                              10400       \n",
       "\n",
       "   sex and age_total population_18 years and over_sex ratio (males per 100 females)  \\\n",
       "0                                               92.1                                  \n",
       "1                                               92.6                                  \n",
       "2                                              115.9                                  \n",
       "3                                              115.5                                  \n",
       "4                                               95.6                                  \n",
       "5                                              123.2                                  \n",
       "6                                               82.0                                  \n",
       "7                                               89.6                                  \n",
       "8                                               89.7                                  \n",
       "9                                               97.8                                  \n",
       "\n",
       "   sex and age_total population_65 years and over_1  \\\n",
       "0                                              8050   \n",
       "1                                             40665   \n",
       "2                                              4634   \n",
       "3                                              3661   \n",
       "4                                             10233   \n",
       "5                                              1616   \n",
       "6                                              3806   \n",
       "7                                             19386   \n",
       "8                                              6409   \n",
       "9                                              5621   \n",
       "\n",
       "   sex and age_total population_65 years and over_male  \\\n",
       "0                                               3488     \n",
       "1                                              18870     \n",
       "2                                               2004     \n",
       "3                                               1633     \n",
       "4                                               4540     \n",
       "5                                                685     \n",
       "6                                               1555     \n",
       "7                                               8223     \n",
       "8                                               2711     \n",
       "9                                               2611     \n",
       "\n",
       "   sex and age_total population_65 years and over_female  diabetes_cat  \\\n",
       "0                                               4562           >= 2609   \n",
       "1                                              21795           >= 2609   \n",
       "2                                               2630           >= 2609   \n",
       "3                                               2028            < 2609   \n",
       "4                                               5693           >= 2609   \n",
       "5                                                931            < 2609   \n",
       "6                                               2251           >= 2609   \n",
       "7                                              11163           >= 2609   \n",
       "8                                               3698           >= 2609   \n",
       "9                                               3010           >= 2609   \n",
       "\n",
       "   diabetes_binary  \n",
       "0                1  \n",
       "1                1  \n",
       "2                1  \n",
       "3                0  \n",
       "4                1  \n",
       "5                0  \n",
       "6                1  \n",
       "7                1  \n",
       "8                1  \n",
       "9                1  \n",
       "\n",
       "[10 rows x 94 columns]"
      ]
     },
     "execution_count": 184,
     "metadata": {},
     "output_type": "execute_result"
    }
   ],
   "source": [
    "from sklearn.preprocessing import LabelBinarizer\n",
    "\n",
    "lb_style = LabelBinarizer()\n",
    "diabetes_clean['diabetes_binary'] = lb_style.fit_transform(diabetes_clean[\"diabetes_cat\"])\n",
    "diabetes_clean.head(10)"
   ]
  },
  {
   "cell_type": "markdown",
   "metadata": {},
   "source": [
    "### C. Feature selection\n",
    "\n",
    "We examine the correlation of the sociodemographic variables included in the sample and select only ones with low correltation with one another. Because much of the vraibles in regrads to the racial composition and the sex distribution in the counties are related, not doing so will lead our models to not converge. Hence, driven both by prior literature/theory and the correlation of these variables in our dataset, we select obesity and physical activity counts, the distribution of each broadly defined racial group (white, Black/African American, American Indian/Aaska Native, Native Hawaiian/Pacific Islander, and Hispanic/Latino), eligible voters, and total housing units in each county. Although limited, we believe these features will allow us to estimate the influence of historical and institutional practices that continue to disproportionately burden marginalized populations around the country, while using physical inactivity and housing avaiablity as a proxy to account for the avaiablility of health promoting resources. "
   ]
  },
  {
   "cell_type": "code",
   "execution_count": 133,
   "metadata": {},
   "outputs": [],
   "source": [
    "#cols = diabetes_clean.columns.tolist()\n",
    "#cols\n",
    "# list of variable names (long)\n",
    "#list(diabetes_clean.columns.values)"
   ]
  },
  {
   "cell_type": "code",
   "execution_count": 134,
   "metadata": {},
   "outputs": [],
   "source": [
    "#pd.set_option('display.max_rows', None)\n",
    "#diabetes_clean.corr()\n",
    "#diabetes_clean.corr()['race_total population']\n",
    "#diabetes_clean.corr()['total housing units']\n",
    "#diabetes_clean.corr()['race_total population_one race_white']\n",
    "#diabetes_clean.corr()['race_total population_one race_white']\n",
    "#diabetes_clean.corr()['race_total population_one race_black or african american']\n",
    "#diabetes_clean.corr()['race_total population_one race_american indian and alaska native']\n",
    "#diabetes_clean.corr()['race_total population_one race_asian']\n",
    "#diabetes_clean.corr()['citizen -  voting age population_citizen -  18 and over population']\n",
    "#diabetes_clean.corr()['sex and age_total population_sex ratio (males per 100 females)]"
   ]
  },
  {
   "cell_type": "code",
   "execution_count": 239,
   "metadata": {},
   "outputs": [],
   "source": [
    "X = diabetes_clean[['Obesity_Number',\n",
    "                    'Physical_Inactivity_Number',\n",
    "                   'race_total population_one race_white',\n",
    "                   'race_total population_one race_black or african american',\n",
    "                   'race_total population_one race_american indian and alaska native',\n",
    "                   'race_total population_one race_asian',\n",
    "                   'race_total population_one race_native hawaiian and other pacific islander',\n",
    "                   'total housing units',\n",
    "                   'hispanic or latino and race_total population_hispanic or latino (of any race)',\n",
    "                   'citizen -  voting age population_citizen -  18 and over population',\n",
    "                   'sex and age_total population_sex ratio (males per 100 females)' ]]\n",
    "Y =diabetes_clean['Diabetes_Number'] # for all other models\n",
    "Y1 = diabetes_clean['diabetes_binary'] # for logistic regression\n"
   ]
  },
  {
   "cell_type": "markdown",
   "metadata": {},
   "source": [
    "#### Training Set\n",
    "\n",
    "Since our dataset is small, we are interested in saving a relatively large portion (40%) of it for the test dataset, so that we can reduce overfitting. "
   ]
  },
  {
   "cell_type": "code",
   "execution_count": 249,
   "metadata": {},
   "outputs": [],
   "source": [
    "from sklearn.model_selection import train_test_split\n",
    "\n",
    "# set the random seed to ensure that results are similar across different runs and machines. \n",
    "np.random.seed(10)\n",
    "\n",
    "# split the data 4 ways:\n",
    "X_train, X_test, y_train, y_test = train_test_split(X, Y,\n",
    "                                                    train_size=0.80, test_size=0.20)"
   ]
  },
  {
   "cell_type": "code",
   "execution_count": 250,
   "metadata": {},
   "outputs": [],
   "source": [
    "# for logistic regression splitting the data 4 ways\n",
    "np.random.seed(10)\n",
    "\n",
    "# split the data 4 ways:\n",
    "X_train1, X_test1, y_train1, y_test1 = train_test_split(X, Y1,\n",
    "                                                    train_size=0.80, test_size=0.20)"
   ]
  },
  {
   "cell_type": "code",
   "execution_count": 242,
   "metadata": {},
   "outputs": [
    {
     "name": "stdout",
     "output_type": "stream",
     "text": [
      "Shape of X train is (2489, 11)\n",
      "Shape of y_train is (2489,)\n",
      "Shape of X_test is (623, 11)\n",
      "Shape of y_test is (623,)\n",
      "Shape of y_train1 is (2489,)\n",
      "Shape of y_test1 is (623,)\n"
     ]
    }
   ],
   "source": [
    "print(\"Shape of X train is\", X_train.shape)\n",
    "print(\"Shape of y_train is\", y_train.shape)\n",
    "print(\"Shape of X_test is\", X_test.shape)\n",
    "print(\"Shape of y_test is\", y_test.shape)\n",
    "print(\"Shape of y_train1 is\", y_train.shape)\n",
    "print(\"Shape of y_test1 is\", y_test.shape)"
   ]
  },
  {
   "cell_type": "markdown",
   "metadata": {},
   "source": [
    "#### Validation Set\n",
    "\n",
    "In order to tune our hyperparamters, we also set aside a validation data set from the training data. We subset 75% of our training data as validaton data. This gives a total split of training:validation:test as 45:15:40. "
   ]
  },
  {
   "cell_type": "code",
   "execution_count": 254,
   "metadata": {},
   "outputs": [],
   "source": [
    "X_train, X_validate, y_train, y_validate = train_test_split(X_train, y_train,\n",
    "                                                    train_size=0.75, test_size=0.25)"
   ]
  },
  {
   "cell_type": "code",
   "execution_count": 255,
   "metadata": {},
   "outputs": [],
   "source": [
    "# validation set for logistic regression\n",
    "X_train1, X_validate1, y_train1, y_validate1 = train_test_split(X_train1, y_train1,\n",
    "                                                    train_size=0.75, test_size=0.25)"
   ]
  },
  {
   "cell_type": "code",
   "execution_count": 244,
   "metadata": {},
   "outputs": [
    {
     "name": "stdout",
     "output_type": "stream",
     "text": [
      "Shape of X train is (1866, 11)\n",
      "Shape of y_train is (2489,)\n",
      "Shape of X_validate is (623, 11)\n",
      "Shape of y_validate is (623,)\n",
      "Shape of y_train is (1866,)\n",
      "Shape of y_validate is (623,)\n"
     ]
    }
   ],
   "source": [
    "print(\"Shape of X train is\", X_train.shape)\n",
    "print(\"Shape of y_train is\", y_train.shape)\n",
    "print(\"Shape of X_validate is\", X_validate.shape)\n",
    "print(\"Shape of y_validate is\", y_validate.shape)\n",
    "print(\"Shape of y_train is\", y_train1.shape)\n",
    "print(\"Shape of y_validate is\", y_validate1.shape)"
   ]
  },
  {
   "cell_type": "markdown",
   "metadata": {},
   "source": [
    "### D. Models selected\n",
    "1. Logistic Regression\n",
    "2. Random Forest\n",
    "3. Ridge Regression\n",
    "4. Lasso\n",
    "5. Nearest neighbors"
   ]
  },
  {
   "cell_type": "markdown",
   "metadata": {},
   "source": [
    "Below, we train each model on the training set and predict our outcome on the validation set."
   ]
  },
  {
   "cell_type": "markdown",
   "metadata": {},
   "source": [
    "#### 1. Logistic Regression"
   ]
  },
  {
   "cell_type": "code",
   "execution_count": 256,
   "metadata": {},
   "outputs": [
    {
     "name": "stdout",
     "output_type": "stream",
     "text": [
      "[[ 1.03883218e-03  3.56631238e-04 -3.79581459e-04 -3.40351946e-04\n",
      "  -4.13206122e-04 -3.65286844e-04 -3.64512014e-04 -1.09984260e-05\n",
      "   5.16997039e-05  3.56502858e-04 -6.81052653e-02]]\n",
      "[-0.00065423]\n"
     ]
    },
    {
     "name": "stderr",
     "output_type": "stream",
     "text": [
      "/Users/Elleni/opt/anaconda3/lib/python3.8/site-packages/sklearn/linear_model/_logistic.py:762: ConvergenceWarning: lbfgs failed to converge (status=1):\n",
      "STOP: TOTAL NO. of ITERATIONS REACHED LIMIT.\n",
      "\n",
      "Increase the number of iterations (max_iter) or scale the data as shown in:\n",
      "    https://scikit-learn.org/stable/modules/preprocessing.html\n",
      "Please also refer to the documentation for alternative solver options:\n",
      "    https://scikit-learn.org/stable/modules/linear_model.html#logistic-regression\n",
      "  n_iter_i = _check_optimize_result(\n"
     ]
    }
   ],
   "source": [
    "# create a model\n",
    "log_reg = LogisticRegression()\n",
    "\n",
    "# fit the model\n",
    "log_model = log_reg.fit(X_train1, y_train1)\n",
    "\n",
    "print(log_model.coef_)\n",
    "print(log_model.intercept_)"
   ]
  },
  {
   "cell_type": "markdown",
   "metadata": {},
   "source": [
    "Examine the coefficients via visualization"
   ]
  },
  {
   "cell_type": "code",
   "execution_count": 257,
   "metadata": {},
   "outputs": [],
   "source": [
    "# Create a dataframe with the coefficient and feature names\n",
    "log_reg_data = pd.DataFrame([log_model.coef_, X.columns]).T\n",
    "log_reg_data.columns= ['Coefficient', 'Feature']\n",
    "# Plot\n",
    "#ax = sns.barplot(x=\"Coefficient\", y=\"Feature\", data=log_reg_data)\n",
    "#ax.set_title(\"Logistic regression Coefficients\")\n",
    "#plt.show()"
   ]
  },
  {
   "cell_type": "code",
   "execution_count": 258,
   "metadata": {},
   "outputs": [
    {
     "data": {
      "image/png": "[encoded data removed]",
      "text/plain": [
       "<Figure size 432x288 with 1 Axes>"
      ]
     },
     "metadata": {
      "needs_background": "light"
     },
     "output_type": "display_data"
    }
   ],
   "source": [
    "# use the model to make predictions\n",
    "log_pred = log_model.predict(X_validate)\n",
    "\n",
    "# plot the predictions\n",
    "plt.scatter(y_validate1, log_pred)\n",
    "plt.title('Logistic Regression Model')\n",
    "plt.xlabel('actual values')\n",
    "plt.ylabel('predicted values')\n",
    "plt.show()"
   ]
  },
  {
   "cell_type": "markdown",
   "metadata": {},
   "source": [
    "#### 2. Random Forest"
   ]
  },
  {
   "cell_type": "code",
   "execution_count": 259,
   "metadata": {},
   "outputs": [],
   "source": [
    "rand_for=RandomForestRegressor()\n",
    "rand_model=rand_for.fit(X_train, y_train)\n",
    "rand_for_data = pd.DataFrame([rand_model.estimators_, X.columns]).T\n",
    "rand_for_data.columns = ['Estimator', 'Feature']\n"
   ]
  },
  {
   "cell_type": "code",
   "execution_count": 260,
   "metadata": {},
   "outputs": [
    {
     "data": {
      "image/png": "[encoded data removed]",
      "text/plain": [
       "<Figure size 432x288 with 1 Axes>"
      ]
     },
     "metadata": {
      "needs_background": "light"
     },
     "output_type": "display_data"
    }
   ],
   "source": [
    "# use the model to make predictions\n",
    "rand_pred = rand_model.predict(X_validate)\n",
    "\n",
    "# plot the predictions\n",
    "plt.scatter(y_validate, rand_pred)\n",
    "plt.title('Random Forest Model')\n",
    "plt.xlabel('actual values')\n",
    "plt.ylabel('predicted values')\n",
    "plt.show()"
   ]
  },
  {
   "cell_type": "markdown",
   "metadata": {},
   "source": [
    "#### 3. Ridge Regression"
   ]
  },
  {
   "cell_type": "code",
   "execution_count": 261,
   "metadata": {},
   "outputs": [
    {
     "data": {
      "image/png": "[encoded data removed]",
      "text/plain": [
       "<Figure size 432x288 with 1 Axes>"
      ]
     },
     "metadata": {
      "needs_background": "light"
     },
     "output_type": "display_data"
    }
   ],
   "source": [
    "# make and fit a Ridge regression model\n",
    "ridge_reg = Ridge() \n",
    "ridge_model = ridge_reg.fit(X_train, y_train)\n",
    "ridge_reg_data = pd.DataFrame([ridge_model.coef_, X.columns]).T\n",
    "ridge_reg_data.columns = ['Coefficient', 'Feature']\n",
    "ridge_reg_data.head()\n",
    "# Plot\n",
    "ax = sns.barplot(x=\"Coefficient\", y=\"Feature\", data=ridge_reg_data)\n",
    "ax.set_title(\"Ridge regression Coefficients\")\n",
    "plt.show()"
   ]
  },
  {
   "cell_type": "code",
   "execution_count": 262,
   "metadata": {},
   "outputs": [
    {
     "data": {
      "image/png": "[encoded data removed]",
      "text/plain": [
       "<Figure size 432x288 with 1 Axes>"
      ]
     },
     "metadata": {
      "needs_background": "light"
     },
     "output_type": "display_data"
    }
   ],
   "source": [
    "# use the model to make predictions\n",
    "ridge_pred = ridge_model.predict(X_validate)\n",
    "\n",
    "# plot the predictions\n",
    "plt.scatter(y_validate, ridge_pred)\n",
    "plt.title('Ridge Model')\n",
    "plt.xlabel('actual values')\n",
    "plt.ylabel('predicted values')\n",
    "plt.show()"
   ]
  },
  {
   "cell_type": "markdown",
   "metadata": {},
   "source": [
    "#### 4. Lasso"
   ]
  },
  {
   "cell_type": "code",
   "execution_count": 263,
   "metadata": {},
   "outputs": [
    {
     "name": "stderr",
     "output_type": "stream",
     "text": [
      "/Users/Elleni/opt/anaconda3/lib/python3.8/site-packages/sklearn/linear_model/_coordinate_descent.py:529: ConvergenceWarning: Objective did not converge. You might want to increase the number of iterations. Duality gap: 218804139.86617088, tolerance: 103766780.31295155\n",
      "  model = cd_fast.enet_coordinate_descent(\n"
     ]
    },
    {
     "data": {
      "image/png": "[encoded data removed]",
      "text/plain": [
       "<Figure size 432x288 with 1 Axes>"
      ]
     },
     "metadata": {
      "needs_background": "light"
     },
     "output_type": "display_data"
    }
   ],
   "source": [
    "# create and fit the model\n",
    "lasso_reg = Lasso(max_iter=10000)  \n",
    "lasso_model = lasso_reg.fit(X_train, y_train)\n",
    "lasso_reg_data = pd.DataFrame([lasso_model.coef_, X.columns]).T\n",
    "lasso_reg_data.columns = ['Coefficient', 'Feature']\n",
    "lasso_reg_data.head()\n",
    "# Plot\n",
    "ax = sns.barplot(x=\"Coefficient\", y=\"Feature\", data=lasso_reg_data)\n",
    "ax.set_title(\"Lasso regression Coefficients\")\n",
    "plt.show()\n"
   ]
  },
  {
   "cell_type": "code",
   "execution_count": 264,
   "metadata": {},
   "outputs": [
    {
     "data": {
      "image/png": "[encoded data removed]",
      "text/plain": [
       "<Figure size 432x288 with 1 Axes>"
      ]
     },
     "metadata": {
      "needs_background": "light"
     },
     "output_type": "display_data"
    }
   ],
   "source": [
    "# use the model to make predictions\n",
    "lasso_pred = lasso_model.predict(X_validate)\n",
    "\n",
    "# plot the predictions\n",
    "plt.scatter(y_validate, ridge_pred)\n",
    "plt.title('Lasso Model')\n",
    "plt.xlabel('actual values')\n",
    "plt.ylabel('predicted values')\n",
    "plt.show()"
   ]
  },
  {
   "cell_type": "markdown",
   "metadata": {},
   "source": [
    "#### 5. Nearest neighbors"
   ]
  },
  {
   "cell_type": "code",
   "execution_count": 265,
   "metadata": {},
   "outputs": [],
   "source": [
    "neigh_reg = KNeighborsRegressor(n_neighbors=2)\n",
    "neigh_model=neigh_reg.fit(X_train, y_train)\n"
   ]
  },
  {
   "cell_type": "code",
   "execution_count": 267,
   "metadata": {},
   "outputs": [
    {
     "data": {
      "image/png": "[encoded data removed]",
      "text/plain": [
       "<Figure size 432x288 with 1 Axes>"
      ]
     },
     "metadata": {
      "needs_background": "light"
     },
     "output_type": "display_data"
    }
   ],
   "source": [
    "# use the model to make predictions\n",
    "neigh_pred = neigh_model.predict(X_validate)\n",
    "\n",
    "# plot the predictions\n",
    "plt.scatter(y_validate, ridge_pred)\n",
    "plt.title('Nearest Neighbors Model')\n",
    "plt.xlabel('actual values')\n",
    "plt.ylabel('predicted values')\n",
    "plt.show()"
   ]
  },
  {
   "cell_type": "markdown",
   "metadata": {},
   "source": [
    "### Further Future Selection"
   ]
  },
  {
   "cell_type": "code",
   "execution_count": null,
   "metadata": {},
   "outputs": [],
   "source": []
  },
  {
   "cell_type": "markdown",
   "metadata": {},
   "source": [
    "### Evaluate performance of models on test set"
   ]
  },
  {
   "cell_type": "code",
   "execution_count": null,
   "metadata": {},
   "outputs": [],
   "source": []
  },
  {
   "cell_type": "markdown",
   "metadata": {},
   "source": [
    "### Implement Cross validation"
   ]
  },
  {
   "cell_type": "code",
   "execution_count": null,
   "metadata": {},
   "outputs": [],
   "source": []
  },
  {
   "cell_type": "markdown",
   "metadata": {},
   "source": [
    "## Discussion Questions"
   ]
  },
  {
   "cell_type": "code",
   "execution_count": null,
   "metadata": {},
   "outputs": [],
   "source": []
  }
 ],
 "metadata": {
  "kernelspec": {
   "display_name": "Python 3",
   "language": "python",
   "name": "python3"
  },
  "language_info": {
   "codemirror_mode": {
    "name": "ipython",
    "version": 3
   },
   "file_extension": ".py",
   "mimetype": "text/x-python",
   "name": "python",
   "nbconvert_exporter": "python",
   "pygments_lexer": "ipython3",
   "version": "3.8.3"
  }
 },
 "nbformat": 4,
 "nbformat_minor": 4
}
