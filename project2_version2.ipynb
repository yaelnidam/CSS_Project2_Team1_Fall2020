{
 "cells": [
  {
   "cell_type": "markdown",
   "metadata": {},
   "source": [
    "# Project 2: Regression for Prediction Problems\n",
    "Team members: Hero Ashman, Madeleine Parker, Elleni Hailu, Yael Nidam.\n",
    "\n",
    "This reports outlines the steps to explore and analyze goverment data to better understand the prevelance of diabetes in Alabama, and ultimately inform decisions about where to target a pilot diabetes prevention program.\n",
    "\n",
    "We use data from the Center for Disease Control and Prevention (CDC) and the US Census Bureau American Community Survey (ACS) to predict diabetes rates at the county level.\n",
    "\n",
    "#### Report overview:\n",
    "\n",
    "1. Preliminary data cleaning\n",
    "2. Exploratory data analysis.\n",
    "3. Data perperation for machnine learning models.\n",
    "4. Train 5 Machine learning models.\n",
    "5. Validate and refine models.\n",
    "6. Discussion\n"
   ]
  },
  {
   "cell_type": "markdown",
   "metadata": {},
   "source": [
    "## 1. Preliminary data Cleaning"
   ]
  },
  {
   "cell_type": "markdown",
   "metadata": {},
   "source": [
    "### 1.1 Import libraries and explore data shape"
   ]
  },
  {
   "cell_type": "code",
   "execution_count": 1,
   "metadata": {},
   "outputs": [],
   "source": [
    "#Importing libraries\n",
    "import pandas as pd\n",
    "import matplotlib.pyplot as plt\n",
    "import seaborn as sns\n",
    "import numpy as np\n",
    "import math\n",
    "import matplotlib.pyplot as plt\n",
    "%matplotlib inline\n",
    "np.random.seed(10)\n",
    "#%matplotlib inline\n",
    "from sklearn.model_selection import train_test_split\n",
    "from sklearn.linear_model import Ridge, Lasso, LinearRegression, LogisticRegression\n",
    "from sklearn.ensemble import RandomForestRegressor\n",
    "from sklearn.neighbors import KNeighborsRegressor\n",
    "from sklearn.model_selection import KFold\n",
    "from sklearn.model_selection import GridSearchCV\n",
    "from sklearn.metrics import confusion_matrix\n"
   ]
  },
  {
   "cell_type": "code",
   "execution_count": 2,
   "metadata": {},
   "outputs": [
    {
     "data": {
      "text/html": [
       "<div>\n",
       "<style scoped>\n",
       "    .dataframe tbody tr th:only-of-type {\n",
       "        vertical-align: middle;\n",
       "    }\n",
       "\n",
       "    .dataframe tbody tr th {\n",
       "        vertical-align: top;\n",
       "    }\n",
       "\n",
       "    .dataframe thead th {\n",
       "        text-align: right;\n",
       "    }\n",
       "</style>\n",
       "<table border=\"1\" class=\"dataframe\">\n",
       "  <thead>\n",
       "    <tr style=\"text-align: right;\">\n",
       "      <th></th>\n",
       "      <th>County</th>\n",
       "      <th>State</th>\n",
       "      <th>CountyFIPS</th>\n",
       "      <th>Diabetes_Number</th>\n",
       "      <th>Obesity_Number</th>\n",
       "      <th>Physical_Inactivity_Number</th>\n",
       "      <th>sex and age_total population_65 years and over_sex ratio (males per 100 females)</th>\n",
       "      <th>race_total population</th>\n",
       "      <th>race_total population_one race</th>\n",
       "      <th>race_total population_two or more races</th>\n",
       "      <th>...</th>\n",
       "      <th>sex and age_total population_21 years and over</th>\n",
       "      <th>sex and age_total population_62 years and over</th>\n",
       "      <th>sex and age_total population_65 years and over</th>\n",
       "      <th>sex and age_total population_18 years and over_1</th>\n",
       "      <th>sex and age_total population_18 years and over_male</th>\n",
       "      <th>sex and age_total population_18 years and over_female</th>\n",
       "      <th>sex and age_total population_18 years and over_sex ratio (males per 100 females)</th>\n",
       "      <th>sex and age_total population_65 years and over_1</th>\n",
       "      <th>sex and age_total population_65 years and over_male</th>\n",
       "      <th>sex and age_total population_65 years and over_female</th>\n",
       "    </tr>\n",
       "  </thead>\n",
       "  <tbody>\n",
       "    <tr>\n",
       "      <td>0</td>\n",
       "      <td>Autauga County</td>\n",
       "      <td>Alabama</td>\n",
       "      <td>1001</td>\n",
       "      <td>5178</td>\n",
       "      <td>13489</td>\n",
       "      <td>12525</td>\n",
       "      <td>76.5</td>\n",
       "      <td>55200</td>\n",
       "      <td>54170</td>\n",
       "      <td>1030</td>\n",
       "      <td>...</td>\n",
       "      <td>39614</td>\n",
       "      <td>9403</td>\n",
       "      <td>8050</td>\n",
       "      <td>41831</td>\n",
       "      <td>20054</td>\n",
       "      <td>21777</td>\n",
       "      <td>92.1</td>\n",
       "      <td>8050</td>\n",
       "      <td>3488</td>\n",
       "      <td>4562</td>\n",
       "    </tr>\n",
       "    <tr>\n",
       "      <td>1</td>\n",
       "      <td>Baldwin County</td>\n",
       "      <td>Alabama</td>\n",
       "      <td>1003</td>\n",
       "      <td>16707</td>\n",
       "      <td>48542</td>\n",
       "      <td>40024</td>\n",
       "      <td>86.6</td>\n",
       "      <td>208107</td>\n",
       "      <td>204535</td>\n",
       "      <td>3572</td>\n",
       "      <td>...</td>\n",
       "      <td>155502</td>\n",
       "      <td>49811</td>\n",
       "      <td>40665</td>\n",
       "      <td>162430</td>\n",
       "      <td>78104</td>\n",
       "      <td>84326</td>\n",
       "      <td>92.6</td>\n",
       "      <td>40665</td>\n",
       "      <td>18870</td>\n",
       "      <td>21795</td>\n",
       "    </tr>\n",
       "    <tr>\n",
       "      <td>2</td>\n",
       "      <td>Barbour County</td>\n",
       "      <td>Alabama</td>\n",
       "      <td>1005</td>\n",
       "      <td>3400</td>\n",
       "      <td>8009</td>\n",
       "      <td>5431</td>\n",
       "      <td>76.2</td>\n",
       "      <td>25782</td>\n",
       "      <td>25429</td>\n",
       "      <td>353</td>\n",
       "      <td>...</td>\n",
       "      <td>19394</td>\n",
       "      <td>5658</td>\n",
       "      <td>4634</td>\n",
       "      <td>20346</td>\n",
       "      <td>10923</td>\n",
       "      <td>9423</td>\n",
       "      <td>115.9</td>\n",
       "      <td>4634</td>\n",
       "      <td>2004</td>\n",
       "      <td>2630</td>\n",
       "    </tr>\n",
       "  </tbody>\n",
       "</table>\n",
       "<p>3 rows × 95 columns</p>\n",
       "</div>"
      ],
      "text/plain": [
       "           County    State  CountyFIPS Diabetes_Number Obesity_Number  \\\n",
       "0  Autauga County  Alabama        1001            5178          13489   \n",
       "1  Baldwin County  Alabama        1003           16707          48542   \n",
       "2  Barbour County  Alabama        1005            3400           8009   \n",
       "\n",
       "  Physical_Inactivity_Number  \\\n",
       "0                      12525   \n",
       "1                      40024   \n",
       "2                       5431   \n",
       "\n",
       "  sex and age_total population_65 years and over_sex ratio (males per 100 females)  \\\n",
       "0                                               76.5                                 \n",
       "1                                               86.6                                 \n",
       "2                                               76.2                                 \n",
       "\n",
       "   race_total population  race_total population_one race  \\\n",
       "0                  55200                           54170   \n",
       "1                 208107                          204535   \n",
       "2                  25782                           25429   \n",
       "\n",
       "   race_total population_two or more races  ...  \\\n",
       "0                                     1030  ...   \n",
       "1                                     3572  ...   \n",
       "2                                      353  ...   \n",
       "\n",
       "   sex and age_total population_21 years and over  \\\n",
       "0                                           39614   \n",
       "1                                          155502   \n",
       "2                                           19394   \n",
       "\n",
       "   sex and age_total population_62 years and over  \\\n",
       "0                                            9403   \n",
       "1                                           49811   \n",
       "2                                            5658   \n",
       "\n",
       "   sex and age_total population_65 years and over  \\\n",
       "0                                            8050   \n",
       "1                                           40665   \n",
       "2                                            4634   \n",
       "\n",
       "   sex and age_total population_18 years and over_1  \\\n",
       "0                                             41831   \n",
       "1                                            162430   \n",
       "2                                             20346   \n",
       "\n",
       "   sex and age_total population_18 years and over_male  \\\n",
       "0                                              20054     \n",
       "1                                              78104     \n",
       "2                                              10923     \n",
       "\n",
       "   sex and age_total population_18 years and over_female  \\\n",
       "0                                              21777       \n",
       "1                                              84326       \n",
       "2                                               9423       \n",
       "\n",
       "   sex and age_total population_18 years and over_sex ratio (males per 100 females)  \\\n",
       "0                                               92.1                                  \n",
       "1                                               92.6                                  \n",
       "2                                              115.9                                  \n",
       "\n",
       "   sex and age_total population_65 years and over_1  \\\n",
       "0                                              8050   \n",
       "1                                             40665   \n",
       "2                                              4634   \n",
       "\n",
       "   sex and age_total population_65 years and over_male  \\\n",
       "0                                               3488     \n",
       "1                                              18870     \n",
       "2                                               2004     \n",
       "\n",
       "   sex and age_total population_65 years and over_female  \n",
       "0                                               4562      \n",
       "1                                              21795      \n",
       "2                                               2630      \n",
       "\n",
       "[3 rows x 95 columns]"
      ]
     },
     "execution_count": 2,
     "metadata": {},
     "output_type": "execute_result"
    }
   ],
   "source": [
    "diabetes = pd.read_csv(\"Diabetes with Population Info by County 2017.csv\")\n",
    "diabetes.head(3)"
   ]
  },
  {
   "cell_type": "code",
   "execution_count": 3,
   "metadata": {},
   "outputs": [
    {
     "data": {
      "text/plain": [
       "(3220, 95)"
      ]
     },
     "execution_count": 3,
     "metadata": {},
     "output_type": "execute_result"
    }
   ],
   "source": [
    "# number of rows and columns\n",
    "diabetes.shape"
   ]
  },
  {
   "cell_type": "code",
   "execution_count": 4,
   "metadata": {},
   "outputs": [],
   "source": [
    "#View all column names\n",
    "#cols = diabetes.columns.tolist()\n",
    "#cols\n",
    "#for i in range(len(cols)):\n",
    "#    print(i,cols[i])\n",
    "\n",
    "#[diabetes.columns.get_loc(c) for c in cols if c in diabetes]\n",
    "\n",
    "# list of variable names (long)\n",
    "#list(diabetes.columns.values)"
   ]
  },
  {
   "cell_type": "markdown",
   "metadata": {},
   "source": [
    "### 1.2 Ensure that all datatypes other than the counry and state names are numeric."
   ]
  },
  {
   "cell_type": "code",
   "execution_count": 5,
   "metadata": {},
   "outputs": [
    {
     "data": {
      "text/html": [
       "<div>\n",
       "<style scoped>\n",
       "    .dataframe tbody tr th:only-of-type {\n",
       "        vertical-align: middle;\n",
       "    }\n",
       "\n",
       "    .dataframe tbody tr th {\n",
       "        vertical-align: top;\n",
       "    }\n",
       "\n",
       "    .dataframe thead th {\n",
       "        text-align: right;\n",
       "    }\n",
       "</style>\n",
       "<table border=\"1\" class=\"dataframe\">\n",
       "  <thead>\n",
       "    <tr style=\"text-align: right;\">\n",
       "      <th></th>\n",
       "      <th>County</th>\n",
       "      <th>State</th>\n",
       "      <th>Diabetes_Number</th>\n",
       "      <th>Obesity_Number</th>\n",
       "      <th>Physical_Inactivity_Number</th>\n",
       "      <th>sex and age_total population_65 years and over_sex ratio (males per 100 females)</th>\n",
       "    </tr>\n",
       "  </thead>\n",
       "  <tbody>\n",
       "    <tr>\n",
       "      <td>0</td>\n",
       "      <td>Autauga County</td>\n",
       "      <td>Alabama</td>\n",
       "      <td>5178</td>\n",
       "      <td>13489</td>\n",
       "      <td>12525</td>\n",
       "      <td>76.5</td>\n",
       "    </tr>\n",
       "    <tr>\n",
       "      <td>1</td>\n",
       "      <td>Baldwin County</td>\n",
       "      <td>Alabama</td>\n",
       "      <td>16707</td>\n",
       "      <td>48542</td>\n",
       "      <td>40024</td>\n",
       "      <td>86.6</td>\n",
       "    </tr>\n",
       "    <tr>\n",
       "      <td>2</td>\n",
       "      <td>Barbour County</td>\n",
       "      <td>Alabama</td>\n",
       "      <td>3400</td>\n",
       "      <td>8009</td>\n",
       "      <td>5431</td>\n",
       "      <td>76.2</td>\n",
       "    </tr>\n",
       "  </tbody>\n",
       "</table>\n",
       "</div>"
      ],
      "text/plain": [
       "           County    State Diabetes_Number Obesity_Number  \\\n",
       "0  Autauga County  Alabama            5178          13489   \n",
       "1  Baldwin County  Alabama           16707          48542   \n",
       "2  Barbour County  Alabama            3400           8009   \n",
       "\n",
       "  Physical_Inactivity_Number  \\\n",
       "0                      12525   \n",
       "1                      40024   \n",
       "2                       5431   \n",
       "\n",
       "  sex and age_total population_65 years and over_sex ratio (males per 100 females)  \n",
       "0                                               76.5                                \n",
       "1                                               86.6                                \n",
       "2                                               76.2                                "
      ]
     },
     "execution_count": 5,
     "metadata": {},
     "output_type": "execute_result"
    }
   ],
   "source": [
    "#Checkout all datatypes that are object\n",
    "diabetes.loc[:, diabetes.dtypes == np.object].head(3)"
   ]
  },
  {
   "cell_type": "markdown",
   "metadata": {},
   "source": [
    "The counts for diabetes, people who are obese, people who are inactive, and the male to female sex ratio for people over aged 65 years old are strings. Some of these columns contain missing data, which is recorded as the string \"No Data\". We convert these columns to floats, coercing any rows with non-numeric strings in to NaN.  "
   ]
  },
  {
   "cell_type": "code",
   "execution_count": 6,
   "metadata": {},
   "outputs": [
    {
     "data": {
      "text/html": [
       "<div>\n",
       "<style scoped>\n",
       "    .dataframe tbody tr th:only-of-type {\n",
       "        vertical-align: middle;\n",
       "    }\n",
       "\n",
       "    .dataframe tbody tr th {\n",
       "        vertical-align: top;\n",
       "    }\n",
       "\n",
       "    .dataframe thead th {\n",
       "        text-align: right;\n",
       "    }\n",
       "</style>\n",
       "<table border=\"1\" class=\"dataframe\">\n",
       "  <thead>\n",
       "    <tr style=\"text-align: right;\">\n",
       "      <th></th>\n",
       "      <th>County</th>\n",
       "      <th>State</th>\n",
       "    </tr>\n",
       "  </thead>\n",
       "  <tbody>\n",
       "    <tr>\n",
       "      <td>0</td>\n",
       "      <td>Autauga County</td>\n",
       "      <td>Alabama</td>\n",
       "    </tr>\n",
       "    <tr>\n",
       "      <td>1</td>\n",
       "      <td>Baldwin County</td>\n",
       "      <td>Alabama</td>\n",
       "    </tr>\n",
       "    <tr>\n",
       "      <td>2</td>\n",
       "      <td>Barbour County</td>\n",
       "      <td>Alabama</td>\n",
       "    </tr>\n",
       "  </tbody>\n",
       "</table>\n",
       "</div>"
      ],
      "text/plain": [
       "           County    State\n",
       "0  Autauga County  Alabama\n",
       "1  Baldwin County  Alabama\n",
       "2  Barbour County  Alabama"
      ]
     },
     "execution_count": 6,
     "metadata": {},
     "output_type": "execute_result"
    }
   ],
   "source": [
    "diabetes['Diabetes_Number'] = pd.to_numeric(arg=diabetes['Diabetes_Number'], errors='coerce')\n",
    "diabetes['Obesity_Number'] = pd.to_numeric(arg=diabetes['Obesity_Number'], errors='coerce')\n",
    "diabetes['Physical_Inactivity_Number'] = pd.to_numeric(arg=diabetes['Physical_Inactivity_Number'], errors='coerce')\n",
    "diabetes['sex and age_total population_65 years and over_sex ratio (males per 100 females)'] = pd.to_numeric(arg=diabetes['sex and age_total population_65 years and over_sex ratio (males per 100 females)'], errors='coerce')\n",
    "\n",
    "#using the same command to check there are no obtect type columns\n",
    "diabetes.loc[:, diabetes.dtypes == np.object].head(3)"
   ]
  },
  {
   "cell_type": "markdown",
   "metadata": {},
   "source": [
    "### 1.3 Check missing counts for key variables"
   ]
  },
  {
   "cell_type": "code",
   "execution_count": 7,
   "metadata": {},
   "outputs": [
    {
     "name": "stdout",
     "output_type": "stream",
     "text": [
      "186\n"
     ]
    },
    {
     "data": {
      "text/plain": [
       "Index(['Diabetes_Number', 'Obesity_Number', 'Physical_Inactivity_Number',\n",
       "       'sex and age_total population_65 years and over_sex ratio (males per 100 females)'],\n",
       "      dtype='object')"
      ]
     },
     "execution_count": 7,
     "metadata": {},
     "output_type": "execute_result"
    }
   ],
   "source": [
    "print(diabetes.isnull().sum().sum())\n",
    "diabetes.columns[diabetes.isnull().any()]\n"
   ]
  },
  {
   "cell_type": "markdown",
   "metadata": {},
   "source": [
    "In total, there are 186 missing values in our data. Predictors with missing values are diabetes_number, obesisty_number, physical_inactivity_number, and sex_ratio_over_65. There is 1 row with missing diabetes counts. There are 78 rows with missing counts for Physically Inactive and Obese. There are 29 missing values for the sex ratio over 65yrs old. in the code below we drop rows with missing values for features that will be used in the models."
   ]
  },
  {
   "cell_type": "code",
   "execution_count": 8,
   "metadata": {},
   "outputs": [
    {
     "data": {
      "text/plain": [
       "(3112, 95)"
      ]
     },
     "execution_count": 8,
     "metadata": {},
     "output_type": "execute_result"
    }
   ],
   "source": [
    "diabetes.isnull().sum()[3:7]\n",
    "diabetes = diabetes.dropna(subset=['Diabetes_Number','Obesity_Number','Physical_Inactivity_Number','sex and age_total population_65 years and over_sex ratio (males per 100 females)'])\n",
    "diabetes.shape\n"
   ]
  },
  {
   "cell_type": "markdown",
   "metadata": {},
   "source": [
    "## 2. Exploratory Data Analysis\n",
    "Our data set is a combination of variables from the CDC and the ACS at the county level. We have information from 3220 counties. Variables include the population counts of people with diabetes, who are obese, and who are physically inactive, and population counts of people by race, ethnicity, age, and sex. "
   ]
  },
  {
   "cell_type": "markdown",
   "metadata": {},
   "source": [
    "**Distribution of Diabetes Cases** \n",
    "\n",
    "We start our report with some descriptive plots. Our goal here is to explore variation in diabetes numbers across counties. We also look at a couple of predictors that we suspect might be important for prediction later on.  \n",
    "\n",
    "We plot a histogram of diabetes cases as the county level. We plot this both as number of cases and as number of cases per 100 people, as the counties vary in population size. "
   ]
  },
  {
   "cell_type": "code",
   "execution_count": 9,
   "metadata": {},
   "outputs": [],
   "source": [
    "# calculate diabetes cases per 100 people\n",
    "diabetes['diabetes_per1000'] = diabetes['Diabetes_Number']/diabetes['race_total population']*1000\n",
    "\n",
    "# calculate diabetes cases per 100 people\n",
    "diabetes['physical_inactivity_per1000'] = diabetes['Physical_Inactivity_Number']/diabetes['race_total population']*1000\n",
    "\n",
    "# calculate diabetes cases per 100 people\n",
    "diabetes['obesity_per1000'] = diabetes['Obesity_Number']/diabetes['race_total population']*1000"
   ]
  },
  {
   "cell_type": "markdown",
   "metadata": {},
   "source": [
    "The plot below shows that the percentage of people with diabetes is roughly normally distributed across counties, with a mean around 10%. This corresponds to the percentage of the population with diabetes reported by the [American Diabetes Association](https://www.diabetes.org/resources/statistics/statistics-about-diabetes). "
   ]
  },
  {
   "cell_type": "code",
   "execution_count": 10,
   "metadata": {},
   "outputs": [
    {
     "data": {
      "image/png": "[encoded data removed]",
      "text/plain": [
       "<Figure size 432x288 with 1 Axes>"
      ]
     },
     "metadata": {
      "needs_background": "light"
     },
     "output_type": "display_data"
    }
   ],
   "source": [
    "# diabetes per 100 people\n",
    "#sns.histplot(data = diabetes, x = 'diabetes_per100', kde = True)\n",
    "plt.hist(diabetes[\"diabetes_per1000\"])\n",
    "plt.title(\"Distribution of County Diabetes Cases per 1,000 People\")\n",
    "plt.xlabel(\"Cases per 1,000 People\");"
   ]
  },
  {
   "cell_type": "markdown",
   "metadata": {},
   "source": [
    "**Diabetes and Level of Inactivity**\n",
    "\n",
    "We suspect there might be a relationship between diabetes and level of inactivity. To explore this, we plot the linear regression line of physical inactivity on diabetes cases, at the county level. We report both numbers per 1000 people. The plot below also includes a scatter plot of the underlying data. There is a linear relationship between number of diabetes cases and number of people who are physically inactive. There is greater variation around the middle of the distribution. This implies that the number of inactive people might not be a good linear predictor for the number of diabetes cases in counties with cases around the middle of the distribution. "
   ]
  },
  {
   "cell_type": "code",
   "execution_count": 11,
   "metadata": {},
   "outputs": [
    {
     "data": {
      "image/png": "[encoded data removed]",
      "text/plain": [
       "<Figure size 432x288 with 1 Axes>"
      ]
     },
     "metadata": {
      "needs_background": "light"
     },
     "output_type": "display_data"
    }
   ],
   "source": [
    "sns.regplot(data = diabetes, x ='physical_inactivity_per1000' , y = 'diabetes_per1000', scatter = True)\n",
    "plt.title(\"Diabetes vs. Physical Inactivity by County\")\n",
    "plt.xlabel(\"Physical Inactivity per 1000 People\")\n",
    "plt.ylabel(\"Diabetes per 1000 People\");"
   ]
  },
  {
   "cell_type": "markdown",
   "metadata": {},
   "source": [
    "__Diabetes and obesity__"
   ]
  },
  {
   "cell_type": "markdown",
   "metadata": {},
   "source": [
    "There is similarly a linear relationship between diabetes cases and the number of obese people at the county level. Again, this relationship seems weakest around the middle of the distribution, where there is greater variation, and it is not clear that increasing cases of obesity would predict increasing cases of diabetes. "
   ]
  },
  {
   "cell_type": "code",
   "execution_count": 12,
   "metadata": {},
   "outputs": [
    {
     "data": {
      "image/png": "[encoded data removed]",
      "text/plain": [
       "<Figure size 432x288 with 1 Axes>"
      ]
     },
     "metadata": {
      "needs_background": "light"
     },
     "output_type": "display_data"
    }
   ],
   "source": [
    "sns.regplot(data = diabetes, x ='obesity_per1000' , y ='diabetes_per1000' , scatter = True)\n",
    "plt.title(\"Diabetes vs. Obesity  by County\")\n",
    "plt.xlabel(\"obesity per 1000 People\")\n",
    "plt.ylabel(\"Diabetes per 1000 People\");"
   ]
  },
  {
   "cell_type": "markdown",
   "metadata": {},
   "source": [
    "**Diabetes and Demographic Characteristics**\n",
    "\n",
    "Our data contains county population counts by sex, race, and age (and interactions of all three). It is possible that upstream social factors that vary by gender, such as diet or activity levels, impact rates of diabetes. Although we do not observe the rates of diabetes differentially for men and women (the only genders reported in the ACS), we can see if counties with a higher male to female ratio have higher or lower rates of diabetes. For this, we create a dummy variable indicating if a county has more or equal number of women than men (female_cnty). We then plot a box-and-whisker diagram of cases per 100 people for the two types of county.\n",
    "\n",
    "The plot below shows that for counties with equal or higher numbers of women than men, their rate of diabetes is slightly higher (orange plot). However, there is not a large difference and it may not be significant.  \n"
   ]
  },
  {
   "cell_type": "code",
   "execution_count": 13,
   "metadata": {},
   "outputs": [],
   "source": [
    "# dummy for a county having more or equal number of women to men\n",
    "diabetes['female_cnty'] = 1*(diabetes['sex and age_total population_sex ratio (males per 100 females)'] <=100) \\\n",
    "+ 0*(diabetes['sex and age_total population_sex ratio (males per 100 females)'] > 100)\n",
    "#diabetes['female_cnty']"
   ]
  },
  {
   "cell_type": "code",
   "execution_count": 14,
   "metadata": {},
   "outputs": [
    {
     "data": {
      "image/png": "[encoded data removed]",
      "text/plain": [
       "<Figure size 432x288 with 1 Axes>"
      ]
     },
     "metadata": {
      "needs_background": "light"
     },
     "output_type": "display_data"
    }
   ],
   "source": [
    "sns.boxplot(data = diabetes, x = 'female_cnty', y = 'diabetes_per1000')\n",
    "plt.title('Distribution of per capita Diabetes by Sex Ratio of County')\n",
    "plt.xlabel('County Type')\n",
    "plt.ylabel('Diabetes Cases per 100 People');"
   ]
  },
  {
   "cell_type": "markdown",
   "metadata": {},
   "source": [
    "## 3. Data perperation for machine learning models."
   ]
  },
  {
   "cell_type": "markdown",
   "metadata": {},
   "source": [
    "In this next section we prepare the data so we can use it to fir machine learning models. Our process includes additional data cleaning steps, data partition, and preliminary feature selection."
   ]
  },
  {
   "cell_type": "markdown",
   "metadata": {},
   "source": [
    "### 3.1 Feature Selection\n",
    "\n",
    "We examine the correlation of the sociodemographic variables included in the sample and select only ones with low correltation with one another. Because much of the variables in regards to the racial composition and the sex distribution in the counties are related, not doing so will lead our models to not converge. Hence, driven both by prior literature/theory and the correlation of these variables in our dataset, we select obesity and physical activity counts per capita, the distribution of each broadly defined racial group (white, Black/African American, American Indian/Aaska Native, Native Hawaiian/Pacific Islander, and Hispanic/Latino), eligible voters, the sex ratio of the entire population, and total housing units in each county. Although limited, we believe these features will allow us to estimate the influence of historical and institutional practices that continue to disproportionately burden marginalized populations around the country, while using physical inactivity and obesity counts as a proxy to account for the availablility of health promoting resources. Total housing is potentially a proxy for wealth. \n",
    "\n",
    "There are various variables reporting counts of people by race. We use the \"race alone or in combination with one or more other races\", which includes in each category people who report one or more race. These categories sum together to the total population. We exclude the category \"other race\". We convert each of the race count variables to percentages, so that rather than capturing the count of people of a given race, we capture the distribution of people across different races. This controls for the fact that counties vary in population size. \n",
    "\n",
    "Q: should we have county population size as a predictor?"
   ]
  },
  {
   "cell_type": "code",
   "execution_count": 15,
   "metadata": {},
   "outputs": [
    {
     "data": {
      "text/plain": [
       "(3112, 35)"
      ]
     },
     "execution_count": 15,
     "metadata": {},
     "output_type": "execute_result"
    }
   ],
   "source": [
    "diabetes_clean = diabetes[[\n",
    "                            'diabetes_per1000'\n",
    "                           ,'physical_inactivity_per1000'\n",
    "                           ,'obesity_per1000'\n",
    "                           ,'sex and age_total population_65 years and over_sex ratio (males per 100 females)'\n",
    "                           , 'race alone or in combination with one or more other races_total population'\n",
    "                           , 'race alone or in combination with one or more other races_total population_white'\n",
    "                           , 'race alone or in combination with one or more other races_total population_black or african american'\n",
    "                           , 'race alone or in combination with one or more other races_total population_american indian and alaska native'\n",
    "                           , 'race alone or in combination with one or more other races_total population_asian'\n",
    "                           , 'race alone or in combination with one or more other races_total population_native hawaiian and other pacific islander'\n",
    "                           , 'race alone or in combination with one or more other races_total population_some other race'\n",
    "                           , 'hispanic or latino and race_total population_hispanic or latino (of any race)'\n",
    "                           , 'sex and age_total population_65 years and over_1'\n",
    "                           , 'sex and age_total population_65 years and over_male'\n",
    "                           , 'sex and age_total population_65 years and over_female'\n",
    "                           , 'sex and age_total population', 'sex and age_total population_male'\n",
    "                           , 'sex and age_total population_female'\n",
    "                           , 'sex and age_total population_sex ratio (males per 100 females)'\n",
    "                           , 'sex and age_total population_under 5 years'\n",
    "                           , 'sex and age_total population_5 to 9 years'\n",
    "                           , 'sex and age_total population_10 to 14 years'\n",
    "                           , 'sex and age_total population_15 to 19 years'\n",
    "                           , 'sex and age_total population_20 to 24 years'\n",
    "                           , 'sex and age_total population_25 to 34 years'\n",
    "                           , 'sex and age_total population_35 to 44 years'\n",
    "                           , 'sex and age_total population_45 to 54 years'\n",
    "                           , 'sex and age_total population_55 to 59 years'\n",
    "                           , 'sex and age_total population_60 to 64 years'\n",
    "                           , 'sex and age_total population_65 to 74 years'\n",
    "                           , 'sex and age_total population_75 to 84 years'\n",
    "                           , 'sex and age_total population_85 years and over'\n",
    "                           , 'sex and age_total population_median age (years)'\n",
    "                           , 'total housing units'\n",
    "                           , 'citizen -  voting age population_citizen -  18 and over population' \n",
    "                          ]]\n",
    "diabetes_clean.shape"
   ]
  },
  {
   "cell_type": "markdown",
   "metadata": {},
   "source": [
    "### 3.2 Additional Data Cleaning and preparation"
   ]
  },
  {
   "cell_type": "code",
   "execution_count": 16,
   "metadata": {},
   "outputs": [
    {
     "name": "stderr",
     "output_type": "stream",
     "text": [
      "C:\\Users\\Yael nidam\\Anaconda3\\lib\\site-packages\\pandas\\core\\indexing.py:376: SettingWithCopyWarning: \n",
      "A value is trying to be set on a copy of a slice from a DataFrame.\n",
      "Try using .loc[row_indexer,col_indexer] = value instead\n",
      "\n",
      "See the caveats in the documentation: http://pandas.pydata.org/pandas-docs/stable/user_guide/indexing.html#returning-a-view-versus-a-copy\n",
      "  self.obj[key] = _infer_fill_value(value)\n",
      "C:\\Users\\Yael nidam\\Anaconda3\\lib\\site-packages\\pandas\\core\\indexing.py:494: SettingWithCopyWarning: \n",
      "A value is trying to be set on a copy of a slice from a DataFrame.\n",
      "Try using .loc[row_indexer,col_indexer] = value instead\n",
      "\n",
      "See the caveats in the documentation: http://pandas.pydata.org/pandas-docs/stable/user_guide/indexing.html#returning-a-view-versus-a-copy\n",
      "  self.obj[item] = s\n"
     ]
    },
    {
     "data": {
      "text/html": [
       "<div>\n",
       "<style scoped>\n",
       "    .dataframe tbody tr th:only-of-type {\n",
       "        vertical-align: middle;\n",
       "    }\n",
       "\n",
       "    .dataframe tbody tr th {\n",
       "        vertical-align: top;\n",
       "    }\n",
       "\n",
       "    .dataframe thead th {\n",
       "        text-align: right;\n",
       "    }\n",
       "</style>\n",
       "<table border=\"1\" class=\"dataframe\">\n",
       "  <thead>\n",
       "    <tr style=\"text-align: right;\">\n",
       "      <th></th>\n",
       "      <th>diabetes_per1000</th>\n",
       "      <th>physical_inactivity_per1000</th>\n",
       "      <th>obesity_per1000</th>\n",
       "      <th>sex and age_total population_65 years and over_sex ratio (males per 100 females)</th>\n",
       "      <th>race alone or in combination with one or more other races_total population</th>\n",
       "      <th>race alone or in combination with one or more other races_total population_white</th>\n",
       "      <th>race alone or in combination with one or more other races_total population_black or african american</th>\n",
       "      <th>race alone or in combination with one or more other races_total population_american indian and alaska native</th>\n",
       "      <th>race alone or in combination with one or more other races_total population_asian</th>\n",
       "      <th>race alone or in combination with one or more other races_total population_native hawaiian and other pacific islander</th>\n",
       "      <th>...</th>\n",
       "      <th>pct_45_to_54</th>\n",
       "      <th>pct_55_to_59</th>\n",
       "      <th>pct_60_to_64</th>\n",
       "      <th>pct_65_to_74</th>\n",
       "      <th>pct_75_to_84</th>\n",
       "      <th>pct_85_over</th>\n",
       "      <th>pct_male</th>\n",
       "      <th>pct_female</th>\n",
       "      <th>houses_per_capita</th>\n",
       "      <th>citizens_per_capita</th>\n",
       "    </tr>\n",
       "  </thead>\n",
       "  <tbody>\n",
       "    <tr>\n",
       "      <td>0</td>\n",
       "      <td>93.804348</td>\n",
       "      <td>226.902174</td>\n",
       "      <td>244.365942</td>\n",
       "      <td>76.5</td>\n",
       "      <td>55200</td>\n",
       "      <td>43367</td>\n",
       "      <td>10962</td>\n",
       "      <td>464</td>\n",
       "      <td>895</td>\n",
       "      <td>115</td>\n",
       "      <td>...</td>\n",
       "      <td>0.142264</td>\n",
       "      <td>0.074837</td>\n",
       "      <td>0.048804</td>\n",
       "      <td>0.085344</td>\n",
       "      <td>0.045725</td>\n",
       "      <td>0.014764</td>\n",
       "      <td>0.486848</td>\n",
       "      <td>0.513152</td>\n",
       "      <td>0.422373</td>\n",
       "      <td>0.748261</td>\n",
       "    </tr>\n",
       "    <tr>\n",
       "      <td>1</td>\n",
       "      <td>80.280817</td>\n",
       "      <td>192.324141</td>\n",
       "      <td>233.255008</td>\n",
       "      <td>86.6</td>\n",
       "      <td>208107</td>\n",
       "      <td>182689</td>\n",
       "      <td>20311</td>\n",
       "      <td>3185</td>\n",
       "      <td>2824</td>\n",
       "      <td>79</td>\n",
       "      <td>...</td>\n",
       "      <td>0.136132</td>\n",
       "      <td>0.069387</td>\n",
       "      <td>0.071362</td>\n",
       "      <td>0.117973</td>\n",
       "      <td>0.058456</td>\n",
       "      <td>0.018976</td>\n",
       "      <td>0.486231</td>\n",
       "      <td>0.513769</td>\n",
       "      <td>0.537920</td>\n",
       "      <td>0.764957</td>\n",
       "    </tr>\n",
       "    <tr>\n",
       "      <td>2</td>\n",
       "      <td>131.874952</td>\n",
       "      <td>210.650842</td>\n",
       "      <td>310.643084</td>\n",
       "      <td>76.2</td>\n",
       "      <td>25782</td>\n",
       "      <td>12461</td>\n",
       "      <td>12492</td>\n",
       "      <td>301</td>\n",
       "      <td>155</td>\n",
       "      <td>1</td>\n",
       "      <td>...</td>\n",
       "      <td>0.133892</td>\n",
       "      <td>0.064270</td>\n",
       "      <td>0.064037</td>\n",
       "      <td>0.109379</td>\n",
       "      <td>0.053991</td>\n",
       "      <td>0.016368</td>\n",
       "      <td>0.531262</td>\n",
       "      <td>0.468738</td>\n",
       "      <td>0.462997</td>\n",
       "      <td>0.775386</td>\n",
       "    </tr>\n",
       "  </tbody>\n",
       "</table>\n",
       "<p>3 rows × 59 columns</p>\n",
       "</div>"
      ],
      "text/plain": [
       "   diabetes_per1000  physical_inactivity_per1000  obesity_per1000  \\\n",
       "0         93.804348                   226.902174       244.365942   \n",
       "1         80.280817                   192.324141       233.255008   \n",
       "2        131.874952                   210.650842       310.643084   \n",
       "\n",
       "   sex and age_total population_65 years and over_sex ratio (males per 100 females)  \\\n",
       "0                                               76.5                                  \n",
       "1                                               86.6                                  \n",
       "2                                               76.2                                  \n",
       "\n",
       "   race alone or in combination with one or more other races_total population  \\\n",
       "0                                              55200                            \n",
       "1                                             208107                            \n",
       "2                                              25782                            \n",
       "\n",
       "   race alone or in combination with one or more other races_total population_white  \\\n",
       "0                                              43367                                  \n",
       "1                                             182689                                  \n",
       "2                                              12461                                  \n",
       "\n",
       "   race alone or in combination with one or more other races_total population_black or african american  \\\n",
       "0                                              10962                                                      \n",
       "1                                              20311                                                      \n",
       "2                                              12492                                                      \n",
       "\n",
       "   race alone or in combination with one or more other races_total population_american indian and alaska native  \\\n",
       "0                                                464                                                              \n",
       "1                                               3185                                                              \n",
       "2                                                301                                                              \n",
       "\n",
       "   race alone or in combination with one or more other races_total population_asian  \\\n",
       "0                                                895                                  \n",
       "1                                               2824                                  \n",
       "2                                                155                                  \n",
       "\n",
       "   race alone or in combination with one or more other races_total population_native hawaiian and other pacific islander  \\\n",
       "0                                                115                                                                       \n",
       "1                                                 79                                                                       \n",
       "2                                                  1                                                                       \n",
       "\n",
       "   ...  pct_45_to_54  pct_55_to_59  pct_60_to_64  pct_65_to_74  pct_75_to_84  \\\n",
       "0  ...      0.142264      0.074837      0.048804      0.085344      0.045725   \n",
       "1  ...      0.136132      0.069387      0.071362      0.117973      0.058456   \n",
       "2  ...      0.133892      0.064270      0.064037      0.109379      0.053991   \n",
       "\n",
       "   pct_85_over  pct_male  pct_female  houses_per_capita  citizens_per_capita  \n",
       "0     0.014764  0.486848    0.513152           0.422373             0.748261  \n",
       "1     0.018976  0.486231    0.513769           0.537920             0.764957  \n",
       "2     0.016368  0.531262    0.468738           0.462997             0.775386  \n",
       "\n",
       "[3 rows x 59 columns]"
      ]
     },
     "execution_count": 16,
     "metadata": {},
     "output_type": "execute_result"
    }
   ],
   "source": [
    "# convert count variables to percents\n",
    "diabetes_clean.loc[:,'pct_white'] = diabetes_clean['race alone or in combination with one or more other races_total population_white']/diabetes_clean['race alone or in combination with one or more other races_total population']\n",
    "diabetes_clean.loc[:,'pct_black'] = diabetes_clean['race alone or in combination with one or more other races_total population_black or african american']/diabetes_clean['race alone or in combination with one or more other races_total population']\n",
    "diabetes_clean.loc[:,'pct_native'] = diabetes_clean['race alone or in combination with one or more other races_total population_american indian and alaska native']/diabetes_clean['race alone or in combination with one or more other races_total population']\n",
    "diabetes_clean.loc[:,'pct_asian'] = diabetes_clean['race alone or in combination with one or more other races_total population_asian']/diabetes_clean['race alone or in combination with one or more other races_total population']\n",
    "diabetes_clean.loc[:,'pct_pacisl'] = diabetes_clean['race alone or in combination with one or more other races_total population_native hawaiian and other pacific islander']/diabetes_clean['race alone or in combination with one or more other races_total population']\n",
    "diabetes_clean.loc[:,'pct_other'] = diabetes_clean['race alone or in combination with one or more other races_total population_some other race']/diabetes_clean['race alone or in combination with one or more other races_total population']\n",
    "diabetes_clean.loc[:,'pct_hispan'] = diabetes_clean['hispanic or latino and race_total population_hispanic or latino (of any race)']/diabetes_clean['race alone or in combination with one or more other races_total population']\n",
    "\n",
    "diabetes_clean.loc[:,'pct_under5'] = diabetes_clean['sex and age_total population_under 5 years']/diabetes_clean['race alone or in combination with one or more other races_total population']\n",
    "diabetes_clean.loc[:,'pct_5_to_9'] = diabetes_clean['sex and age_total population_5 to 9 years']/diabetes_clean['race alone or in combination with one or more other races_total population']\n",
    "diabetes_clean.loc[:,'pct_10_to_14'] = diabetes_clean['sex and age_total population_10 to 14 years']/diabetes_clean['race alone or in combination with one or more other races_total population']\n",
    "diabetes_clean.loc[:,'pct_15_to_19'] = diabetes_clean['sex and age_total population_15 to 19 years']/diabetes_clean['race alone or in combination with one or more other races_total population']\n",
    "diabetes_clean.loc[:,'pct_20_to_24'] = diabetes_clean['sex and age_total population_20 to 24 years']/diabetes_clean['race alone or in combination with one or more other races_total population']\n",
    "diabetes_clean.loc[:,'pct_25_to_34'] = diabetes_clean[ 'sex and age_total population_25 to 34 years']/diabetes_clean['race alone or in combination with one or more other races_total population']\n",
    "diabetes_clean.loc[:,'pct_35_to_44'] = diabetes_clean[ 'sex and age_total population_35 to 44 years']/diabetes_clean['race alone or in combination with one or more other races_total population']\n",
    "diabetes_clean.loc[:,'pct_45_to_54'] = diabetes_clean[ 'sex and age_total population_45 to 54 years']/diabetes_clean['race alone or in combination with one or more other races_total population']\n",
    "diabetes_clean.loc[:,'pct_55_to_59'] = diabetes_clean['sex and age_total population_55 to 59 years']/diabetes_clean['race alone or in combination with one or more other races_total population']\n",
    "diabetes_clean.loc[:,'pct_60_to_64'] = diabetes_clean[ 'sex and age_total population_60 to 64 years']/diabetes_clean['race alone or in combination with one or more other races_total population']\n",
    "diabetes_clean.loc[:,'pct_65_to_74'] = diabetes_clean[ 'sex and age_total population_65 to 74 years']/diabetes_clean['race alone or in combination with one or more other races_total population']\n",
    "diabetes_clean.loc[:,'pct_75_to_84'] = diabetes_clean[ 'sex and age_total population_75 to 84 years']/diabetes_clean['race alone or in combination with one or more other races_total population']\n",
    "diabetes_clean.loc[:,'pct_85_over'] = diabetes_clean[ 'sex and age_total population_85 years and over']/diabetes_clean['race alone or in combination with one or more other races_total population']\n",
    "\n",
    "diabetes_clean.loc[:,'pct_male'] = diabetes_clean['sex and age_total population_male']/diabetes_clean['sex and age_total population']\n",
    "diabetes_clean.loc[:,'pct_female'] = diabetes_clean['sex and age_total population_female']/diabetes_clean['sex and age_total population']  \n",
    "diabetes_clean.loc[:,'houses_per_capita'] = diabetes_clean['total housing units']/diabetes_clean['sex and age_total population']\n",
    "diabetes_clean.loc[:,'citizens_per_capita'] = diabetes_clean['citizen -  voting age population_citizen -  18 and over population']/diabetes_clean['sex and age_total population']\n",
    "\n",
    "diabetes_clean.head(3)"
   ]
  },
  {
   "cell_type": "markdown",
   "metadata": {},
   "source": [
    "Preparation for logistic regression: We create a binary variable for high diabetes cases indicator based on median split and separating the response from the features:"
   ]
  },
  {
   "cell_type": "code",
   "execution_count": 17,
   "metadata": {},
   "outputs": [
    {
     "name": "stderr",
     "output_type": "stream",
     "text": [
      "C:\\Users\\Yael nidam\\Anaconda3\\lib\\site-packages\\pandas\\core\\indexing.py:376: SettingWithCopyWarning: \n",
      "A value is trying to be set on a copy of a slice from a DataFrame.\n",
      "Try using .loc[row_indexer,col_indexer] = value instead\n",
      "\n",
      "See the caveats in the documentation: http://pandas.pydata.org/pandas-docs/stable/user_guide/indexing.html#returning-a-view-versus-a-copy\n",
      "  self.obj[key] = _infer_fill_value(value)\n",
      "C:\\Users\\Yael nidam\\Anaconda3\\lib\\site-packages\\pandas\\core\\indexing.py:494: SettingWithCopyWarning: \n",
      "A value is trying to be set on a copy of a slice from a DataFrame.\n",
      "Try using .loc[row_indexer,col_indexer] = value instead\n",
      "\n",
      "See the caveats in the documentation: http://pandas.pydata.org/pandas-docs/stable/user_guide/indexing.html#returning-a-view-versus-a-copy\n",
      "  self.obj[item] = s\n"
     ]
    },
    {
     "data": {
      "text/html": [
       "<div>\n",
       "<style scoped>\n",
       "    .dataframe tbody tr th:only-of-type {\n",
       "        vertical-align: middle;\n",
       "    }\n",
       "\n",
       "    .dataframe tbody tr th {\n",
       "        vertical-align: top;\n",
       "    }\n",
       "\n",
       "    .dataframe thead th {\n",
       "        text-align: right;\n",
       "    }\n",
       "</style>\n",
       "<table border=\"1\" class=\"dataframe\">\n",
       "  <thead>\n",
       "    <tr style=\"text-align: right;\">\n",
       "      <th></th>\n",
       "      <th>diabetes_per1000</th>\n",
       "      <th>physical_inactivity_per1000</th>\n",
       "      <th>obesity_per1000</th>\n",
       "      <th>sex and age_total population_65 years and over_sex ratio (males per 100 females)</th>\n",
       "      <th>race alone or in combination with one or more other races_total population</th>\n",
       "      <th>race alone or in combination with one or more other races_total population_white</th>\n",
       "      <th>race alone or in combination with one or more other races_total population_black or african american</th>\n",
       "      <th>race alone or in combination with one or more other races_total population_american indian and alaska native</th>\n",
       "      <th>race alone or in combination with one or more other races_total population_asian</th>\n",
       "      <th>race alone or in combination with one or more other races_total population_native hawaiian and other pacific islander</th>\n",
       "      <th>...</th>\n",
       "      <th>pct_60_to_64</th>\n",
       "      <th>pct_65_to_74</th>\n",
       "      <th>pct_75_to_84</th>\n",
       "      <th>pct_85_over</th>\n",
       "      <th>pct_male</th>\n",
       "      <th>pct_female</th>\n",
       "      <th>houses_per_capita</th>\n",
       "      <th>citizens_per_capita</th>\n",
       "      <th>diabetes_cat</th>\n",
       "      <th>diabetes_binary</th>\n",
       "    </tr>\n",
       "  </thead>\n",
       "  <tbody>\n",
       "    <tr>\n",
       "      <td>0</td>\n",
       "      <td>93.804348</td>\n",
       "      <td>226.902174</td>\n",
       "      <td>244.365942</td>\n",
       "      <td>76.5</td>\n",
       "      <td>55200</td>\n",
       "      <td>43367</td>\n",
       "      <td>10962</td>\n",
       "      <td>464</td>\n",
       "      <td>895</td>\n",
       "      <td>115</td>\n",
       "      <td>...</td>\n",
       "      <td>0.048804</td>\n",
       "      <td>0.085344</td>\n",
       "      <td>0.045725</td>\n",
       "      <td>0.014764</td>\n",
       "      <td>0.486848</td>\n",
       "      <td>0.513152</td>\n",
       "      <td>0.422373</td>\n",
       "      <td>0.748261</td>\n",
       "      <td>&gt;= 89.29</td>\n",
       "      <td>1</td>\n",
       "    </tr>\n",
       "    <tr>\n",
       "      <td>1</td>\n",
       "      <td>80.280817</td>\n",
       "      <td>192.324141</td>\n",
       "      <td>233.255008</td>\n",
       "      <td>86.6</td>\n",
       "      <td>208107</td>\n",
       "      <td>182689</td>\n",
       "      <td>20311</td>\n",
       "      <td>3185</td>\n",
       "      <td>2824</td>\n",
       "      <td>79</td>\n",
       "      <td>...</td>\n",
       "      <td>0.071362</td>\n",
       "      <td>0.117973</td>\n",
       "      <td>0.058456</td>\n",
       "      <td>0.018976</td>\n",
       "      <td>0.486231</td>\n",
       "      <td>0.513769</td>\n",
       "      <td>0.537920</td>\n",
       "      <td>0.764957</td>\n",
       "      <td>&lt; 89.29</td>\n",
       "      <td>0</td>\n",
       "    </tr>\n",
       "    <tr>\n",
       "      <td>2</td>\n",
       "      <td>131.874952</td>\n",
       "      <td>210.650842</td>\n",
       "      <td>310.643084</td>\n",
       "      <td>76.2</td>\n",
       "      <td>25782</td>\n",
       "      <td>12461</td>\n",
       "      <td>12492</td>\n",
       "      <td>301</td>\n",
       "      <td>155</td>\n",
       "      <td>1</td>\n",
       "      <td>...</td>\n",
       "      <td>0.064037</td>\n",
       "      <td>0.109379</td>\n",
       "      <td>0.053991</td>\n",
       "      <td>0.016368</td>\n",
       "      <td>0.531262</td>\n",
       "      <td>0.468738</td>\n",
       "      <td>0.462997</td>\n",
       "      <td>0.775386</td>\n",
       "      <td>&gt;= 89.29</td>\n",
       "      <td>1</td>\n",
       "    </tr>\n",
       "  </tbody>\n",
       "</table>\n",
       "<p>3 rows × 61 columns</p>\n",
       "</div>"
      ],
      "text/plain": [
       "   diabetes_per1000  physical_inactivity_per1000  obesity_per1000  \\\n",
       "0         93.804348                   226.902174       244.365942   \n",
       "1         80.280817                   192.324141       233.255008   \n",
       "2        131.874952                   210.650842       310.643084   \n",
       "\n",
       "   sex and age_total population_65 years and over_sex ratio (males per 100 females)  \\\n",
       "0                                               76.5                                  \n",
       "1                                               86.6                                  \n",
       "2                                               76.2                                  \n",
       "\n",
       "   race alone or in combination with one or more other races_total population  \\\n",
       "0                                              55200                            \n",
       "1                                             208107                            \n",
       "2                                              25782                            \n",
       "\n",
       "   race alone or in combination with one or more other races_total population_white  \\\n",
       "0                                              43367                                  \n",
       "1                                             182689                                  \n",
       "2                                              12461                                  \n",
       "\n",
       "   race alone or in combination with one or more other races_total population_black or african american  \\\n",
       "0                                              10962                                                      \n",
       "1                                              20311                                                      \n",
       "2                                              12492                                                      \n",
       "\n",
       "   race alone or in combination with one or more other races_total population_american indian and alaska native  \\\n",
       "0                                                464                                                              \n",
       "1                                               3185                                                              \n",
       "2                                                301                                                              \n",
       "\n",
       "   race alone or in combination with one or more other races_total population_asian  \\\n",
       "0                                                895                                  \n",
       "1                                               2824                                  \n",
       "2                                                155                                  \n",
       "\n",
       "   race alone or in combination with one or more other races_total population_native hawaiian and other pacific islander  \\\n",
       "0                                                115                                                                       \n",
       "1                                                 79                                                                       \n",
       "2                                                  1                                                                       \n",
       "\n",
       "   ...  pct_60_to_64  pct_65_to_74  pct_75_to_84  pct_85_over  pct_male  \\\n",
       "0  ...      0.048804      0.085344      0.045725     0.014764  0.486848   \n",
       "1  ...      0.071362      0.117973      0.058456     0.018976  0.486231   \n",
       "2  ...      0.064037      0.109379      0.053991     0.016368  0.531262   \n",
       "\n",
       "   pct_female  houses_per_capita  citizens_per_capita  diabetes_cat  \\\n",
       "0    0.513152           0.422373             0.748261      >= 89.29   \n",
       "1    0.513769           0.537920             0.764957       < 89.29   \n",
       "2    0.468738           0.462997             0.775386      >= 89.29   \n",
       "\n",
       "   diabetes_binary  \n",
       "0                1  \n",
       "1                0  \n",
       "2                1  \n",
       "\n",
       "[3 rows x 61 columns]"
      ]
     },
     "execution_count": 17,
     "metadata": {},
     "output_type": "execute_result"
    }
   ],
   "source": [
    "# create a binary variable for logistic regression\n",
    "diabetes_clean.describe() #median of Diabetes counts is 89.29 [high diabetes: >89.29 and low diabetes <=89.29]\n",
    "diabetes_clean.loc[diabetes_clean['diabetes_per1000'] < 89.29, 'diabetes_cat'] = \"< 89.29\"\n",
    "diabetes_clean.loc[diabetes_clean['diabetes_per1000'] >= 89.29, 'diabetes_cat'] = \">= 89.29\"\n",
    "\n",
    "from sklearn.preprocessing import LabelBinarizer\n",
    "\n",
    "lb_style = LabelBinarizer()\n",
    "diabetes_clean.loc[:,'diabetes_binary'] = lb_style.fit_transform(diabetes_clean.loc[:,\"diabetes_cat\"])\n",
    "diabetes_clean.head(3)"
   ]
  },
  {
   "cell_type": "code",
   "execution_count": 18,
   "metadata": {},
   "outputs": [
    {
     "data": {
      "text/html": [
       "<div>\n",
       "<style scoped>\n",
       "    .dataframe tbody tr th:only-of-type {\n",
       "        vertical-align: middle;\n",
       "    }\n",
       "\n",
       "    .dataframe tbody tr th {\n",
       "        vertical-align: top;\n",
       "    }\n",
       "\n",
       "    .dataframe thead th {\n",
       "        text-align: right;\n",
       "    }\n",
       "</style>\n",
       "<table border=\"1\" class=\"dataframe\">\n",
       "  <thead>\n",
       "    <tr style=\"text-align: right;\">\n",
       "      <th></th>\n",
       "      <th>diabetes_per1000</th>\n",
       "      <th>physical_inactivity_per1000</th>\n",
       "      <th>obesity_per1000</th>\n",
       "      <th>diabetes_binary</th>\n",
       "      <th>pct_white</th>\n",
       "      <th>pct_black</th>\n",
       "      <th>pct_native</th>\n",
       "      <th>pct_asian</th>\n",
       "      <th>pct_pacisl</th>\n",
       "      <th>pct_other</th>\n",
       "      <th>...</th>\n",
       "      <th>pct_45_to_54</th>\n",
       "      <th>pct_55_to_59</th>\n",
       "      <th>pct_60_to_64</th>\n",
       "      <th>pct_65_to_74</th>\n",
       "      <th>pct_75_to_84</th>\n",
       "      <th>pct_85_over</th>\n",
       "      <th>pct_male</th>\n",
       "      <th>pct_female</th>\n",
       "      <th>houses_per_capita</th>\n",
       "      <th>citizens_per_capita</th>\n",
       "    </tr>\n",
       "  </thead>\n",
       "  <tbody>\n",
       "    <tr>\n",
       "      <td>0</td>\n",
       "      <td>93.804348</td>\n",
       "      <td>226.902174</td>\n",
       "      <td>244.365942</td>\n",
       "      <td>1</td>\n",
       "      <td>0.785634</td>\n",
       "      <td>0.198587</td>\n",
       "      <td>0.008406</td>\n",
       "      <td>0.016214</td>\n",
       "      <td>0.002083</td>\n",
       "      <td>0.007736</td>\n",
       "      <td>...</td>\n",
       "      <td>0.142264</td>\n",
       "      <td>0.074837</td>\n",
       "      <td>0.048804</td>\n",
       "      <td>0.085344</td>\n",
       "      <td>0.045725</td>\n",
       "      <td>0.014764</td>\n",
       "      <td>0.486848</td>\n",
       "      <td>0.513152</td>\n",
       "      <td>0.422373</td>\n",
       "      <td>0.748261</td>\n",
       "    </tr>\n",
       "    <tr>\n",
       "      <td>1</td>\n",
       "      <td>80.280817</td>\n",
       "      <td>192.324141</td>\n",
       "      <td>233.255008</td>\n",
       "      <td>0</td>\n",
       "      <td>0.877861</td>\n",
       "      <td>0.097599</td>\n",
       "      <td>0.015305</td>\n",
       "      <td>0.013570</td>\n",
       "      <td>0.000380</td>\n",
       "      <td>0.012724</td>\n",
       "      <td>...</td>\n",
       "      <td>0.136132</td>\n",
       "      <td>0.069387</td>\n",
       "      <td>0.071362</td>\n",
       "      <td>0.117973</td>\n",
       "      <td>0.058456</td>\n",
       "      <td>0.018976</td>\n",
       "      <td>0.486231</td>\n",
       "      <td>0.513769</td>\n",
       "      <td>0.537920</td>\n",
       "      <td>0.764957</td>\n",
       "    </tr>\n",
       "    <tr>\n",
       "      <td>2</td>\n",
       "      <td>131.874952</td>\n",
       "      <td>210.650842</td>\n",
       "      <td>310.643084</td>\n",
       "      <td>1</td>\n",
       "      <td>0.483322</td>\n",
       "      <td>0.484524</td>\n",
       "      <td>0.011675</td>\n",
       "      <td>0.006012</td>\n",
       "      <td>0.000039</td>\n",
       "      <td>0.031029</td>\n",
       "      <td>...</td>\n",
       "      <td>0.133892</td>\n",
       "      <td>0.064270</td>\n",
       "      <td>0.064037</td>\n",
       "      <td>0.109379</td>\n",
       "      <td>0.053991</td>\n",
       "      <td>0.016368</td>\n",
       "      <td>0.531262</td>\n",
       "      <td>0.468738</td>\n",
       "      <td>0.462997</td>\n",
       "      <td>0.775386</td>\n",
       "    </tr>\n",
       "    <tr>\n",
       "      <td>3</td>\n",
       "      <td>105.251476</td>\n",
       "      <td>258.667377</td>\n",
       "      <td>290.051938</td>\n",
       "      <td>1</td>\n",
       "      <td>0.774493</td>\n",
       "      <td>0.227150</td>\n",
       "      <td>0.003995</td>\n",
       "      <td>0.002264</td>\n",
       "      <td>0.000000</td>\n",
       "      <td>0.000400</td>\n",
       "      <td>...</td>\n",
       "      <td>0.152661</td>\n",
       "      <td>0.066320</td>\n",
       "      <td>0.053980</td>\n",
       "      <td>0.094198</td>\n",
       "      <td>0.049363</td>\n",
       "      <td>0.018955</td>\n",
       "      <td>0.539442</td>\n",
       "      <td>0.460558</td>\n",
       "      <td>0.406668</td>\n",
       "      <td>0.784481</td>\n",
       "    </tr>\n",
       "    <tr>\n",
       "      <td>4</td>\n",
       "      <td>108.977361</td>\n",
       "      <td>249.197675</td>\n",
       "      <td>246.803712</td>\n",
       "      <td>1</td>\n",
       "      <td>0.971134</td>\n",
       "      <td>0.019499</td>\n",
       "      <td>0.012386</td>\n",
       "      <td>0.005065</td>\n",
       "      <td>0.000919</td>\n",
       "      <td>0.008309</td>\n",
       "      <td>...</td>\n",
       "      <td>0.137861</td>\n",
       "      <td>0.067569</td>\n",
       "      <td>0.062677</td>\n",
       "      <td>0.106375</td>\n",
       "      <td>0.056119</td>\n",
       "      <td>0.015023</td>\n",
       "      <td>0.493260</td>\n",
       "      <td>0.506740</td>\n",
       "      <td>0.420193</td>\n",
       "      <td>0.739474</td>\n",
       "    </tr>\n",
       "  </tbody>\n",
       "</table>\n",
       "<p>5 rows × 28 columns</p>\n",
       "</div>"
      ],
      "text/plain": [
       "   diabetes_per1000  physical_inactivity_per1000  obesity_per1000  \\\n",
       "0         93.804348                   226.902174       244.365942   \n",
       "1         80.280817                   192.324141       233.255008   \n",
       "2        131.874952                   210.650842       310.643084   \n",
       "3        105.251476                   258.667377       290.051938   \n",
       "4        108.977361                   249.197675       246.803712   \n",
       "\n",
       "   diabetes_binary  pct_white  pct_black  pct_native  pct_asian  pct_pacisl  \\\n",
       "0                1   0.785634   0.198587    0.008406   0.016214    0.002083   \n",
       "1                0   0.877861   0.097599    0.015305   0.013570    0.000380   \n",
       "2                1   0.483322   0.484524    0.011675   0.006012    0.000039   \n",
       "3                1   0.774493   0.227150    0.003995   0.002264    0.000000   \n",
       "4                1   0.971134   0.019499    0.012386   0.005065    0.000919   \n",
       "\n",
       "   pct_other  ...  pct_45_to_54  pct_55_to_59  pct_60_to_64  pct_65_to_74  \\\n",
       "0   0.007736  ...      0.142264      0.074837      0.048804      0.085344   \n",
       "1   0.012724  ...      0.136132      0.069387      0.071362      0.117973   \n",
       "2   0.031029  ...      0.133892      0.064270      0.064037      0.109379   \n",
       "3   0.000400  ...      0.152661      0.066320      0.053980      0.094198   \n",
       "4   0.008309  ...      0.137861      0.067569      0.062677      0.106375   \n",
       "\n",
       "   pct_75_to_84  pct_85_over  pct_male  pct_female  houses_per_capita  \\\n",
       "0      0.045725     0.014764  0.486848    0.513152           0.422373   \n",
       "1      0.058456     0.018976  0.486231    0.513769           0.537920   \n",
       "2      0.053991     0.016368  0.531262    0.468738           0.462997   \n",
       "3      0.049363     0.018955  0.539442    0.460558           0.406668   \n",
       "4      0.056119     0.015023  0.493260    0.506740           0.420193   \n",
       "\n",
       "   citizens_per_capita  \n",
       "0             0.748261  \n",
       "1             0.764957  \n",
       "2             0.775386  \n",
       "3             0.784481  \n",
       "4             0.739474  \n",
       "\n",
       "[5 rows x 28 columns]"
      ]
     },
     "execution_count": 18,
     "metadata": {},
     "output_type": "execute_result"
    }
   ],
   "source": [
    "# We create a final clean dataset with all the features renamed and set as a rate/percentage to account for population size.\n",
    "diabetes_clean2 = diabetes_clean[['diabetes_per1000',\n",
    "                                 'physical_inactivity_per1000',\n",
    "                                 'obesity_per1000','diabetes_binary',\n",
    "                                 'pct_white',\n",
    "                                 'pct_black',\n",
    "                                 'pct_native',\n",
    "                                 'pct_asian',\n",
    "                                 'pct_pacisl',\n",
    "                                 'pct_other',\n",
    "                                 'pct_hispan',\n",
    "                                 'pct_under5',\n",
    "                                 'pct_5_to_9',\n",
    "                                 'pct_10_to_14',\n",
    "                                 'pct_15_to_19',\n",
    "                                 'pct_20_to_24',\n",
    "                                 'pct_25_to_34',\n",
    "                                 'pct_35_to_44',\n",
    "                                 'pct_45_to_54',\n",
    "                                 'pct_55_to_59',\n",
    "                                 'pct_60_to_64',\n",
    "                                 'pct_65_to_74',\n",
    "                                 'pct_75_to_84',\n",
    "                                 'pct_85_over',\n",
    "                                 'pct_male',\n",
    "                                 'pct_female',\n",
    "                                 'houses_per_capita',\n",
    "                                 'citizens_per_capita']]\n",
    "diabetes_clean2.head()"
   ]
  },
  {
   "cell_type": "code",
   "execution_count": 19,
   "metadata": {},
   "outputs": [],
   "source": [
    "#pd.set_option('display.max_rows', None)\n",
    "#diabetes_clean.corr()\n",
    "#diabetes_clean.corr()['race_total population']\n",
    "#diabetes_clean.corr()['total housing units']\n",
    "#diabetes_clean.corr()['race alone or in combination with one or more other races_total population_white']\n",
    "#diabetes_clean.corr()['race_total population_one race_white']\n",
    "#diabetes_clean.corr()['race_total population_one race_black or african american']\n",
    "#diabetes_clean.corr()['race_total population_one race_american indian and alaska native']\n",
    "#diabetes_clean.corr()['race_total population_one race_asian']\n",
    "#diabetes_clean.corr()['citizen -  voting age population_citizen -  18 and over population']\n",
    "#diabetes_clean.corr()['sex and age_total population_sex ratio (males per 100 females)]"
   ]
  },
  {
   "cell_type": "markdown",
   "metadata": {},
   "source": [
    "### 3.3 Partition Data"
   ]
  },
  {
   "cell_type": "markdown",
   "metadata": {},
   "source": [
    "First, we specify our features and outcomes."
   ]
  },
  {
   "cell_type": "code",
   "execution_count": 20,
   "metadata": {},
   "outputs": [
    {
     "data": {
      "text/plain": [
       "(3112, 26)"
      ]
     },
     "execution_count": 20,
     "metadata": {},
     "output_type": "execute_result"
    }
   ],
   "source": [
    "# parse data \n",
    "X = diabetes_clean2.drop(['diabetes_per1000', 'diabetes_binary'], axis=1)\n",
    "Y = diabetes_clean2['diabetes_per1000'] # for all other models\n",
    "Y1 = diabetes_clean2['diabetes_binary'] # for logistic regression\n",
    "\n",
    "X.shape"
   ]
  },
  {
   "cell_type": "markdown",
   "metadata": {},
   "source": [
    "#### Training Set\n",
    "\n",
    "Since our dataset is small, we are interested in saving a relatively large portion (80%) of it for the training and validation sets, so that we can reduce overfitting. We also plan to fit validation models as well in order to tune the hyperparameters. The split out data 80:10:10 into training:validation:test data."
   ]
  },
  {
   "cell_type": "code",
   "execution_count": 21,
   "metadata": {},
   "outputs": [
    {
     "name": "stdout",
     "output_type": "stream",
     "text": [
      "Shape of X train is (2489, 26)\n",
      "Shape of y_train is (2489,)\n",
      "Shape of X_test is (623, 26)\n",
      "Shape of y_test is (623,)\n",
      "Shape of y_train1 is (2489,)\n",
      "Shape of y_test1 is (623,)\n"
     ]
    }
   ],
   "source": [
    "from sklearn.model_selection import train_test_split\n",
    "\n",
    "# set the random seed to ensure that results are similar across different runs and machines. \n",
    "np.random.seed(10)\n",
    "\n",
    "X_train, X_test, y_train, y_test = train_test_split(X, Y,\n",
    "                                                    train_size=0.80, test_size=0.20)\n",
    "# for logistic regression splitting the data 4 ways\n",
    "X_train1, X_test1, y_train1, y_test1 = train_test_split(X, Y1,\n",
    "                                                    train_size=0.80, test_size=0.20)\n",
    "\n",
    "print(\"Shape of X train is\", X_train.shape)\n",
    "print(\"Shape of y_train is\", y_train.shape)\n",
    "print(\"Shape of X_test is\", X_test.shape)\n",
    "print(\"Shape of y_test is\", y_test.shape)\n",
    "print(\"Shape of y_train1 is\", y_train.shape)\n",
    "print(\"Shape of y_test1 is\", y_test.shape)"
   ]
  },
  {
   "cell_type": "markdown",
   "metadata": {},
   "source": [
    "#### Validation Set\n",
    "\n",
    "In order to tune our hyperparamters, we also set aside a validation data set from the training data. We subset 75% of our training data as validaton data. This gives a total split of training:validation:test as 60:20:20. "
   ]
  },
  {
   "cell_type": "code",
   "execution_count": 22,
   "metadata": {},
   "outputs": [
    {
     "name": "stdout",
     "output_type": "stream",
     "text": [
      "Shape of X train is (1866, 26)\n",
      "Shape of y_train is (1866,)\n",
      "Shape of X_validate is (623, 26)\n",
      "Shape of y_validate is (623,)\n",
      "Shape of y_train is (1866,)\n",
      "Shape of y_validate is (623,)\n"
     ]
    }
   ],
   "source": [
    "X_train, X_validate, y_train, y_validate = train_test_split(X_train, y_train,\n",
    "                                                    train_size=0.75, test_size=0.25)\n",
    "\n",
    "# validation set for logistic regression\n",
    "X_train1, X_validate1, y_train1, y_validate1 = train_test_split(X_train1, y_train1,\n",
    "                                                    train_size=0.75, test_size=0.25)\n",
    "\n",
    "print(\"Shape of X train is\", X_train.shape)\n",
    "print(\"Shape of y_train is\", y_train.shape)\n",
    "print(\"Shape of X_validate is\", X_validate.shape)\n",
    "print(\"Shape of y_validate is\", y_validate.shape)\n",
    "print(\"Shape of y_train is\", y_train1.shape)\n",
    "print(\"Shape of y_validate is\", y_validate1.shape)"
   ]
  },
  {
   "cell_type": "markdown",
   "metadata": {},
   "source": [
    "## 4. Train Models\n",
    "\n",
    "### 4.1 Model Descriptions\n",
    "\n",
    "#### OLS: Linear regression\n",
    "Basic logic and assumptions underlying the model: \n",
    "Ordinary Least Squares regression works to predict an outcome variable based on one or more treatment variables, using training data to estimate coefficients for the model. It assumes a linear relationship between the treatment variables and the outcome variable. OLS fits coefficients using values that minimize the sum of the squared errors, the distance from the predicted outcomes to the actual outcomes. \n",
    " \n",
    "Pros: \n",
    "OLS is straightforward and easy to interpret (when there are a reasonable number of predictors). It isn’t dependent on the scale of its predictors.\n",
    " \n",
    "Cons: \n",
    "OLS assumes a linear relationship between X and Y, not allowing for much flexibility in the model. It is prone to overfitting (and does not account for the number of variables used), and can run into issues if input variables are correlated. While it provides unbiased estimates, this is at the cost of high variance in the test data. \n",
    " \n",
    "Why it works for this problem: \n",
    "OLS regression works well for predicting continuous and numeric variables that have a linear relationship. Our problem involves continuous numeric variables, which allows us to use OLS. As it assumes linear relationships, it may not end up being the best fit (we dropped two of our predictors that were linearly related to our outcome as they were highly correlated with our other predictors). That being said, it can serve as a useful comparison point for our other models.\n",
    " \n",
    "#### Logistic regression\n",
    "Basic logic and assumptions underlying the model: \n",
    "Logistic regressions models the probability of Y being a certain binary outcome, given one or more input variables. Input variables are used to estimate coefficients that maximize a likelihood function.\n",
    " \n",
    "Pros: \n",
    "Logistic regressions are simple and easy to understand and interpret (again, conditional on not having too many predictors).\n",
    " \n",
    "Cons: \n",
    "Logistic regressions don’t perform well on non-linear data, or data with extraneous or correlated features. They may overfit when tasked with many features, and assume underlying linear relationships (between the logit of the outcome and each predictor), which means that it often is not the best method to use where complex relationships are involved. They are limited to binary outcomes.\n",
    " \n",
    "Why it works for this problem: \n",
    "Logistic regression makes sense for binary classifications, which means that it isn’t a perfect fit for our problem. However, our problem can be framed in a binary way: whether or not a county has a high rate of diabetes, which allows us to use logistic regression but introduces judgment beforehand about what constitutes a “high” rate of diabetes.\n",
    " \n",
    "#### Ridge\n",
    "Basic logic and assumptions underlying the model: \n",
    "Ridge builds off of OLS by shrinking regression coefficients toward zero in order to penalize overfitting, using the sum of squared coefficients.\n",
    " \n",
    "Pros: \n",
    "Reduction in variance from OLS (sometimes at the expense of an increase in bias). Ridge therefore works very well where there’s large variance.\n",
    " \n",
    "Cons: \n",
    "Bias increases in the tradeoff made with a reduction in variance from OLS. Ridge is also easily affected by scale (we need to standardize coefficients to be of similar size). We can’t use it to do variable selection because it doesn’t shrink variables to be exactly zero.\n",
    " \n",
    "Why it works for this problem: \n",
    "We can use Ridge for the same reasons that we can use OLS. Ridge often improves upon OLS, reducing variance, and depending on our data (if all predictor coefficients are of a similar size) it may be a better fit than Lasso. At this point, we don’t know which of the two would best fit our data.\n",
    " \n",
    "#### Lasso\n",
    "Basic logic and assumptions underlying the model: \n",
    "Similar to Ridge, Lasso shrinks regression coefficients toward zero by penalizing overfitting using the sum of the coefficients. Unlike Ridge, which uses all variables as predictors, Lasso can force some coefficient estimates to be exactly equal to zero, selecting only some variables to use as predictors.\n",
    " \n",
    "Pros: \n",
    "Lasso is similar to Ridge, but produces simpler and more interpretable models. Lasso generally will perform better than Ridge where predictors are of very different sizes (in terms of bias and variance). It implicitly performs feature selection. \n",
    " \n",
    "Cons: \n",
    "Similar to OLS, Ridge, and Logistic regression, it is prone to overfitting and doesn’t handle extraneous or correlated features well. When there are many correlated features (predictors), it will keep only one but it’s choice of which one to keep is not clear. \n",
    " \n",
    "Why it works for this problem: \n",
    "Similar to Ridge, we are able to use Lasso to generate estimates that improve upon OLS by penalizing overfitting. Depending on our data, and the amount of variance in our predictors’ coefficient sizes,  it may be a better fit than Ridge. At this point, we don’t know which of the two would best fit our data.\n",
    " \n",
    "#### Nearest neighbors regression\n",
    "Basic logic and assumptions underlying the model: \n",
    "K-nearest neighbors makes predictions by identifying the observations in the dataset that are closest to the observation it is predicting, and assigning the new observation to the class that the majority of the most-similar observations (nearest neighbors) are in.\n",
    " \n",
    "Pros: \n",
    "Nearest neighbors is simple and doesn’t assume relationships between variables (such as linear relationships assumed by the other models described).\n",
    " \n",
    "Cons: \n",
    "Nearest neighbors is sensitive to outliers, and needs to use scaled data. It also can be difficult and slow with large datasets or those with many features. It doesn’t describe what predictors are most important – we don’t get information about coefficients or the like - so functions more as a black box.\n",
    " \n",
    "Why it works for this problem: \n",
    "Nearest neighbors works for classification problems, and works best when there aren’t too many features, which is the case for our dataset. The fact that it does not assume any relationships between our variables makes it quite appealing.\n",
    "\n",
    "\n"
   ]
  },
  {
   "cell_type": "markdown",
   "metadata": {},
   "source": [
    "### 4.2 Train Models\n",
    "1. Linear Regression\n",
    "2. Logistic Regression\n",
    "3. Ridge Regression\n",
    "4. Lasso\n",
    "5. Nearest neighbors"
   ]
  },
  {
   "cell_type": "markdown",
   "metadata": {},
   "source": [
    "Below, we train each model on the training set and predict our outcome on the validation set. We then assess how well our models fit the train data by reporting accuracy scores. Documentation: https://scikit-learn.org/stable/modules/model_evaluation.html\n",
    "\n",
    "We ran into some issues with logistic regression not converging and the OLS coefficients being very large in magnitude due to different scales of the variables. We therefore scaled all our variables to be mean zero and unit standard deviation. This is a necessary prior step when running Ridge and Lasso too.  "
   ]
  },
  {
   "cell_type": "markdown",
   "metadata": {},
   "source": [
    "#### Process steps for each ML method:"
   ]
  },
  {
   "cell_type": "markdown",
   "metadata": {},
   "source": [
    "We want to see how well each model fits the data. Using the training data, we fit each model and predict the response variable.  We calculate the mean squared error to understand how well the model fits the training data, and that will help us compare models. "
   ]
  },
  {
   "cell_type": "markdown",
   "metadata": {},
   "source": [
    "__Steps:__\n",
    "\n",
    "1. Create object to store the ML method.\n",
    "2. Fit the model on the training data.\n",
    "3. Plot coefficients.\n",
    "4. Predict on the training data\n",
    "5. calcualte the RMSE\n",
    "6. Tune hyperparameters where applicable."
   ]
  },
  {
   "cell_type": "code",
   "execution_count": 23,
   "metadata": {},
   "outputs": [],
   "source": [
    "# We define a function to estimate the Root-Mean-Square-Deviation for all models.\n",
    "def rmse(pred, actual):\n",
    "    return np.sqrt(np.mean((pred - actual) ** 2))"
   ]
  },
  {
   "cell_type": "markdown",
   "metadata": {},
   "source": [
    "#### 1. OLS"
   ]
  },
  {
   "cell_type": "code",
   "execution_count": 24,
   "metadata": {},
   "outputs": [
    {
     "name": "stdout",
     "output_type": "stream",
     "text": [
      "[   0.20239876    0.17411632  -55.578059     -9.53386935  -14.81214399\n",
      "  -92.24347503  122.9663234   -49.77867771    9.95431984    6.79821174\n",
      " -136.68252951    9.06408854   64.04218691  -63.456923    -66.68322489\n",
      "   83.54936289   59.35692696  -32.11552579  -95.99719448  161.65881192\n",
      "  104.59227029  -94.12646157  -31.80933779   31.80933779   -5.27421057\n",
      "   17.40938859]\n",
      "34.726960954639765\n"
     ]
    }
   ],
   "source": [
    "# 1.create a model\n",
    "lin_reg = LinearRegression()\n",
    "\n",
    "# 2.fit the model\n",
    "lin_model = lin_reg.fit(X_train, y_train)\n",
    "\n",
    "# look at the coefficients\n",
    "print(lin_model.coef_)\n",
    "print(lin_model.intercept_)"
   ]
  },
  {
   "cell_type": "markdown",
   "metadata": {},
   "source": [
    "We can visualize the coefficients. There are many coefficients with large magnitudes. As our data has not yet been normalized, it is hard to know if this means they are important or not."
   ]
  },
  {
   "cell_type": "code",
   "execution_count": 25,
   "metadata": {},
   "outputs": [
    {
     "data": {
      "image/png": "[encoded data removed]",
      "text/plain": [
       "<Figure size 432x288 with 1 Axes>"
      ]
     },
     "metadata": {
      "needs_background": "light"
     },
     "output_type": "display_data"
    }
   ],
   "source": [
    "# 3. Plot coefficients \n",
    "# Create a dataframe with the coefficient and feature names\n",
    "lin_reg_data = pd.DataFrame([lin_model.coef_, X.columns]).T\n",
    "lin_reg_data.columns = ['Coefficient', 'Feature']\n",
    "# Plot\n",
    "ax = sns.barplot(data = lin_reg_data, y = 'Feature', x = 'Coefficient')\n",
    "ax.set_title(\"OLS Coefficients\")\n",
    "plt.show()"
   ]
  },
  {
   "cell_type": "markdown",
   "metadata": {},
   "source": [
    "We want to see how well this model fits our data. We predict our response variable from the training data and report the mean squared error, which will be used to compare this model with other models."
   ]
  },
  {
   "cell_type": "code",
   "execution_count": 26,
   "metadata": {},
   "outputs": [
    {
     "data": {
      "text/plain": [
       "19.262891237638375"
      ]
     },
     "execution_count": 26,
     "metadata": {},
     "output_type": "execute_result"
    }
   ],
   "source": [
    "# 4. predict on the Training data\n",
    "lin_pred = lin_model.predict(X_train)\n",
    "\n",
    "# 5. calculate RMSE\n",
    "rmse(lin_pred, y_train)"
   ]
  },
  {
   "cell_type": "markdown",
   "metadata": {},
   "source": [
    "Below we tune the hyperparameters of the OLS model. We will then use they hyperparameters on the validation set in 5.1."
   ]
  },
  {
   "cell_type": "code",
   "execution_count": 27,
   "metadata": {},
   "outputs": [
    {
     "name": "stdout",
     "output_type": "stream",
     "text": [
      "{'fit_intercept': 'True', 'normalize': 'True'}\n"
     ]
    }
   ],
   "source": [
    "# 6. Tune Hyperparameters\n",
    "param_grid = {'fit_intercept': ['True', 'False'],\n",
    "              'normalize': ['True', 'False']}\n",
    "lin_grid_reg = GridSearchCV(lin_reg, param_grid, cv=5, iid=False)\n",
    "lin_grid_reg=lin_grid_reg.fit(X_train, y_train)\n",
    "\n",
    "best_lin_index = np.argmax(lin_grid_reg.cv_results_[\"mean_test_score\"])\n",
    "\n",
    "# print out the best hyperparameters\n",
    "print(lin_grid_reg.cv_results_[\"params\"][best_lin_index])"
   ]
  },
  {
   "cell_type": "markdown",
   "metadata": {},
   "source": [
    "#### 2. Logistic Regression"
   ]
  },
  {
   "cell_type": "code",
   "execution_count": 28,
   "metadata": {},
   "outputs": [
    {
     "name": "stdout",
     "output_type": "stream",
     "text": [
      "[[ 0.02471473  0.01601192 -1.39861737  1.32749739  1.24170286 -1.97983609\n",
      "  -0.12413556  0.2489731   0.58994304 -0.44775733 -0.62018968  0.04533513\n",
      "  -0.21174399 -0.89900186 -0.87736671 -0.37925468  0.3846648   0.28489824\n",
      "   0.15030044  2.04074974  0.81447443 -0.29863306 -0.81126166  0.79773714\n",
      "   0.62076703  2.51613964]]\n",
      "[-10.13766468]\n"
     ]
    }
   ],
   "source": [
    "# 1. create a model\n",
    "log_reg = LogisticRegression(solver = 'lbfgs',max_iter=10000)\n",
    "\n",
    "# 2. fit the model\n",
    "log_model = log_reg.fit(X_train1, y_train1)\n",
    "\n",
    "print(log_model.coef_)\n",
    "print(log_model.intercept_)"
   ]
  },
  {
   "cell_type": "markdown",
   "metadata": {},
   "source": [
    "Examine the coefficients via visualization"
   ]
  },
  {
   "cell_type": "code",
   "execution_count": 29,
   "metadata": {},
   "outputs": [
    {
     "data": {
      "image/png": "[encoded data removed]",
      "text/plain": [
       "<Figure size 432x288 with 1 Axes>"
      ]
     },
     "metadata": {
      "needs_background": "light"
     },
     "output_type": "display_data"
    }
   ],
   "source": [
    "# 3. Plot Coefficients \n",
    "# Create a dataframe with the coefficient and feature names\n",
    "log_reg_data = pd.DataFrame([log_model.coef_[0], X.columns]).T\n",
    "log_reg_data.columns= ['Coefficient', 'Feature']\n",
    "# Plot\n",
    "ax = sns.barplot(x=\"Coefficient\", y=\"Feature\", data=log_reg_data)\n",
    "ax.set_title(\"Logistic regression Coefficients\")\n",
    "plt.show()"
   ]
  },
  {
   "cell_type": "code",
   "execution_count": 30,
   "metadata": {},
   "outputs": [
    {
     "data": {
      "text/plain": [
       "0.48171273566296"
      ]
     },
     "execution_count": 30,
     "metadata": {},
     "output_type": "execute_result"
    }
   ],
   "source": [
    "# 4. Predict on the training data\n",
    "log_pred = log_model.predict(X_train1)\n",
    "\n",
    "# 5. Calculate RMSE\n",
    "rmse(log_pred, y_train1)"
   ]
  },
  {
   "cell_type": "markdown",
   "metadata": {},
   "source": [
    "Below we tune the hyperparameters of the Logistic Regression model"
   ]
  },
  {
   "cell_type": "code",
   "execution_count": 31,
   "metadata": {},
   "outputs": [
    {
     "name": "stdout",
     "output_type": "stream",
     "text": [
      "{'fit_intercept': True, 'max_iter': 1000}\n"
     ]
    }
   ],
   "source": [
    "# 6. Tune Hyperparameters\n",
    "param_grid = {'fit_intercept': [True, False],\n",
    "             'max_iter': [1000]}\n",
    "log_grid_reg = GridSearchCV(log_reg, param_grid, cv=3, iid=False)\n",
    "log_grid_reg.fit(X_train1, y_train1)\n",
    "\n",
    "# print out the best hyperparameters\n",
    "best_log_index = np.argmax(log_grid_reg.cv_results_[\"mean_test_score\"])\n",
    "print(log_grid_reg.cv_results_[\"params\"][best_log_index])"
   ]
  },
  {
   "cell_type": "markdown",
   "metadata": {},
   "source": [
    "#### 3. Ridge Regression"
   ]
  },
  {
   "cell_type": "code",
   "execution_count": 32,
   "metadata": {},
   "outputs": [],
   "source": [
    "# 1.create a model\n",
    "ridge_reg = Ridge()\n",
    "\n",
    "# 2.fit the model\n",
    "ridge_model = ridge_reg.fit(X_train, y_train)"
   ]
  },
  {
   "cell_type": "markdown",
   "metadata": {},
   "source": [
    "Visualize coefficients "
   ]
  },
  {
   "cell_type": "code",
   "execution_count": 33,
   "metadata": {},
   "outputs": [
    {
     "data": {
      "image/png": "[encoded data removed]",
      "text/plain": [
       "<Figure size 432x288 with 1 Axes>"
      ]
     },
     "metadata": {
      "needs_background": "light"
     },
     "output_type": "display_data"
    }
   ],
   "source": [
    "# 3. Plot coefficients\n",
    "ridge_reg_data = pd.DataFrame([ridge_model.coef_, X.columns]).T\n",
    "ridge_reg_data.columns = ['Coefficient', 'Feature']\n",
    "ridge_reg_data.head()\n",
    "# Plot\n",
    "ax = sns.barplot(x=\"Coefficient\", y=\"Feature\", data=ridge_reg_data)\n",
    "ax.set_title(\"Ridge regression Coefficients\")\n",
    "plt.show()"
   ]
  },
  {
   "cell_type": "code",
   "execution_count": 34,
   "metadata": {},
   "outputs": [
    {
     "name": "stdout",
     "output_type": "stream",
     "text": [
      "Ridge RMSE:  19.49197179782137\n"
     ]
    }
   ],
   "source": [
    "# 4.predict on the training data\n",
    "ridge_pred = ridge_model.predict(X_train)\n",
    "\n",
    "#5.calculate rmse\n",
    "print(\"Ridge RMSE: \",rmse(ridge_pred, y_train))"
   ]
  },
  {
   "cell_type": "markdown",
   "metadata": {},
   "source": [
    "Next we tune the Ridge hyperparameters."
   ]
  },
  {
   "cell_type": "code",
   "execution_count": 35,
   "metadata": {},
   "outputs": [
    {
     "name": "stdout",
     "output_type": "stream",
     "text": [
      "{'alpha': 0.05, 'fit_intercept': 'True', 'normalize': 'True', 'solver': 'auto'}\n"
     ]
    }
   ],
   "source": [
    "# 6. Tune Hyperparameters\n",
    "param_grid = {'alpha': np.arange(.05, 1, .05),\n",
    "               'normalize': ['True', 'False'],\n",
    "             'fit_intercept': ['True', 'False'],\n",
    "             'solver': ['auto', 'svd', 'cholesky', 'lsqr']}\n",
    "\n",
    "ridge_grid_reg = GridSearchCV(ridge_reg, param_grid, cv=3, iid=False)\n",
    "ridge_grid_reg.fit(X_train, y_train)\n",
    "\n",
    "best_ridge_index = np.argmax(ridge_grid_reg.cv_results_[\"mean_test_score\"])\n",
    "\n",
    "print(ridge_grid_reg.cv_results_[\"params\"][best_ridge_index])"
   ]
  },
  {
   "cell_type": "markdown",
   "metadata": {},
   "source": [
    "#### 4. Lasso"
   ]
  },
  {
   "cell_type": "code",
   "execution_count": 73,
   "metadata": {},
   "outputs": [],
   "source": [
    "# 1.create a model\n",
    "lasso_reg = Lasso(max_iter=10000,alpha=0.07)\n",
    "\n",
    "# 2.fit the model\n",
    "lasso_model = lasso_reg.fit(X_train, y_train)"
   ]
  },
  {
   "cell_type": "code",
   "execution_count": 74,
   "metadata": {},
   "outputs": [
    {
     "data": {
      "image/png": "[encoded data removed]",
      "text/plain": [
       "<Figure size 432x288 with 1 Axes>"
      ]
     },
     "metadata": {
      "needs_background": "light"
     },
     "output_type": "display_data"
    }
   ],
   "source": [
    "# 3. Plot coefficients\n",
    "lasso_reg_data = pd.DataFrame([lasso_model.coef_, X.columns]).T\n",
    "lasso_reg_data.columns = ['Coefficient', 'Feature']\n",
    "lasso_reg_data.head()\n",
    "# Plot\n",
    "ax = sns.barplot(x=\"Coefficient\", y=\"Feature\", data=lasso_reg_data)\n",
    "ax.set_title(\"Lasso regression Coefficients\")\n",
    "plt.show()"
   ]
  },
  {
   "cell_type": "code",
   "execution_count": 75,
   "metadata": {},
   "outputs": [
    {
     "name": "stdout",
     "output_type": "stream",
     "text": [
      "LASSO RMSE:  19.910764472656968\n"
     ]
    }
   ],
   "source": [
    "# 4.predict on the training data\n",
    "lasso_pred = lasso_model.predict(X_train)\n",
    "\n",
    "#5.calculate rmse\n",
    "print(\"LASSO RMSE: \",rmse(lasso_pred, y_train))"
   ]
  },
  {
   "cell_type": "markdown",
   "metadata": {},
   "source": [
    "Next we tune the hyperparameters using the training set."
   ]
  },
  {
   "cell_type": "code",
   "execution_count": 77,
   "metadata": {},
   "outputs": [
    {
     "name": "stdout",
     "output_type": "stream",
     "text": [
      "{'alpha': 0.01, 'fit_intercept': 'False', 'normalize': 'False', 'selection': 'random'}\n"
     ]
    }
   ],
   "source": [
    "# 6. Tune Hyperparameters\n",
    "param_grid = {'alpha': np.arange(.01, 1, .01),\n",
    "               'normalize': ['True', 'False'],\n",
    "             'fit_intercept': ['True', 'False'],\n",
    "             'selection': ['cyclic', 'random']}\n",
    "\n",
    "lasso_grid_reg = GridSearchCV(lasso_reg, param_grid, cv=3, iid=False)\n",
    "lasso_grid_reg.fit(X_train, y_train)\n",
    "\n",
    "best_lasso_index = np.argmax(lasso_grid_reg.cv_results_[\"mean_test_score\"])\n",
    "\n",
    "print(lasso_grid_reg.cv_results_[\"params\"][best_lasso_index])"
   ]
  },
  {
   "cell_type": "markdown",
   "metadata": {},
   "source": [
    "#### 5. K-Nearest neighbors"
   ]
  },
  {
   "cell_type": "code",
   "execution_count": 40,
   "metadata": {},
   "outputs": [
    {
     "name": "stdout",
     "output_type": "stream",
     "text": [
      "Nearest neighbors RMSE:  18.637172447180735\n"
     ]
    }
   ],
   "source": [
    "# 1.create a model\n",
    "neigh_reg = KNeighborsRegressor(n_neighbors=5)\n",
    "\n",
    "# 2.fit the model\n",
    "neigh_model=neigh_reg.fit(X_train, y_train)\n",
    "\n",
    "# 3.predict on the training data\n",
    "neigh_pred = neigh_model.predict(X_train)\n",
    "\n",
    "#5.calculate rmse\n",
    "print(\"Nearest neighbors RMSE: \",rmse(neigh_pred, y_train))"
   ]
  },
  {
   "cell_type": "markdown",
   "metadata": {},
   "source": [
    "Tune hyperparameters"
   ]
  },
  {
   "cell_type": "code",
   "execution_count": 41,
   "metadata": {},
   "outputs": [
    {
     "name": "stdout",
     "output_type": "stream",
     "text": [
      "{'algorithm': 'ball_tree', 'n_neighbors': 10, 'weights': 'uniform'}\n"
     ]
    }
   ],
   "source": [
    "# 6. Tune Hyperparameters\n",
    "param_grid = {'weights': ['uniform', 'distance'], \n",
    "              'n_neighbors' : [1, 2, 3, 4, 5, 6, 7, 8, 9, 10], \n",
    "              'algorithm': ['ball_tree', 'kd_tree', 'brute']}\n",
    "\n",
    "neigh_grid_reg = GridSearchCV(neigh_reg, param_grid, cv=3, iid=False)\n",
    "neigh_grid_reg.fit(X_train, y_train)\n",
    "\n",
    "best_neigh_index = np.argmax(neigh_grid_reg.cv_results_[\"mean_test_score\"])\n",
    "\n",
    "print(neigh_grid_reg.cv_results_[\"params\"][best_neigh_index])"
   ]
  },
  {
   "cell_type": "markdown",
   "metadata": {},
   "source": [
    "## 5. Validate and Refine Model\n",
    "\n",
    "### 5.1 Predict on the Validation Set\n",
    "\n",
    "For each of the models below, we take the best model tuned above on the training data, and use it to predict on the validation data. We then report the RMSE for the validation data and plot the actual vs. predicted results."
   ]
  },
  {
   "cell_type": "markdown",
   "metadata": {},
   "source": [
    "#### 1. OLS"
   ]
  },
  {
   "cell_type": "code",
   "execution_count": 78,
   "metadata": {},
   "outputs": [
    {
     "name": "stdout",
     "output_type": "stream",
     "text": [
      "{'fit_intercept': 'True', 'normalize': 'True'}\n",
      "Best CV R^2: 0.4926976536133919\n",
      "Validation R^2: 0.45079611933089514\n",
      "Validation RMSE 21.804571989772022\n"
     ]
    }
   ],
   "source": [
    "# reminder of best hyperparameters \n",
    "print(lin_grid_reg.cv_results_[\"params\"][best_lin_index])\n",
    "\n",
    "# predict y on validation set\n",
    "best_lin_pred = lin_grid_reg.best_estimator_.predict(X_validate)\n",
    "\n",
    "print('Best CV R^2:', max(lin_grid_reg.cv_results_[\"mean_test_score\"]))\n",
    "print('Validation R^2:', lin_grid_reg.score(X_validate, y_validate))\n",
    "print('Validation RMSE', rmse(best_lin_pred, y_validate))"
   ]
  },
  {
   "cell_type": "code",
   "execution_count": 79,
   "metadata": {},
   "outputs": [
    {
     "data": {
      "image/png": "[encoded data removed]",
      "text/plain": [
       "<Figure size 432x288 with 1 Axes>"
      ]
     },
     "metadata": {
      "needs_background": "light"
     },
     "output_type": "display_data"
    }
   ],
   "source": [
    "# plot the fit for the validation set\n",
    "plt.scatter(y = best_lin_pred, x = y_validate)\n",
    "plt.title('Linear Model (OLS) Predicted v. Actual')\n",
    "plt.xlabel('actual value')\n",
    "plt.ylabel('predicted value')\n",
    "plt.show()"
   ]
  },
  {
   "cell_type": "markdown",
   "metadata": {},
   "source": [
    "#### 2. Logistic Regression"
   ]
  },
  {
   "cell_type": "code",
   "execution_count": 80,
   "metadata": {},
   "outputs": [
    {
     "name": "stdout",
     "output_type": "stream",
     "text": [
      "{'fit_intercept': True, 'max_iter': 1000}\n",
      "Best CV R^2: 0.766890960736711\n",
      "Validation R^2: 0.7367576243980738\n",
      "Validation RMSE 0.513071511196954\n"
     ]
    }
   ],
   "source": [
    "# print out best hyperparameters\n",
    "print(log_grid_reg.cv_results_[\"params\"][best_log_index])\n",
    "\n",
    "# use to predict on validation set\n",
    "best_log_pred = log_grid_reg.best_estimator_.predict(X_validate1)\n",
    "\n",
    "print('Best CV R^2:', max(log_grid_reg.cv_results_[\"mean_test_score\"]))\n",
    "print('Validation R^2:', log_grid_reg.score(X_validate1, y_validate1))\n",
    "print('Validation RMSE', rmse(best_log_pred, y_validate1))"
   ]
  },
  {
   "cell_type": "code",
   "execution_count": 82,
   "metadata": {},
   "outputs": [
    {
     "ename": "TypeError",
     "evalue": "confusion_matrix() got an unexpected keyword argument 'normalize'",
     "output_type": "error",
     "traceback": [
      "\u001b[1;31m---------------------------------------------------------------------------\u001b[0m",
      "\u001b[1;31mTypeError\u001b[0m                                 Traceback (most recent call last)",
      "\u001b[1;32m<ipython-input-82-ce61abd8353a>\u001b[0m in \u001b[0;36m<module>\u001b[1;34m\u001b[0m\n\u001b[0;32m      1\u001b[0m \u001b[1;31m# show a confusion matrix\u001b[0m\u001b[1;33m\u001b[0m\u001b[1;33m\u001b[0m\u001b[1;33m\u001b[0m\u001b[0m\n\u001b[1;32m----> 2\u001b[1;33m \u001b[0mcf_matrix\u001b[0m \u001b[1;33m=\u001b[0m \u001b[0mconfusion_matrix\u001b[0m\u001b[1;33m(\u001b[0m\u001b[0my_validate1\u001b[0m\u001b[1;33m,\u001b[0m \u001b[0mbest_log_pred\u001b[0m\u001b[1;33m,\u001b[0m \u001b[0mnormalize\u001b[0m \u001b[1;33m=\u001b[0m \u001b[1;34m\"true\"\u001b[0m\u001b[1;33m)\u001b[0m\u001b[1;33m\u001b[0m\u001b[1;33m\u001b[0m\u001b[0m\n\u001b[0m\u001b[0;32m      3\u001b[0m df_cm = pd.DataFrame(cf_matrix, range(2),\n\u001b[0;32m      4\u001b[0m                   range(2))\n\u001b[0;32m      5\u001b[0m \u001b[1;33m\u001b[0m\u001b[0m\n",
      "\u001b[1;31mTypeError\u001b[0m: confusion_matrix() got an unexpected keyword argument 'normalize'"
     ]
    }
   ],
   "source": [
    "# show a confusion matrix \n",
    "cf_matrix = confusion_matrix(y_validate1, best_log_pred, normalize = \"true\")\n",
    "df_cm = pd.DataFrame(cf_matrix, range(2),\n",
    "                  range(2))\n",
    "\n",
    "df_cm = df_cm.rename(index=str, columns={0: \"low\", 1: \"high\"})\n",
    "df_cm.index = [\"low\", \"high\"]\n",
    "plt.figure(figsize = (10,7))\n",
    "sns.set(font_scale=1.4)#for label size\n",
    "sns.heatmap(df_cm, \n",
    "           annot=True,\n",
    "           annot_kws={\"size\": 16},\n",
    "           fmt='g')\n",
    "\n",
    "plt.title(\"Confusion Matrix\")\n",
    "plt.xlabel(\"Predicted Label\")\n",
    "plt.ylabel(\"True Label\")\n",
    "plt.show()\n",
    "\n",
    "#plt.scatter(x = y_validate1, y = best_log_pred)\n",
    "#plt.title('Logistic Regression Model')\n",
    "#plt.xlabel('actual values')\n",
    "#plt.ylabel('predicted values')\n",
    "#plt.show()"
   ]
  },
  {
   "cell_type": "markdown",
   "metadata": {},
   "source": [
    "#### 3. Ridge Regression"
   ]
  },
  {
   "cell_type": "code",
   "execution_count": 88,
   "metadata": {},
   "outputs": [
    {
     "name": "stdout",
     "output_type": "stream",
     "text": [
      "{'alpha': 0.05, 'fit_intercept': 'True', 'normalize': 'True', 'solver': 'auto'}\n",
      "Best CV R^2: 0.5060706902158594\n",
      "Validation R^2: 0.45673962841866134\n",
      "Validation RMSE 21.686266011743214\n"
     ]
    }
   ],
   "source": [
    "# print best hyperparameters \n",
    "print(ridge_grid_reg.cv_results_[\"params\"][best_ridge_index])\n",
    "\n",
    "# predict on the validation set \n",
    "best_ridge_pred = ridge_grid_reg.best_estimator_.predict(X_validate)\n",
    "\n",
    "print('Best CV R^2:', max(ridge_grid_reg.cv_results_[\"mean_test_score\"]))\n",
    "print('Validation R^2:', ridge_grid_reg.score(X_validate, y_validate))\n",
    "print('Validation RMSE', rmse(best_ridge_pred, y_validate))"
   ]
  },
  {
   "cell_type": "code",
   "execution_count": 89,
   "metadata": {},
   "outputs": [
    {
     "data": {
      "image/png": "[encoded data removed]",
      "text/plain": [
       "<Figure size 432x288 with 1 Axes>"
      ]
     },
     "metadata": {
      "needs_background": "light"
     },
     "output_type": "display_data"
    }
   ],
   "source": [
    "# plot the predictions\n",
    "plt.scatter(x = y_validate, y = best_ridge_pred)\n",
    "plt.title('Ridge Model')\n",
    "plt.xlabel('actual values')\n",
    "plt.ylabel('predicted values')\n",
    "plt.show()"
   ]
  },
  {
   "cell_type": "markdown",
   "metadata": {},
   "source": [
    "#### 4. Lasso"
   ]
  },
  {
   "cell_type": "code",
   "execution_count": 90,
   "metadata": {},
   "outputs": [
    {
     "name": "stdout",
     "output_type": "stream",
     "text": [
      "{'alpha': 0.01, 'fit_intercept': 'False', 'normalize': 'False', 'selection': 'random'}\n",
      "Best CV R^2: 0.505234815418817\n",
      "Validation R^2: 0.4441525225985431\n",
      "Validation RMSE 21.936058065364975\n"
     ]
    }
   ],
   "source": [
    "# print the hyperparameters\n",
    "print(lasso_grid_reg.cv_results_[\"params\"][best_lasso_index])\n",
    "\n",
    "# use to fit on validation data \n",
    "best_lasso_pred = lasso_grid_reg.best_estimator_.predict(X_validate)\n",
    "\n",
    "print('Best CV R^2:', max(lasso_grid_reg.cv_results_[\"mean_test_score\"]))\n",
    "print('Validation R^2:', lasso_grid_reg.score(X_validate, y_validate))\n",
    "print('Validation RMSE', rmse(best_lasso_pred, y_validate))"
   ]
  },
  {
   "cell_type": "code",
   "execution_count": 91,
   "metadata": {},
   "outputs": [
    {
     "data": {
      "image/png": "[encoded data removed]",
      "text/plain": [
       "<Figure size 432x288 with 1 Axes>"
      ]
     },
     "metadata": {
      "needs_background": "light"
     },
     "output_type": "display_data"
    }
   ],
   "source": [
    "# plot the predictions\n",
    "plt.scatter(x = y_validate, y = best_lasso_pred)\n",
    "plt.title('Lasso Model')\n",
    "plt.xlabel('actual values')\n",
    "plt.ylabel('predicted values')\n",
    "plt.show()"
   ]
  },
  {
   "cell_type": "markdown",
   "metadata": {},
   "source": [
    "#### 5. K-Nearest neighbors"
   ]
  },
  {
   "cell_type": "code",
   "execution_count": 92,
   "metadata": {
    "scrolled": true
   },
   "outputs": [
    {
     "name": "stdout",
     "output_type": "stream",
     "text": [
      "{'algorithm': 'ball_tree', 'n_neighbors': 10, 'weights': 'uniform'}\n",
      "Best CV R^2: 0.3854934694709878\n",
      "Validation R^2: 0.3147884522255905\n",
      "Validation RMSE 24.35527873533092\n"
     ]
    }
   ],
   "source": [
    "# print out the best hyperparameters:\n",
    "print(neigh_grid_reg.cv_results_[\"params\"][best_neigh_index])\n",
    "\n",
    "# use to predict on the validation set:\n",
    "best_neigh_pred = neigh_grid_reg.best_estimator_.predict(X_validate)\n",
    "\n",
    "print('Best CV R^2:', max(neigh_grid_reg.cv_results_[\"mean_test_score\"]))\n",
    "print('Validation R^2:', neigh_grid_reg.score(X_validate, y_validate))\n",
    "print('Validation RMSE', rmse(best_neigh_pred, y_validate))"
   ]
  },
  {
   "cell_type": "code",
   "execution_count": 93,
   "metadata": {},
   "outputs": [
    {
     "data": {
      "image/png": "[encoded data removed]",
      "text/plain": [
       "<Figure size 432x288 with 1 Axes>"
      ]
     },
     "metadata": {
      "needs_background": "light"
     },
     "output_type": "display_data"
    }
   ],
   "source": [
    "# plot the predictions\n",
    "plt.scatter(x = y_validate, y = best_neigh_pred)\n",
    "plt.title('K Nearest Neighbors Model')\n",
    "plt.xlabel('actual values')\n",
    "plt.ylabel('predicted values')\n",
    "plt.show()"
   ]
  },
  {
   "cell_type": "markdown",
   "metadata": {},
   "source": [
    "### 5.2 Feature Selection"
   ]
  },
  {
   "cell_type": "markdown",
   "metadata": {},
   "source": [
    "One of our models, Lasso, already performs feature selection. The following details attempts to perform feature selection at this point (feature selection is often performed earlier on, before tuning hyperparameters.\n"
   ]
  },
  {
   "cell_type": "markdown",
   "metadata": {},
   "source": [
    "#### 1. OLS"
   ]
  },
  {
   "cell_type": "markdown",
   "metadata": {},
   "source": [
    "The script bellow choses the top 80% highest value coefficients and compares the rmse on the validation set between the original model and the model with the subsetted features. We discover that the best OLS model uses 20 features and that reduces the RMSE."
   ]
  },
  {
   "cell_type": "code",
   "execution_count": 94,
   "metadata": {},
   "outputs": [
    {
     "name": "stdout",
     "output_type": "stream",
     "text": [
      "RMSE original model on training set: 19.262891237638375\n",
      "RMSE tuned model on validation set: 21.804571989772022\n",
      "RMSE selected features model on validation set: 21.663509801071854\n"
     ]
    }
   ],
   "source": [
    "#Ensure coefficient values are numeric\n",
    "lin_reg_data['Coefficient'] = pd.to_numeric(arg=lin_reg_data['Coefficient'], errors='coerce')\n",
    "\n",
    "#select top 20 highset value coefficients\n",
    "OLS_features_top20_table = lin_reg_data.nlargest(20,['Coefficient'])\n",
    "\n",
    "#subset features in training, validation, and test data\n",
    "x_train_SF=X_train.loc[:, OLS_features_top20_table['Feature']]\n",
    "X_validate_SF=X_validate.loc[:, OLS_features_top20_table['Feature']]\n",
    "X_test_SF=X_test.loc[:, OLS_features_top20_table['Feature']]\n",
    "\n",
    "#predict on the Training data\n",
    "lin_model_SF = lin_reg.fit(x_train_SF, y_train)\n",
    "lin_pred_SF = lin_model.predict(x_train_SF)\n",
    "\n",
    "# Tune Hyperparameters\n",
    "param_grid = {'fit_intercept': ['True', 'False'],\n",
    "              'normalize': ['True', 'False']}\n",
    "lin_grid_reg_SF = GridSearchCV(lin_reg, param_grid, cv=5, iid=False)\n",
    "lin_grid_reg_SF=lin_grid_reg_SF.fit(x_train_SF, y_train)\n",
    "best_lin_index_SF = np.argmax(lin_grid_reg_SF.cv_results_[\"mean_test_score\"])\n",
    "\n",
    "# predict y on validation set\n",
    "best_lin_pred_SF= lin_grid_reg_SF.best_estimator_.predict(X_validate_SF)\n",
    "\n",
    "# 5. calculate validation RMSE\n",
    "\n",
    "print('RMSE original model on training set:',rmse(lin_pred, y_train))\n",
    "print('RMSE tuned model on validation set:',rmse(best_lin_pred, y_validate))\n",
    "print(\"RMSE selected features model on validation set:\",rmse(best_lin_pred_SF, y_validate))"
   ]
  },
  {
   "cell_type": "code",
   "execution_count": 95,
   "metadata": {},
   "outputs": [
    {
     "ename": "TypeError",
     "evalue": "'GridSearchCV' object is not callable",
     "output_type": "error",
     "traceback": [
      "\u001b[1;31m---------------------------------------------------------------------------\u001b[0m",
      "\u001b[1;31mTypeError\u001b[0m                                 Traceback (most recent call last)",
      "\u001b[1;32m<ipython-input-95-11e7aa3012ee>\u001b[0m in \u001b[0;36m<module>\u001b[1;34m\u001b[0m\n\u001b[0;32m      7\u001b[0m \u001b[0mscaler\u001b[0m\u001b[1;33m.\u001b[0m\u001b[0mfit\u001b[0m\u001b[1;33m(\u001b[0m\u001b[0mX_train\u001b[0m\u001b[1;33m.\u001b[0m\u001b[0mfillna\u001b[0m\u001b[1;33m(\u001b[0m\u001b[1;36m0\u001b[0m\u001b[1;33m)\u001b[0m\u001b[1;33m)\u001b[0m\u001b[1;33m\u001b[0m\u001b[1;33m\u001b[0m\u001b[0m\n\u001b[0;32m      8\u001b[0m \u001b[1;33m\u001b[0m\u001b[0m\n\u001b[1;32m----> 9\u001b[1;33m \u001b[0msel_\u001b[0m \u001b[1;33m=\u001b[0m \u001b[0mSelectFromModel\u001b[0m\u001b[1;33m(\u001b[0m\u001b[0mlin_grid_reg\u001b[0m\u001b[1;33m(\u001b[0m\u001b[0mC\u001b[0m\u001b[1;33m=\u001b[0m\u001b[1;36m1\u001b[0m\u001b[1;33m,\u001b[0m \u001b[0mpenalty\u001b[0m\u001b[1;33m=\u001b[0m\u001b[1;34m'l1'\u001b[0m\u001b[1;33m)\u001b[0m\u001b[1;33m)\u001b[0m\u001b[1;33m\u001b[0m\u001b[1;33m\u001b[0m\u001b[0m\n\u001b[0m\u001b[0;32m     10\u001b[0m \u001b[0msel_\u001b[0m\u001b[1;33m.\u001b[0m\u001b[0mfit\u001b[0m\u001b[1;33m(\u001b[0m\u001b[0mlin_grid_reg\u001b[0m\u001b[1;33m.\u001b[0m\u001b[0mtransform\u001b[0m\u001b[1;33m(\u001b[0m\u001b[0mX_train\u001b[0m\u001b[1;33m.\u001b[0m\u001b[0mfillna\u001b[0m\u001b[1;33m(\u001b[0m\u001b[1;36m0\u001b[0m\u001b[1;33m)\u001b[0m\u001b[1;33m)\u001b[0m\u001b[1;33m,\u001b[0m \u001b[0my_train\u001b[0m\u001b[1;33m)\u001b[0m\u001b[1;33m\u001b[0m\u001b[1;33m\u001b[0m\u001b[0m\n\u001b[0;32m     11\u001b[0m \u001b[1;33m\u001b[0m\u001b[0m\n",
      "\u001b[1;31mTypeError\u001b[0m: 'GridSearchCV' object is not callable"
     ]
    }
   ],
   "source": [
    "# Or we can use Lasso to select features from OLS\n",
    "# from: https://towardsdatascience.com/feature-selection-using-regularisation-a3678b71e499\n",
    "from sklearn.feature_selection import SelectFromModel\n",
    "from sklearn.preprocessing import StandardScaler\n",
    "\n",
    "scaler = StandardScaler()\n",
    "scaler.fit(X_train.fillna(0))\n",
    "\n",
    "sel_ = SelectFromModel(lin_grid_reg(C=1, penalty='l1'))\n",
    "sel_.fit(lin_grid_reg.transform(X_train.fillna(0)), y_train)\n",
    "\n",
    "sel_.get_support()"
   ]
  },
  {
   "cell_type": "markdown",
   "metadata": {},
   "source": [
    "#### 2. Logistic Regression"
   ]
  },
  {
   "cell_type": "markdown",
   "metadata": {},
   "source": [
    "We start by exploring what is the optimal number of features, and then we insert this number into the RFE function to discover which features should be selected. "
   ]
  },
  {
   "cell_type": "code",
   "execution_count": null,
   "metadata": {},
   "outputs": [],
   "source": [
    "# this code would help us select the number of features to use: \n",
    "# from https://towardsdatascience.com/feature-selection-with-pandas-e3690ad8504b\n",
    "\n",
    "#no of features\n",
    "nof_list=np.arange(1,13)            \n",
    "high_score=0\n",
    "#Variable to store the optimum features\n",
    "nof=0           \n",
    "score_list =[]\n",
    "for n in range(len(nof_list)):\n",
    "    X_train, X_test, y_train, y_test = train_test_split(X,Y, test_size = 0.3, random_state = 0)\n",
    "    model = LinearRegression()\n",
    "    rfe = RFE(model,nof_list[n])\n",
    "    X_train_rfe = rfe.fit_transform(X_train,y_train)\n",
    "    X_test_rfe = rfe.transform(X_test)\n",
    "    model.fit(X_train_rfe,y_train)\n",
    "    score = model.score(X_test_rfe,y_test)\n",
    "    score_list.append(score)\n",
    "    if(score>high_score):\n",
    "        high_score = score\n",
    "        nof = nof_list[n]\n",
    "print(\"Optimum number of features: %d\" %nof)\n",
    "print(\"Score with %d features: %f\" % (nof, high_score))"
   ]
  },
  {
   "cell_type": "code",
   "execution_count": null,
   "metadata": {},
   "outputs": [],
   "source": [
    "#First: feature selection using the Recursive Feature Elimination (or RFE)\n",
    "#which works by recursively removing attributes and building a model on those attributes that remain.\n",
    "# from: https://www.datacamp.com/community/tutorials/feature-selection-python\n",
    "\n",
    "# Feature Extraction with RFE\n",
    "from sklearn.feature_selection import RFE\n",
    "from sklearn.linear_model import LogisticRegression\n",
    "\n",
    "# feature extraction\n",
    "model = LogisticRegression(solver='lbfgs')\n",
    "rfe = RFE(model, 12)\n",
    "fit = rfe.fit(X_train1, y_train1)\n",
    "print(\"Num Features: %d\" % fit.n_features_)\n",
    "\n",
    "#Place features in table\n",
    "data = {'Name':  list(X_train.columns),'Selected': list(fit.support_), 'Ranking':list(fit.ranking_)}\n",
    "df = pd.DataFrame (data, columns = ['Name','Selected','Ranking'])\n",
    "df=df.drop(df[df['Selected'] == 'False'].index, inplace = False)\n",
    "print (df)"
   ]
  },
  {
   "cell_type": "markdown",
   "metadata": {},
   "source": [
    "We discover that for the logistic regression, the 12 most important features are:\n",
    "\n",
    "pct_white    \n",
    "pct_black      \n",
    "pct_native     \n",
    "pct_asian\n",
    "pct_hispan     \n",
    "\n",
    "pct_15_to_19      \n",
    "pct_20_to_24  \n",
    "pct_25_to_34 \n",
    "pct_45_to_54      \n",
    "pct_65_to_74      \n",
    "pct_75_to_84      \n",
    "\n",
    "citizens_per_capita      "
   ]
  },
  {
   "cell_type": "markdown",
   "metadata": {},
   "source": [
    "#### 3. Ridge"
   ]
  },
  {
   "cell_type": "markdown",
   "metadata": {},
   "source": [
    "The script bellow choses the top 80% highest value coefficients and compares the rmse on the validation set between the original model and the model with the subsetted features. We discover that the best Ridge model uses 25 features."
   ]
  },
  {
   "cell_type": "code",
   "execution_count": 104,
   "metadata": {},
   "outputs": [
    {
     "name": "stdout",
     "output_type": "stream",
     "text": [
      "RMSE original model on training set: 19.49197179782137\n",
      "RMSE tuned model on validation set: 21.686266011743214\n",
      "\n",
      "RMSE selected features model on training set: 19.491971797821364\n",
      "RMSE selected features tuned model on validation set: 21.642820785248226\n"
     ]
    }
   ],
   "source": [
    "#Ensure coefficient values are numeric\n",
    "ridge_reg_data['Coefficient'] = pd.to_numeric(arg=ridge_reg_data['Coefficient'], errors='coerce')\n",
    "\n",
    "#select top 20 highset value coefficients\n",
    "OLS_features_top20_table = ridge_reg_data.nlargest(25,['Coefficient'])\n",
    "\n",
    "#subset features in training data\n",
    "X_train_SF=X_train.loc[:, OLS_features_top20_table['Feature']]\n",
    "X_validate_SF=X_validate.loc[:, OLS_features_top20_table['Feature']]\n",
    "X_test_SF=X_test.loc[:, OLS_features_top20_table['Feature']]\n",
    "\n",
    "#predict on the Training data\n",
    "ridge_model_SF = ridge_reg.fit(x_train_SF, y_train)\n",
    "ridge_pred_SF = ridge_model.predict(x_train_SF)\n",
    "\n",
    "# Tune Hyperparameters\n",
    "\n",
    "param_grid = {'alpha': np.arange(.1, 1, .1),\n",
    "               'normalize': ['True', 'False'],\n",
    "             'fit_intercept': ['True', 'False'],\n",
    "             'solver': ['auto', 'svd', 'cholesky', 'lsqr']}\n",
    "\n",
    "ridge_grid_reg_SF = GridSearchCV(ridge_reg, param_grid, cv=3, iid=False)\n",
    "ridge_grid_reg_SF.fit(X_train_SF, y_train)\n",
    "\n",
    "best_ridge_index_SF = np.argmax(ridge_grid_reg_SF.cv_results_[\"mean_test_score\"])\n",
    "\n",
    "# predict y on validation set\n",
    "best_ridge_pred_SF= ridge_grid_reg_SF.best_estimator_.predict(X_validate_SF)\n",
    "\n",
    "# 5. calculate validation RMSE\n",
    "\n",
    "print('RMSE original model on training set:',rmse(ridge_pred, y_train))\n",
    "print('RMSE tuned model on validation set:',rmse(best_ridge_pred, y_validate))\n",
    "print(\"\")\n",
    "print(\"RMSE selected features model on training set:\",rmse(ridge_pred_SF, y_train))\n",
    "print(\"RMSE selected features tuned model on validation set:\",rmse(best_ridge_pred_SF, y_validate))"
   ]
  },
  {
   "cell_type": "markdown",
   "metadata": {},
   "source": [
    "#### 4. Lasso"
   ]
  },
  {
   "cell_type": "markdown",
   "metadata": {},
   "source": [
    "Lasso automatically performs feature selection. The results are as follows: "
   ]
  },
  {
   "cell_type": "code",
   "execution_count": 105,
   "metadata": {},
   "outputs": [
    {
     "name": "stdout",
     "output_type": "stream",
     "text": [
      "Lasso picked 7 variables and eliminated the other 19 variables\n"
     ]
    }
   ],
   "source": [
    "lasso_reg_data.columns = ['Coefficient', 'Feature']\n",
    "print(\"Lasso picked \" + str(sum(lasso_reg_data['Coefficient'] != 0)) + \" variables and eliminated the other \" +  str(sum(lasso_reg_data['Coefficient'] == 0)) + \" variables\")\n",
    "\n"
   ]
  },
  {
   "cell_type": "markdown",
   "metadata": {},
   "source": [
    "#### 5. K-Nearest Neighbors"
   ]
  },
  {
   "cell_type": "code",
   "execution_count": 106,
   "metadata": {},
   "outputs": [
    {
     "ename": "NameError",
     "evalue": "name 'RandomForestClassifier' is not defined",
     "output_type": "error",
     "traceback": [
      "\u001b[1;31m---------------------------------------------------------------------------\u001b[0m",
      "\u001b[1;31mNameError\u001b[0m                                 Traceback (most recent call last)",
      "\u001b[1;32m<ipython-input-106-31dd02aebfcf>\u001b[0m in \u001b[0;36m<module>\u001b[1;34m\u001b[0m\n\u001b[0;32m      1\u001b[0m \u001b[1;31m# we can use SelectFromModel here too, though I'm not certain how many to select\u001b[0m\u001b[1;33m\u001b[0m\u001b[1;33m\u001b[0m\u001b[1;33m\u001b[0m\u001b[0m\n\u001b[0;32m      2\u001b[0m \u001b[1;31m# from: https://towardsdatascience.com/feature-selection-using-random-forest-26d7b747597f\u001b[0m\u001b[1;33m\u001b[0m\u001b[1;33m\u001b[0m\u001b[1;33m\u001b[0m\u001b[0m\n\u001b[1;32m----> 3\u001b[1;33m \u001b[0msel\u001b[0m \u001b[1;33m=\u001b[0m \u001b[0mSelectFromModel\u001b[0m\u001b[1;33m(\u001b[0m\u001b[0mRandomForestClassifier\u001b[0m\u001b[1;33m(\u001b[0m\u001b[0mn_estimators\u001b[0m \u001b[1;33m=\u001b[0m \u001b[1;36m100\u001b[0m\u001b[1;33m)\u001b[0m\u001b[1;33m)\u001b[0m\u001b[1;33m\u001b[0m\u001b[1;33m\u001b[0m\u001b[0m\n\u001b[0m\u001b[0;32m      4\u001b[0m \u001b[0msel\u001b[0m\u001b[1;33m.\u001b[0m\u001b[0mfit\u001b[0m\u001b[1;33m(\u001b[0m\u001b[0mX_train\u001b[0m\u001b[1;33m,\u001b[0m \u001b[0my_train\u001b[0m\u001b[1;33m)\u001b[0m\u001b[1;33m\u001b[0m\u001b[1;33m\u001b[0m\u001b[0m\n\u001b[0;32m      5\u001b[0m \u001b[0msel\u001b[0m\u001b[1;33m.\u001b[0m\u001b[0mget_support\u001b[0m\u001b[1;33m(\u001b[0m\u001b[1;33m)\u001b[0m\u001b[1;33m\u001b[0m\u001b[1;33m\u001b[0m\u001b[0m\n",
      "\u001b[1;31mNameError\u001b[0m: name 'RandomForestClassifier' is not defined"
     ]
    }
   ],
   "source": [
    "# we can use SelectFromModel here too, though I'm not certain how many to select\n",
    "# from: https://towardsdatascience.com/feature-selection-using-random-forest-26d7b747597f\n",
    "sel = SelectFromModel(RandomForestClassifier(n_estimators = 100))\n",
    "sel.fit(X_train, y_train)\n",
    "sel.get_support()\n",
    "selected_feat= X_train.columns[(sel.get_support())]\n",
    "len(selected_feat)"
   ]
  },
  {
   "cell_type": "markdown",
   "metadata": {},
   "source": [
    "### 5.3 Evaluate performance of models on test set"
   ]
  },
  {
   "cell_type": "markdown",
   "metadata": {},
   "source": [
    "To pick our best model, we compare the RMSE's of each of the model. As the logistic regression was run on a different target variable, we cannot easily compare this model to the other four. However, because we are more interested in predicting cases per capita, as opposed to a binary of below or above medium cases per capita, we disregard this model in our search for the best. The validation RMSE's of each model are printed below. While linear and ridge have very similar RMSEs, the ridge regression is slightly smaller. Additionally, ridge allows us to perform shrinkage, which is a desired feature (IS THIS RIGHT??). Therefore, we select ridge regression as our best performing model and use the hyperparameters tuned from the training data. "
   ]
  },
  {
   "cell_type": "code",
   "execution_count": 108,
   "metadata": {},
   "outputs": [
    {
     "name": "stdout",
     "output_type": "stream",
     "text": [
      "Linear regression RMSE 21.663509801071854\n",
      "Ridge regression RMSE 21.642820785248226\n",
      "LASSO regression RMSE 21.936058065364975\n",
      "k-Nearest Neighbor RMSE 24.35527873533092\n"
     ]
    }
   ],
   "source": [
    "print('Linear regression RMSE', rmse(best_lin_pred_SF, y_validate))\n",
    "print('Ridge regression RMSE', rmse(best_ridge_pred_SF, y_validate))\n",
    "print('LASSO regression RMSE', rmse(best_lasso_pred, y_validate))\n",
    "print('k-Nearest Neighbor RMSE', rmse(best_neigh_pred, y_validate))\n"
   ]
  },
  {
   "cell_type": "code",
   "execution_count": 109,
   "metadata": {},
   "outputs": [
    {
     "name": "stdout",
     "output_type": "stream",
     "text": [
      "Best CV R^2: 0.5060706902158594\n",
      "Test R^2: 0.4585333545665735\n",
      "Test RMSE 20.245960365224573\n"
     ]
    }
   ],
   "source": [
    "# Best model\n",
    "best_pred = ridge_grid_reg_SF.best_estimator_.predict(X_test_SF)\n",
    "print('Best CV R^2:', max(ridge_grid_reg.cv_results_[\"mean_test_score\"]))\n",
    "print('Test R^2:', ridge_grid_reg.score(X_test, y_test))\n",
    "print('Test RMSE', rmse(best_pred, y_test))"
   ]
  },
  {
   "cell_type": "code",
   "execution_count": 111,
   "metadata": {},
   "outputs": [
    {
     "name": "stdout",
     "output_type": "stream",
     "text": [
      "Test set RMSE:  20.245960365224573\n"
     ]
    }
   ],
   "source": [
    "# make predictions for the test set using one model of your choice\n",
    "final_pred = ridge_grid_reg_SF.predict(X_test_SF)\n",
    "# calculate the rmse for the final predictions\n",
    "print('Test set RMSE: ', rmse(final_pred, y_test))"
   ]
  },
  {
   "cell_type": "code",
   "execution_count": 112,
   "metadata": {},
   "outputs": [
    {
     "data": {
      "image/png": "[encoded data removed]",
      "text/plain": [
       "<Figure size 432x288 with 1 Axes>"
      ]
     },
     "metadata": {
      "needs_background": "light"
     },
     "output_type": "display_data"
    }
   ],
   "source": [
    "# show fit on the test set \n",
    "fig, ax = plt.subplots()\n",
    "ax.scatter(y_test, final_pred, edgecolors=(0, 0, 0))\n",
    "ax.plot([y_test.min(), y_test.max()], [y_test.min(), y_test.max()], 'k--', lw=4)\n",
    "ax.set_xlabel('Actual Values')\n",
    "ax.set_ylabel('Predicted Values')\n",
    "plt.title('Ridge Model - Test Data')\n",
    "plt.show()\n"
   ]
  },
  {
   "cell_type": "markdown",
   "metadata": {},
   "source": [
    "**text in Google doc for explanation**"
   ]
  },
  {
   "cell_type": "markdown",
   "metadata": {},
   "source": [
    "### 5.4 Implement Cross validation"
   ]
  },
  {
   "cell_type": "markdown",
   "metadata": {},
   "source": [
    "We use ridge regression to refit our data using a k-fold validation approach. We first run it with the default hyperparameters and k = 5. This gives an RMSE slighlty above the RMSE for the best ridge model above. Similarly to the model above, it predicts well for counties per capita below 150. Above this, the predicted values are consistently lower than actualy values. "
   ]
  },
  {
   "cell_type": "code",
   "execution_count": 113,
   "metadata": {},
   "outputs": [
    {
     "name": "stdout",
     "output_type": "stream",
     "text": [
      "Ridge cross-validation RMSE: 20.441046644696794\n"
     ]
    }
   ],
   "source": [
    "from sklearn.model_selection import cross_val_score\n",
    "from sklearn.model_selection import cross_val_predict\n",
    "\n",
    "ridge_crossval_pred = cross_val_predict(ridge_reg, X, Y, cv = 5)\n",
    "\n",
    "print(\"Ridge cross-validation RMSE:\", rmse(ridge_crossval_pred, Y))"
   ]
  },
  {
   "cell_type": "code",
   "execution_count": 114,
   "metadata": {},
   "outputs": [
    {
     "data": {
      "image/png": "[encoded data removed]",
      "text/plain": [
       "<Figure size 432x288 with 1 Axes>"
      ]
     },
     "metadata": {
      "needs_background": "light"
     },
     "output_type": "display_data"
    }
   ],
   "source": [
    "# show fit on the test set \n",
    "fig, ax = plt.subplots()\n",
    "ax.scatter(Y, ridge_crossval_pred, edgecolors=(0, 0, 0))\n",
    "ax.plot([Y.min(), Y.max()], [Y.min(), Y.max()], 'k--', lw=4)\n",
    "ax.set_xlabel('Actual Values')\n",
    "ax.set_ylabel('Predicted Values')\n",
    "plt.title('Ridge Model - Cross Validation')\n",
    "plt.show()"
   ]
  },
  {
   "cell_type": "markdown",
   "metadata": {},
   "source": [
    "#### Different Ks\n",
    "We experiment with different k-s...how?"
   ]
  },
  {
   "cell_type": "markdown",
   "metadata": {},
   "source": [
    "## 6. Discussion Questions"
   ]
  },
  {
   "cell_type": "code",
   "execution_count": null,
   "metadata": {},
   "outputs": [],
   "source": []
  }
 ],
 "metadata": {
  "kernelspec": {
   "display_name": "Python 3",
   "language": "python",
   "name": "python3"
  },
  "language_info": {
   "codemirror_mode": {
    "name": "ipython",
    "version": 3
   },
   "file_extension": ".py",
   "mimetype": "text/x-python",
   "name": "python",
   "nbconvert_exporter": "python",
   "pygments_lexer": "ipython3",
   "version": "3.7.4"
  }
 },
 "nbformat": 4,
 "nbformat_minor": 4
}
