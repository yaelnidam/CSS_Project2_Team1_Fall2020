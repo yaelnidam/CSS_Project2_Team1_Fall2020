{
 "cells": [
  {
   "cell_type": "markdown",
   "metadata": {},
   "source": [
    "# Project 2: Regression for Prediction Problems\n",
    "\n",
    "Team members: Hero Ashman, Madeleine Parker, Elleni Hailu, Yael Nidam.\n",
    "\n",
    "In this report we use data from the CDC and the American Community Survey to predict diabetes rates at the county level. This report should inform decisions about where to target a pilot diabetes prevention program. "
   ]
  },
  {
   "cell_type": "markdown",
   "metadata": {},
   "source": [
    "## 1. Exploratory Data Analysis\n",
    "Our data set is a combination of variables from the CDC and the ACS at the county level. We have information from 3220 counties. Variables include the population counts of people with diabetes, who are obese, and who are physically inactive, and population counts of people by race, ethnicity, age, and sex. "
   ]
  },
  {
   "cell_type": "code",
   "execution_count": 1,
   "metadata": {},
   "outputs": [],
   "source": [
    "import pandas as pd\n",
    "import matplotlib.pyplot as plt\n",
    "import seaborn as sns\n",
    "import numpy as np\n",
    "import math\n",
    "\n",
    "np.random.seed(10)"
   ]
  },
  {
   "cell_type": "code",
   "execution_count": 3,
   "metadata": {},
   "outputs": [
    {
     "data": {
      "text/html": [
       "<div>\n",
       "<style scoped>\n",
       "    .dataframe tbody tr th:only-of-type {\n",
       "        vertical-align: middle;\n",
       "    }\n",
       "\n",
       "    .dataframe tbody tr th {\n",
       "        vertical-align: top;\n",
       "    }\n",
       "\n",
       "    .dataframe thead th {\n",
       "        text-align: right;\n",
       "    }\n",
       "</style>\n",
       "<table border=\"1\" class=\"dataframe\">\n",
       "  <thead>\n",
       "    <tr style=\"text-align: right;\">\n",
       "      <th></th>\n",
       "      <th>County</th>\n",
       "      <th>State</th>\n",
       "      <th>CountyFIPS</th>\n",
       "      <th>Diabetes_Number</th>\n",
       "      <th>Obesity_Number</th>\n",
       "      <th>Physical_Inactivity_Number</th>\n",
       "      <th>sex and age_total population_65 years and over_sex ratio (males per 100 females)</th>\n",
       "      <th>race_total population</th>\n",
       "      <th>race_total population_one race</th>\n",
       "      <th>race_total population_two or more races</th>\n",
       "      <th>...</th>\n",
       "      <th>sex and age_total population_21 years and over</th>\n",
       "      <th>sex and age_total population_62 years and over</th>\n",
       "      <th>sex and age_total population_65 years and over</th>\n",
       "      <th>sex and age_total population_18 years and over_1</th>\n",
       "      <th>sex and age_total population_18 years and over_male</th>\n",
       "      <th>sex and age_total population_18 years and over_female</th>\n",
       "      <th>sex and age_total population_18 years and over_sex ratio (males per 100 females)</th>\n",
       "      <th>sex and age_total population_65 years and over_1</th>\n",
       "      <th>sex and age_total population_65 years and over_male</th>\n",
       "      <th>sex and age_total population_65 years and over_female</th>\n",
       "    </tr>\n",
       "  </thead>\n",
       "  <tbody>\n",
       "    <tr>\n",
       "      <td>0</td>\n",
       "      <td>Autauga County</td>\n",
       "      <td>Alabama</td>\n",
       "      <td>1001</td>\n",
       "      <td>12525</td>\n",
       "      <td>13489</td>\n",
       "      <td>12525</td>\n",
       "      <td>76.5</td>\n",
       "      <td>55200</td>\n",
       "      <td>54170</td>\n",
       "      <td>1030</td>\n",
       "      <td>...</td>\n",
       "      <td>39614</td>\n",
       "      <td>9403</td>\n",
       "      <td>8050</td>\n",
       "      <td>41831</td>\n",
       "      <td>20054</td>\n",
       "      <td>21777</td>\n",
       "      <td>92.1</td>\n",
       "      <td>8050</td>\n",
       "      <td>3488</td>\n",
       "      <td>4562</td>\n",
       "    </tr>\n",
       "    <tr>\n",
       "      <td>1</td>\n",
       "      <td>Baldwin County</td>\n",
       "      <td>Alabama</td>\n",
       "      <td>1003</td>\n",
       "      <td>40024</td>\n",
       "      <td>48542</td>\n",
       "      <td>40024</td>\n",
       "      <td>86.6</td>\n",
       "      <td>208107</td>\n",
       "      <td>204535</td>\n",
       "      <td>3572</td>\n",
       "      <td>...</td>\n",
       "      <td>155502</td>\n",
       "      <td>49811</td>\n",
       "      <td>40665</td>\n",
       "      <td>162430</td>\n",
       "      <td>78104</td>\n",
       "      <td>84326</td>\n",
       "      <td>92.6</td>\n",
       "      <td>40665</td>\n",
       "      <td>18870</td>\n",
       "      <td>21795</td>\n",
       "    </tr>\n",
       "    <tr>\n",
       "      <td>2</td>\n",
       "      <td>Barbour County</td>\n",
       "      <td>Alabama</td>\n",
       "      <td>1005</td>\n",
       "      <td>5431</td>\n",
       "      <td>8009</td>\n",
       "      <td>5431</td>\n",
       "      <td>76.2</td>\n",
       "      <td>25782</td>\n",
       "      <td>25429</td>\n",
       "      <td>353</td>\n",
       "      <td>...</td>\n",
       "      <td>19394</td>\n",
       "      <td>5658</td>\n",
       "      <td>4634</td>\n",
       "      <td>20346</td>\n",
       "      <td>10923</td>\n",
       "      <td>9423</td>\n",
       "      <td>115.9</td>\n",
       "      <td>4634</td>\n",
       "      <td>2004</td>\n",
       "      <td>2630</td>\n",
       "    </tr>\n",
       "    <tr>\n",
       "      <td>3</td>\n",
       "      <td>Bibb County</td>\n",
       "      <td>Alabama</td>\n",
       "      <td>1007</td>\n",
       "      <td>5827</td>\n",
       "      <td>6534</td>\n",
       "      <td>5827</td>\n",
       "      <td>80.5</td>\n",
       "      <td>22527</td>\n",
       "      <td>22340</td>\n",
       "      <td>187</td>\n",
       "      <td>...</td>\n",
       "      <td>16864</td>\n",
       "      <td>4323</td>\n",
       "      <td>3661</td>\n",
       "      <td>17868</td>\n",
       "      <td>9578</td>\n",
       "      <td>8290</td>\n",
       "      <td>115.5</td>\n",
       "      <td>3661</td>\n",
       "      <td>1633</td>\n",
       "      <td>2028</td>\n",
       "    </tr>\n",
       "    <tr>\n",
       "      <td>4</td>\n",
       "      <td>Blount County</td>\n",
       "      <td>Alabama</td>\n",
       "      <td>1009</td>\n",
       "      <td>14365</td>\n",
       "      <td>14227</td>\n",
       "      <td>14365</td>\n",
       "      <td>79.7</td>\n",
       "      <td>57645</td>\n",
       "      <td>56710</td>\n",
       "      <td>935</td>\n",
       "      <td>...</td>\n",
       "      <td>42232</td>\n",
       "      <td>12400</td>\n",
       "      <td>10233</td>\n",
       "      <td>44177</td>\n",
       "      <td>21595</td>\n",
       "      <td>22582</td>\n",
       "      <td>95.6</td>\n",
       "      <td>10233</td>\n",
       "      <td>4540</td>\n",
       "      <td>5693</td>\n",
       "    </tr>\n",
       "  </tbody>\n",
       "</table>\n",
       "<p>5 rows × 95 columns</p>\n",
       "</div>"
      ],
      "text/plain": [
       "           County    State  CountyFIPS Diabetes_Number Obesity_Number  \\\n",
       "0  Autauga County  Alabama        1001           12525          13489   \n",
       "1  Baldwin County  Alabama        1003           40024          48542   \n",
       "2  Barbour County  Alabama        1005            5431           8009   \n",
       "3     Bibb County  Alabama        1007            5827           6534   \n",
       "4   Blount County  Alabama        1009           14365          14227   \n",
       "\n",
       "  Physical_Inactivity_Number  \\\n",
       "0                      12525   \n",
       "1                      40024   \n",
       "2                       5431   \n",
       "3                       5827   \n",
       "4                      14365   \n",
       "\n",
       "  sex and age_total population_65 years and over_sex ratio (males per 100 females)  \\\n",
       "0                                               76.5                                 \n",
       "1                                               86.6                                 \n",
       "2                                               76.2                                 \n",
       "3                                               80.5                                 \n",
       "4                                               79.7                                 \n",
       "\n",
       "   race_total population  race_total population_one race  \\\n",
       "0                  55200                           54170   \n",
       "1                 208107                          204535   \n",
       "2                  25782                           25429   \n",
       "3                  22527                           22340   \n",
       "4                  57645                           56710   \n",
       "\n",
       "   race_total population_two or more races  ...  \\\n",
       "0                                     1030  ...   \n",
       "1                                     3572  ...   \n",
       "2                                      353  ...   \n",
       "3                                      187  ...   \n",
       "4                                      935  ...   \n",
       "\n",
       "   sex and age_total population_21 years and over  \\\n",
       "0                                           39614   \n",
       "1                                          155502   \n",
       "2                                           19394   \n",
       "3                                           16864   \n",
       "4                                           42232   \n",
       "\n",
       "   sex and age_total population_62 years and over  \\\n",
       "0                                            9403   \n",
       "1                                           49811   \n",
       "2                                            5658   \n",
       "3                                            4323   \n",
       "4                                           12400   \n",
       "\n",
       "   sex and age_total population_65 years and over  \\\n",
       "0                                            8050   \n",
       "1                                           40665   \n",
       "2                                            4634   \n",
       "3                                            3661   \n",
       "4                                           10233   \n",
       "\n",
       "   sex and age_total population_18 years and over_1  \\\n",
       "0                                             41831   \n",
       "1                                            162430   \n",
       "2                                             20346   \n",
       "3                                             17868   \n",
       "4                                             44177   \n",
       "\n",
       "   sex and age_total population_18 years and over_male  \\\n",
       "0                                              20054     \n",
       "1                                              78104     \n",
       "2                                              10923     \n",
       "3                                               9578     \n",
       "4                                              21595     \n",
       "\n",
       "   sex and age_total population_18 years and over_female  \\\n",
       "0                                              21777       \n",
       "1                                              84326       \n",
       "2                                               9423       \n",
       "3                                               8290       \n",
       "4                                              22582       \n",
       "\n",
       "   sex and age_total population_18 years and over_sex ratio (males per 100 females)  \\\n",
       "0                                               92.1                                  \n",
       "1                                               92.6                                  \n",
       "2                                              115.9                                  \n",
       "3                                              115.5                                  \n",
       "4                                               95.6                                  \n",
       "\n",
       "   sex and age_total population_65 years and over_1  \\\n",
       "0                                              8050   \n",
       "1                                             40665   \n",
       "2                                              4634   \n",
       "3                                              3661   \n",
       "4                                             10233   \n",
       "\n",
       "   sex and age_total population_65 years and over_male  \\\n",
       "0                                               3488     \n",
       "1                                              18870     \n",
       "2                                               2004     \n",
       "3                                               1633     \n",
       "4                                               4540     \n",
       "\n",
       "   sex and age_total population_65 years and over_female  \n",
       "0                                               4562      \n",
       "1                                              21795      \n",
       "2                                               2630      \n",
       "3                                               2028      \n",
       "4                                               5693      \n",
       "\n",
       "[5 rows x 95 columns]"
      ]
     },
     "execution_count": 3,
     "metadata": {},
     "output_type": "execute_result"
    }
   ],
   "source": [
    "diabetes = pd.read_csv(\"Diabetes with Population Info by County 2017.csv\")\n",
    "diabetes.head()"
   ]
  },
  {
   "cell_type": "code",
   "execution_count": 6,
   "metadata": {},
   "outputs": [
    {
     "data": {
      "text/plain": [
       "3220"
      ]
     },
     "execution_count": 6,
     "metadata": {},
     "output_type": "execute_result"
    }
   ],
   "source": [
    "# number of rows \n",
    "len(diabetes)"
   ]
  },
  {
   "cell_type": "code",
   "execution_count": 9,
   "metadata": {},
   "outputs": [
    {
     "data": {
      "text/plain": [
       "['County',\n",
       " 'State',\n",
       " 'CountyFIPS',\n",
       " 'Diabetes_Number',\n",
       " 'Obesity_Number',\n",
       " 'Physical_Inactivity_Number',\n",
       " 'sex and age_total population_65 years and over_sex ratio (males per 100 females)',\n",
       " 'race_total population',\n",
       " 'race_total population_one race',\n",
       " 'race_total population_two or more races',\n",
       " 'race_total population_one race_1',\n",
       " 'race_total population_one race_white',\n",
       " 'race_total population_one race_black or african american',\n",
       " 'race_total population_one race_american indian and alaska native',\n",
       " 'race_total population_one race_american indian and alaska native_cherokee tribal grouping',\n",
       " 'race_total population_one race_american indian and alaska native_chippewa tribal grouping',\n",
       " 'race_total population_one race_american indian and alaska native_navajo tribal grouping',\n",
       " 'race_total population_one race_american indian and alaska native_sioux tribal grouping',\n",
       " 'race_total population_one race_asian',\n",
       " 'race_total population_one race_asian_asian indian',\n",
       " 'race_total population_one race_asian_chinese',\n",
       " 'race_total population_one race_asian_filipino',\n",
       " 'race_total population_one race_asian_japanese',\n",
       " 'race_total population_one race_asian_korean',\n",
       " 'race_total population_one race_asian_vietnamese',\n",
       " 'race_total population_one race_asian_other asian',\n",
       " 'race_total population_one race_native hawaiian and other pacific islander',\n",
       " 'race_total population_one race_native hawaiian and other pacific islander_native hawaiian',\n",
       " 'race_total population_one race_native hawaiian and other pacific islander_guamanian or chamorro',\n",
       " 'race_total population_one race_native hawaiian and other pacific islander_samoan',\n",
       " 'race_total population_one race_native hawaiian and other pacific islander_other pacific islander',\n",
       " 'race_total population_one race_some other race',\n",
       " 'race_total population_two or more races_1',\n",
       " 'race_total population_two or more races_white and black or african american',\n",
       " 'race_total population_two or more races_white and american indian and alaska native',\n",
       " 'race_total population_two or more races_white and asian',\n",
       " 'race_total population_two or more races_black or african american and american indian and alaska native',\n",
       " 'race alone or in combination with one or more other races_total population',\n",
       " 'race alone or in combination with one or more other races_total population_white',\n",
       " 'race alone or in combination with one or more other races_total population_black or african american',\n",
       " 'race alone or in combination with one or more other races_total population_american indian and alaska native',\n",
       " 'race alone or in combination with one or more other races_total population_asian',\n",
       " 'race alone or in combination with one or more other races_total population_native hawaiian and other pacific islander',\n",
       " 'race alone or in combination with one or more other races_total population_some other race',\n",
       " 'hispanic or latino and race_total population',\n",
       " 'hispanic or latino and race_total population_hispanic or latino (of any race)',\n",
       " 'hispanic or latino and race_total population_hispanic or latino (of any race)_mexican',\n",
       " 'hispanic or latino and race_total population_hispanic or latino (of any race)_puerto rican',\n",
       " 'hispanic or latino and race_total population_hispanic or latino (of any race)_cuban',\n",
       " 'hispanic or latino and race_total population_hispanic or latino (of any race)_other hispanic or latino',\n",
       " 'hispanic or latino and race_total population_not hispanic or latino',\n",
       " 'hispanic or latino and race_total population_not hispanic or latino_white alone',\n",
       " 'hispanic or latino and race_total population_not hispanic or latino_black or african american alone',\n",
       " 'hispanic or latino and race_total population_not hispanic or latino_american indian and alaska native alone',\n",
       " 'hispanic or latino and race_total population_not hispanic or latino_asian alone',\n",
       " 'hispanic or latino and race_total population_not hispanic or latino_native hawaiian and other pacific islander alone',\n",
       " 'hispanic or latino and race_total population_not hispanic or latino_some other race alone',\n",
       " 'hispanic or latino and race_total population_not hispanic or latino_two or more races',\n",
       " 'hispanic or latino and race_total population_not hispanic or latino_two or more races_two races including some other race',\n",
       " 'hispanic or latino and race_total population_not hispanic or latino_two or more races_two races excluding some other race -  and three or more races',\n",
       " 'total housing units',\n",
       " 'citizen -  voting age population_citizen -  18 and over population',\n",
       " 'citizen -  voting age population_citizen -  18 and over population_male',\n",
       " 'citizen -  voting age population_citizen -  18 and over population_female',\n",
       " 'sex and age_total population',\n",
       " 'sex and age_total population_male',\n",
       " 'sex and age_total population_female',\n",
       " 'sex and age_total population_sex ratio (males per 100 females)',\n",
       " 'sex and age_total population_under 5 years',\n",
       " 'sex and age_total population_5 to 9 years',\n",
       " 'sex and age_total population_10 to 14 years',\n",
       " 'sex and age_total population_15 to 19 years',\n",
       " 'sex and age_total population_20 to 24 years',\n",
       " 'sex and age_total population_25 to 34 years',\n",
       " 'sex and age_total population_35 to 44 years',\n",
       " 'sex and age_total population_45 to 54 years',\n",
       " 'sex and age_total population_55 to 59 years',\n",
       " 'sex and age_total population_60 to 64 years',\n",
       " 'sex and age_total population_65 to 74 years',\n",
       " 'sex and age_total population_75 to 84 years',\n",
       " 'sex and age_total population_85 years and over',\n",
       " 'sex and age_total population_median age (years)',\n",
       " 'sex and age_total population_under 18 years',\n",
       " 'sex and age_total population_16 years and over',\n",
       " 'sex and age_total population_18 years and over',\n",
       " 'sex and age_total population_21 years and over',\n",
       " 'sex and age_total population_62 years and over',\n",
       " 'sex and age_total population_65 years and over',\n",
       " 'sex and age_total population_18 years and over_1',\n",
       " 'sex and age_total population_18 years and over_male',\n",
       " 'sex and age_total population_18 years and over_female',\n",
       " 'sex and age_total population_18 years and over_sex ratio (males per 100 females)',\n",
       " 'sex and age_total population_65 years and over_1',\n",
       " 'sex and age_total population_65 years and over_male',\n",
       " 'sex and age_total population_65 years and over_female']"
      ]
     },
     "execution_count": 9,
     "metadata": {},
     "output_type": "execute_result"
    }
   ],
   "source": [
    "# list of variable names (long)\n",
    "#list(diabetes.columns.values)\n",
    "\n",
    "# type of each variable\n",
    "diabetes.dtypes"
   ]
  },
  {
   "cell_type": "markdown",
   "metadata": {},
   "source": [
    "**Data Cleaning**\n",
    "\n",
    "While the population counts are all numeric, as expected, the counts for diabetes, people who are obese, and people who are inactive are strings. Some of these columns contain missing data, which is recorded as the string \"No Data\". We replace these in the original data frame with \"NaN\", which python understands to be missing. There are 78 rows with missing diabetes counts. After replacing the missing rows, we convert these columns to floats. "
   ]
  },
  {
   "cell_type": "code",
   "execution_count": 10,
   "metadata": {},
   "outputs": [
    {
     "data": {
      "text/plain": [
       "County                                                                               0\n",
       "State                                                                                0\n",
       "CountyFIPS                                                                           0\n",
       "Diabetes_Number                                                                     78\n",
       "Obesity_Number                                                                      78\n",
       "                                                                                    ..\n",
       "sex and age_total population_18 years and over_female                                0\n",
       "sex and age_total population_18 years and over_sex ratio (males per 100 females)     0\n",
       "sex and age_total population_65 years and over_1                                     0\n",
       "sex and age_total population_65 years and over_male                                  0\n",
       "sex and age_total population_65 years and over_female                                0\n",
       "Length: 95, dtype: int64"
      ]
     },
     "execution_count": 10,
     "metadata": {},
     "output_type": "execute_result"
    }
   ],
   "source": [
    "diabetes.replace({\"No Data\":np.nan}, inplace = True)\n",
    "diabetes.isnull().sum()"
   ]
  },
  {
   "cell_type": "code",
   "execution_count": 11,
   "metadata": {},
   "outputs": [
    {
     "data": {
      "text/plain": [
       "County                                                                               object\n",
       "State                                                                                object\n",
       "CountyFIPS                                                                            int64\n",
       "Diabetes_Number                                                                     float64\n",
       "Obesity_Number                                                                      float64\n",
       "                                                                                     ...   \n",
       "sex and age_total population_18 years and over_female                                 int64\n",
       "sex and age_total population_18 years and over_sex ratio (males per 100 females)    float64\n",
       "sex and age_total population_65 years and over_1                                      int64\n",
       "sex and age_total population_65 years and over_male                                   int64\n",
       "sex and age_total population_65 years and over_female                                 int64\n",
       "Length: 95, dtype: object"
      ]
     },
     "execution_count": 11,
     "metadata": {},
     "output_type": "execute_result"
    }
   ],
   "source": [
    "diabetes['Diabetes_Number'] = diabetes[\"Diabetes_Number\"].astype(float)\n",
    "diabetes['Obesity_Number'] = diabetes[\"Obesity_Number\"].astype(float)\n",
    "diabetes['Physical_Inactivity_Number'] = diabetes[\"Physical_Inactivity_Number\"].astype(float)\n",
    "diabetes.dtypes"
   ]
  },
  {
   "cell_type": "code",
   "execution_count": 14,
   "metadata": {},
   "outputs": [
    {
     "data": {
      "text/html": [
       "<div>\n",
       "<style scoped>\n",
       "    .dataframe tbody tr th:only-of-type {\n",
       "        vertical-align: middle;\n",
       "    }\n",
       "\n",
       "    .dataframe tbody tr th {\n",
       "        vertical-align: top;\n",
       "    }\n",
       "\n",
       "    .dataframe thead th {\n",
       "        text-align: right;\n",
       "    }\n",
       "</style>\n",
       "<table border=\"1\" class=\"dataframe\">\n",
       "  <thead>\n",
       "    <tr style=\"text-align: right;\">\n",
       "      <th></th>\n",
       "      <th>CountyFIPS</th>\n",
       "      <th>Diabetes_Number</th>\n",
       "      <th>Obesity_Number</th>\n",
       "      <th>Physical_Inactivity_Number</th>\n",
       "      <th>race_total population</th>\n",
       "      <th>race_total population_one race</th>\n",
       "      <th>race_total population_two or more races</th>\n",
       "      <th>race_total population_one race_1</th>\n",
       "      <th>race_total population_one race_white</th>\n",
       "      <th>race_total population_one race_black or african american</th>\n",
       "      <th>...</th>\n",
       "      <th>sex and age_total population_21 years and over</th>\n",
       "      <th>sex and age_total population_62 years and over</th>\n",
       "      <th>sex and age_total population_65 years and over</th>\n",
       "      <th>sex and age_total population_18 years and over_1</th>\n",
       "      <th>sex and age_total population_18 years and over_male</th>\n",
       "      <th>sex and age_total population_18 years and over_female</th>\n",
       "      <th>sex and age_total population_18 years and over_sex ratio (males per 100 females)</th>\n",
       "      <th>sex and age_total population_65 years and over_1</th>\n",
       "      <th>sex and age_total population_65 years and over_male</th>\n",
       "      <th>sex and age_total population_65 years and over_female</th>\n",
       "    </tr>\n",
       "  </thead>\n",
       "  <tbody>\n",
       "    <tr>\n",
       "      <td>count</td>\n",
       "      <td>3220.000000</td>\n",
       "      <td>3.142000e+03</td>\n",
       "      <td>3.142000e+03</td>\n",
       "      <td>3.142000e+03</td>\n",
       "      <td>3.220000e+03</td>\n",
       "      <td>3.220000e+03</td>\n",
       "      <td>3220.000000</td>\n",
       "      <td>3.220000e+03</td>\n",
       "      <td>3.220000e+03</td>\n",
       "      <td>3.220000e+03</td>\n",
       "      <td>...</td>\n",
       "      <td>3.220000e+03</td>\n",
       "      <td>3.220000e+03</td>\n",
       "      <td>3.220000e+03</td>\n",
       "      <td>3.220000e+03</td>\n",
       "      <td>3.220000e+03</td>\n",
       "      <td>3.220000e+03</td>\n",
       "      <td>3220.000000</td>\n",
       "      <td>3.220000e+03</td>\n",
       "      <td>3220.000000</td>\n",
       "      <td>3220.000000</td>\n",
       "    </tr>\n",
       "    <tr>\n",
       "      <td>mean</td>\n",
       "      <td>31393.605280</td>\n",
       "      <td>1.758797e+04</td>\n",
       "      <td>2.296606e+04</td>\n",
       "      <td>1.758797e+04</td>\n",
       "      <td>1.013323e+05</td>\n",
       "      <td>9.803687e+04</td>\n",
       "      <td>3295.423292</td>\n",
       "      <td>9.803687e+04</td>\n",
       "      <td>7.366104e+04</td>\n",
       "      <td>1.282022e+04</td>\n",
       "      <td>...</td>\n",
       "      <td>7.412272e+04</td>\n",
       "      <td>1.906676e+04</td>\n",
       "      <td>1.549044e+04</td>\n",
       "      <td>7.827602e+04</td>\n",
       "      <td>3.809320e+04</td>\n",
       "      <td>4.018282e+04</td>\n",
       "      <td>99.439317</td>\n",
       "      <td>1.549044e+04</td>\n",
       "      <td>6850.940683</td>\n",
       "      <td>8639.495342</td>\n",
       "    </tr>\n",
       "    <tr>\n",
       "      <td>std</td>\n",
       "      <td>16292.078954</td>\n",
       "      <td>4.903968e+04</td>\n",
       "      <td>6.353903e+04</td>\n",
       "      <td>4.903968e+04</td>\n",
       "      <td>3.260964e+05</td>\n",
       "      <td>3.142309e+05</td>\n",
       "      <td>13032.711931</td>\n",
       "      <td>3.142309e+05</td>\n",
       "      <td>2.012548e+05</td>\n",
       "      <td>5.514027e+04</td>\n",
       "      <td>...</td>\n",
       "      <td>2.384994e+05</td>\n",
       "      <td>5.470009e+04</td>\n",
       "      <td>4.432602e+04</td>\n",
       "      <td>2.513513e+05</td>\n",
       "      <td>1.220023e+05</td>\n",
       "      <td>1.293948e+05</td>\n",
       "      <td>14.740158</td>\n",
       "      <td>4.432602e+04</td>\n",
       "      <td>19234.567636</td>\n",
       "      <td>25111.933583</td>\n",
       "    </tr>\n",
       "    <tr>\n",
       "      <td>min</td>\n",
       "      <td>1001.000000</td>\n",
       "      <td>1.800000e+01</td>\n",
       "      <td>1.000000e+01</td>\n",
       "      <td>1.800000e+01</td>\n",
       "      <td>7.500000e+01</td>\n",
       "      <td>6.000000e+01</td>\n",
       "      <td>0.000000</td>\n",
       "      <td>6.000000e+01</td>\n",
       "      <td>1.600000e+01</td>\n",
       "      <td>0.000000e+00</td>\n",
       "      <td>...</td>\n",
       "      <td>6.900000e+01</td>\n",
       "      <td>1.900000e+01</td>\n",
       "      <td>1.200000e+01</td>\n",
       "      <td>7.100000e+01</td>\n",
       "      <td>3.600000e+01</td>\n",
       "      <td>3.100000e+01</td>\n",
       "      <td>70.800000</td>\n",
       "      <td>1.200000e+01</td>\n",
       "      <td>0.000000</td>\n",
       "      <td>10.000000</td>\n",
       "    </tr>\n",
       "    <tr>\n",
       "      <td>25%</td>\n",
       "      <td>19032.500000</td>\n",
       "      <td>2.230500e+03</td>\n",
       "      <td>2.777250e+03</td>\n",
       "      <td>2.230500e+03</td>\n",
       "      <td>1.121425e+04</td>\n",
       "      <td>1.090100e+04</td>\n",
       "      <td>169.750000</td>\n",
       "      <td>1.090100e+04</td>\n",
       "      <td>9.050250e+03</td>\n",
       "      <td>1.167500e+02</td>\n",
       "      <td>...</td>\n",
       "      <td>8.314250e+03</td>\n",
       "      <td>2.583750e+03</td>\n",
       "      <td>2.111500e+03</td>\n",
       "      <td>8.691500e+03</td>\n",
       "      <td>4.355250e+03</td>\n",
       "      <td>4.285250e+03</td>\n",
       "      <td>93.000000</td>\n",
       "      <td>2.111500e+03</td>\n",
       "      <td>984.750000</td>\n",
       "      <td>1126.000000</td>\n",
       "    </tr>\n",
       "    <tr>\n",
       "      <td>50%</td>\n",
       "      <td>30024.000000</td>\n",
       "      <td>5.519500e+03</td>\n",
       "      <td>6.811000e+03</td>\n",
       "      <td>5.519500e+03</td>\n",
       "      <td>2.595050e+04</td>\n",
       "      <td>2.537900e+04</td>\n",
       "      <td>492.000000</td>\n",
       "      <td>2.537900e+04</td>\n",
       "      <td>2.161750e+04</td>\n",
       "      <td>8.380000e+02</td>\n",
       "      <td>...</td>\n",
       "      <td>1.936550e+04</td>\n",
       "      <td>5.704500e+03</td>\n",
       "      <td>4.698500e+03</td>\n",
       "      <td>2.026050e+04</td>\n",
       "      <td>9.997500e+03</td>\n",
       "      <td>1.019050e+04</td>\n",
       "      <td>96.500000</td>\n",
       "      <td>4.698500e+03</td>\n",
       "      <td>2129.500000</td>\n",
       "      <td>2548.000000</td>\n",
       "    </tr>\n",
       "    <tr>\n",
       "      <td>75%</td>\n",
       "      <td>46105.500000</td>\n",
       "      <td>1.352175e+04</td>\n",
       "      <td>1.805500e+04</td>\n",
       "      <td>1.352175e+04</td>\n",
       "      <td>6.655225e+04</td>\n",
       "      <td>6.497525e+04</td>\n",
       "      <td>1742.500000</td>\n",
       "      <td>6.497525e+04</td>\n",
       "      <td>5.711775e+04</td>\n",
       "      <td>5.591000e+03</td>\n",
       "      <td>...</td>\n",
       "      <td>4.906400e+04</td>\n",
       "      <td>1.435650e+04</td>\n",
       "      <td>1.171375e+04</td>\n",
       "      <td>5.200525e+04</td>\n",
       "      <td>2.557400e+04</td>\n",
       "      <td>2.664950e+04</td>\n",
       "      <td>100.800000</td>\n",
       "      <td>1.171375e+04</td>\n",
       "      <td>5234.000000</td>\n",
       "      <td>6314.500000</td>\n",
       "    </tr>\n",
       "    <tr>\n",
       "      <td>max</td>\n",
       "      <td>72153.000000</td>\n",
       "      <td>1.262753e+06</td>\n",
       "      <td>1.686908e+06</td>\n",
       "      <td>1.262753e+06</td>\n",
       "      <td>1.009805e+07</td>\n",
       "      <td>9.700372e+06</td>\n",
       "      <td>397680.000000</td>\n",
       "      <td>9.700372e+06</td>\n",
       "      <td>5.186859e+06</td>\n",
       "      <td>1.230494e+06</td>\n",
       "      <td>...</td>\n",
       "      <td>7.433332e+06</td>\n",
       "      <td>1.610630e+06</td>\n",
       "      <td>1.299277e+06</td>\n",
       "      <td>7.851531e+06</td>\n",
       "      <td>3.827779e+06</td>\n",
       "      <td>4.023752e+06</td>\n",
       "      <td>414.700000</td>\n",
       "      <td>1.299277e+06</td>\n",
       "      <td>561006.000000</td>\n",
       "      <td>738271.000000</td>\n",
       "    </tr>\n",
       "  </tbody>\n",
       "</table>\n",
       "<p>8 rows × 92 columns</p>\n",
       "</div>"
      ],
      "text/plain": [
       "         CountyFIPS  Diabetes_Number  Obesity_Number  \\\n",
       "count   3220.000000     3.142000e+03    3.142000e+03   \n",
       "mean   31393.605280     1.758797e+04    2.296606e+04   \n",
       "std    16292.078954     4.903968e+04    6.353903e+04   \n",
       "min     1001.000000     1.800000e+01    1.000000e+01   \n",
       "25%    19032.500000     2.230500e+03    2.777250e+03   \n",
       "50%    30024.000000     5.519500e+03    6.811000e+03   \n",
       "75%    46105.500000     1.352175e+04    1.805500e+04   \n",
       "max    72153.000000     1.262753e+06    1.686908e+06   \n",
       "\n",
       "       Physical_Inactivity_Number  race_total population  \\\n",
       "count                3.142000e+03           3.220000e+03   \n",
       "mean                 1.758797e+04           1.013323e+05   \n",
       "std                  4.903968e+04           3.260964e+05   \n",
       "min                  1.800000e+01           7.500000e+01   \n",
       "25%                  2.230500e+03           1.121425e+04   \n",
       "50%                  5.519500e+03           2.595050e+04   \n",
       "75%                  1.352175e+04           6.655225e+04   \n",
       "max                  1.262753e+06           1.009805e+07   \n",
       "\n",
       "       race_total population_one race  \\\n",
       "count                    3.220000e+03   \n",
       "mean                     9.803687e+04   \n",
       "std                      3.142309e+05   \n",
       "min                      6.000000e+01   \n",
       "25%                      1.090100e+04   \n",
       "50%                      2.537900e+04   \n",
       "75%                      6.497525e+04   \n",
       "max                      9.700372e+06   \n",
       "\n",
       "       race_total population_two or more races  \\\n",
       "count                              3220.000000   \n",
       "mean                               3295.423292   \n",
       "std                               13032.711931   \n",
       "min                                   0.000000   \n",
       "25%                                 169.750000   \n",
       "50%                                 492.000000   \n",
       "75%                                1742.500000   \n",
       "max                              397680.000000   \n",
       "\n",
       "       race_total population_one race_1  race_total population_one race_white  \\\n",
       "count                      3.220000e+03                          3.220000e+03   \n",
       "mean                       9.803687e+04                          7.366104e+04   \n",
       "std                        3.142309e+05                          2.012548e+05   \n",
       "min                        6.000000e+01                          1.600000e+01   \n",
       "25%                        1.090100e+04                          9.050250e+03   \n",
       "50%                        2.537900e+04                          2.161750e+04   \n",
       "75%                        6.497525e+04                          5.711775e+04   \n",
       "max                        9.700372e+06                          5.186859e+06   \n",
       "\n",
       "       race_total population_one race_black or african american  ...  \\\n",
       "count                                       3.220000e+03         ...   \n",
       "mean                                        1.282022e+04         ...   \n",
       "std                                         5.514027e+04         ...   \n",
       "min                                         0.000000e+00         ...   \n",
       "25%                                         1.167500e+02         ...   \n",
       "50%                                         8.380000e+02         ...   \n",
       "75%                                         5.591000e+03         ...   \n",
       "max                                         1.230494e+06         ...   \n",
       "\n",
       "       sex and age_total population_21 years and over  \\\n",
       "count                                    3.220000e+03   \n",
       "mean                                     7.412272e+04   \n",
       "std                                      2.384994e+05   \n",
       "min                                      6.900000e+01   \n",
       "25%                                      8.314250e+03   \n",
       "50%                                      1.936550e+04   \n",
       "75%                                      4.906400e+04   \n",
       "max                                      7.433332e+06   \n",
       "\n",
       "       sex and age_total population_62 years and over  \\\n",
       "count                                    3.220000e+03   \n",
       "mean                                     1.906676e+04   \n",
       "std                                      5.470009e+04   \n",
       "min                                      1.900000e+01   \n",
       "25%                                      2.583750e+03   \n",
       "50%                                      5.704500e+03   \n",
       "75%                                      1.435650e+04   \n",
       "max                                      1.610630e+06   \n",
       "\n",
       "       sex and age_total population_65 years and over  \\\n",
       "count                                    3.220000e+03   \n",
       "mean                                     1.549044e+04   \n",
       "std                                      4.432602e+04   \n",
       "min                                      1.200000e+01   \n",
       "25%                                      2.111500e+03   \n",
       "50%                                      4.698500e+03   \n",
       "75%                                      1.171375e+04   \n",
       "max                                      1.299277e+06   \n",
       "\n",
       "       sex and age_total population_18 years and over_1  \\\n",
       "count                                      3.220000e+03   \n",
       "mean                                       7.827602e+04   \n",
       "std                                        2.513513e+05   \n",
       "min                                        7.100000e+01   \n",
       "25%                                        8.691500e+03   \n",
       "50%                                        2.026050e+04   \n",
       "75%                                        5.200525e+04   \n",
       "max                                        7.851531e+06   \n",
       "\n",
       "       sex and age_total population_18 years and over_male  \\\n",
       "count                                       3.220000e+03     \n",
       "mean                                        3.809320e+04     \n",
       "std                                         1.220023e+05     \n",
       "min                                         3.600000e+01     \n",
       "25%                                         4.355250e+03     \n",
       "50%                                         9.997500e+03     \n",
       "75%                                         2.557400e+04     \n",
       "max                                         3.827779e+06     \n",
       "\n",
       "       sex and age_total population_18 years and over_female  \\\n",
       "count                                       3.220000e+03       \n",
       "mean                                        4.018282e+04       \n",
       "std                                         1.293948e+05       \n",
       "min                                         3.100000e+01       \n",
       "25%                                         4.285250e+03       \n",
       "50%                                         1.019050e+04       \n",
       "75%                                         2.664950e+04       \n",
       "max                                         4.023752e+06       \n",
       "\n",
       "       sex and age_total population_18 years and over_sex ratio (males per 100 females)  \\\n",
       "count                                        3220.000000                                  \n",
       "mean                                           99.439317                                  \n",
       "std                                            14.740158                                  \n",
       "min                                            70.800000                                  \n",
       "25%                                            93.000000                                  \n",
       "50%                                            96.500000                                  \n",
       "75%                                           100.800000                                  \n",
       "max                                           414.700000                                  \n",
       "\n",
       "       sex and age_total population_65 years and over_1  \\\n",
       "count                                      3.220000e+03   \n",
       "mean                                       1.549044e+04   \n",
       "std                                        4.432602e+04   \n",
       "min                                        1.200000e+01   \n",
       "25%                                        2.111500e+03   \n",
       "50%                                        4.698500e+03   \n",
       "75%                                        1.171375e+04   \n",
       "max                                        1.299277e+06   \n",
       "\n",
       "       sex and age_total population_65 years and over_male  \\\n",
       "count                                        3220.000000     \n",
       "mean                                         6850.940683     \n",
       "std                                         19234.567636     \n",
       "min                                             0.000000     \n",
       "25%                                           984.750000     \n",
       "50%                                          2129.500000     \n",
       "75%                                          5234.000000     \n",
       "max                                        561006.000000     \n",
       "\n",
       "       sex and age_total population_65 years and over_female  \n",
       "count                                        3220.000000      \n",
       "mean                                         8639.495342      \n",
       "std                                         25111.933583      \n",
       "min                                            10.000000      \n",
       "25%                                          1126.000000      \n",
       "50%                                          2548.000000      \n",
       "75%                                          6314.500000      \n",
       "max                                        738271.000000      \n",
       "\n",
       "[8 rows x 92 columns]"
      ]
     },
     "execution_count": 14,
     "metadata": {},
     "output_type": "execute_result"
    }
   ],
   "source": [
    "diabetes.describe()"
   ]
  },
  {
   "cell_type": "markdown",
   "metadata": {},
   "source": [
    "**Distribution of Diabetes Cases** \n",
    "\n",
    "We start our report with some descriptive plots. Our goal here is to explore variation in diabetes numbers across counties. We also look at a couple of predictors that we suspect might be important for prediction later on.  \n",
    "\n",
    "We plot a histogram of diabetes cases as the county level. We plot this both as number of cases and as number of cases per 100 people, as the counties vary in population size. "
   ]
  },
  {
   "cell_type": "code",
   "execution_count": 16,
   "metadata": {},
   "outputs": [],
   "source": [
    "# calculate diabetes cases per 100 people\n",
    "diabetes['diabetes_per100'] = diabetes['Diabetes_Number']/diabetes['race_total population']*100"
   ]
  },
  {
   "cell_type": "code",
   "execution_count": 17,
   "metadata": {},
   "outputs": [
    {
     "ename": "AttributeError",
     "evalue": "module 'seaborn' has no attribute 'histplot'",
     "output_type": "error",
     "traceback": [
      "\u001b[1;31m---------------------------------------------------------------------------\u001b[0m",
      "\u001b[1;31mAttributeError\u001b[0m                            Traceback (most recent call last)",
      "\u001b[1;32m<ipython-input-17-72792bc4a65d>\u001b[0m in \u001b[0;36m<module>\u001b[1;34m\u001b[0m\n\u001b[0;32m      1\u001b[0m \u001b[1;31m#diabetes cases across counties\u001b[0m\u001b[1;33m\u001b[0m\u001b[1;33m\u001b[0m\u001b[1;33m\u001b[0m\u001b[0m\n\u001b[1;32m----> 2\u001b[1;33m \u001b[0msns\u001b[0m\u001b[1;33m.\u001b[0m\u001b[0mhistplot\u001b[0m\u001b[1;33m(\u001b[0m\u001b[0mdata\u001b[0m \u001b[1;33m=\u001b[0m \u001b[0mdiabetes\u001b[0m\u001b[1;33m,\u001b[0m \u001b[0mx\u001b[0m \u001b[1;33m=\u001b[0m \u001b[1;34m'Diabetes_Number'\u001b[0m\u001b[1;33m)\u001b[0m\u001b[1;33m\u001b[0m\u001b[1;33m\u001b[0m\u001b[0m\n\u001b[0m\u001b[0;32m      3\u001b[0m \u001b[0mplt\u001b[0m\u001b[1;33m.\u001b[0m\u001b[0mtitle\u001b[0m\u001b[1;33m(\u001b[0m\u001b[1;34m\"Distribution of County Diabetes Cases\"\u001b[0m\u001b[1;33m)\u001b[0m\u001b[1;33m\u001b[0m\u001b[1;33m\u001b[0m\u001b[0m\n\u001b[0;32m      4\u001b[0m \u001b[0mplt\u001b[0m\u001b[1;33m.\u001b[0m\u001b[0mxlabel\u001b[0m\u001b[1;33m(\u001b[0m\u001b[1;34m\"Cases\"\u001b[0m\u001b[1;33m)\u001b[0m\u001b[1;33m;\u001b[0m\u001b[1;33m\u001b[0m\u001b[1;33m\u001b[0m\u001b[0m\n",
      "\u001b[1;31mAttributeError\u001b[0m: module 'seaborn' has no attribute 'histplot'"
     ]
    }
   ],
   "source": [
    "#diabetes cases across counties\n",
    "sns.histplot(data = diabetes, x = 'Diabetes_Number')\n",
    "plt.title(\"Distribution of County Diabetes Cases\")\n",
    "plt.xlabel(\"Cases\");"
   ]
  },
  {
   "cell_type": "markdown",
   "metadata": {},
   "source": [
    "The plot above shows that the distribution of cases across counties is extremely right skewed, likely driven by counties with very large populations. Logging the case numbers makes the distribution easier to see. "
   ]
  },
  {
   "cell_type": "code",
   "execution_count": null,
   "metadata": {
    "scrolled": true
   },
   "outputs": [],
   "source": [
    "sns.histplot(data = diabetes, x = 'Diabetes_Number', log_scale= True)\n",
    "plt.title(\"Distribution of County Diabetes Cases\")\n",
    "plt.xlabel(\"Log of Cases\");"
   ]
  },
  {
   "cell_type": "markdown",
   "metadata": {},
   "source": [
    "The plot below shows that the percentage of people with diabetes is roughly normally distributed across counties, with a mean around 20%. This is twice as high as the percentage of the population with diabetes reported by the [American Diabetes Association](https://www.diabetes.org/resources/statistics/statistics-about-diabetes), which puts the figure at around 10%. "
   ]
  },
  {
   "cell_type": "code",
   "execution_count": 75,
   "metadata": {
    "scrolled": true
   },
   "outputs": [
    {
     "name": "stderr",
     "output_type": "stream",
     "text": [
      "C:\\Users\\Yael nidam\\Anaconda3\\lib\\site-packages\\numpy\\lib\\histograms.py:824: RuntimeWarning: invalid value encountered in greater_equal\n",
      "  keep = (tmp_a >= first_edge)\n",
      "C:\\Users\\Yael nidam\\Anaconda3\\lib\\site-packages\\numpy\\lib\\histograms.py:825: RuntimeWarning: invalid value encountered in less_equal\n",
      "  keep &= (tmp_a <= last_edge)\n"
     ]
    },
    {
     "data": {
      "image/png": "[encoded data removed]",
      "text/plain": [
       "<Figure size 432x288 with 1 Axes>"
      ]
     },
     "metadata": {
      "needs_background": "light"
     },
     "output_type": "display_data"
    }
   ],
   "source": [
    "#diabetes cases per capita across counties using matplot graph instead of seaborn\n",
    "plt.title('Distribution of County Diabetes Cases per 100 People')\n",
    "plt.xlabel('counties')\n",
    "plt.hist(diabetes['diabetes_per100'], bins=30);\n",
    "plt.ylabel('Diabetes Cases per 100 people');"
   ]
  },
  {
   "cell_type": "markdown",
   "metadata": {},
   "source": [
    "**Diabetes and Level of Inactivity**\n",
    "\n",
    "We suspect there might be a relationship between diabetes and level of inactivity. To explore this, we plot the linear regression line of physical inactivity on diabetes cases, at the county level. We first log both numbers. The plot below also includes a scatter plot of the underlying data. There is a strong linear relationship between number of diabetes cases and number of people who are physically inactive. "
   ]
  },
  {
   "cell_type": "code",
   "execution_count": 18,
   "metadata": {},
   "outputs": [
    {
     "data": {
      "image/png": "[encoded data removed]",
      "text/plain": [
       "<Figure size 432x288 with 1 Axes>"
      ]
     },
     "metadata": {
      "needs_background": "light"
     },
     "output_type": "display_data"
    }
   ],
   "source": [
    "# take log of both numbers\n",
    "diabetes['ln_inactive'] = np.log(diabetes[\"Physical_Inactivity_Number\"])\n",
    "diabetes['ln_diabetes'] = np.log(diabetes[\"Diabetes_Number\"])\n",
    "\n",
    "sns.regplot(data = diabetes, x = 'ln_diabetes', y = 'ln_inactive', scatter = True)\n",
    "plt.title(\"Diabetes vs. Physical Inactivity by County\")\n",
    "plt.xlabel(\"Log of Cases of Diabetes\")\n",
    "plt.ylabel(\"Log of Count of Physical Inactivity\");"
   ]
  },
  {
   "cell_type": "code",
   "execution_count": 76,
   "metadata": {},
   "outputs": [
    {
     "ename": "AttributeError",
     "evalue": "module 'seaborn' has no attribute 'histplot'",
     "output_type": "error",
     "traceback": [
      "\u001b[1;31m---------------------------------------------------------------------------\u001b[0m",
      "\u001b[1;31mAttributeError\u001b[0m                            Traceback (most recent call last)",
      "\u001b[1;32m<ipython-input-76-7bdb8a433371>\u001b[0m in \u001b[0;36m<module>\u001b[1;34m\u001b[0m\n\u001b[0;32m      1\u001b[0m \u001b[1;31m# diabetes per 100 people\u001b[0m\u001b[1;33m\u001b[0m\u001b[1;33m\u001b[0m\u001b[1;33m\u001b[0m\u001b[0m\n\u001b[1;32m----> 2\u001b[1;33m \u001b[0msns\u001b[0m\u001b[1;33m.\u001b[0m\u001b[0mhistplot\u001b[0m\u001b[1;33m(\u001b[0m\u001b[0mdata\u001b[0m \u001b[1;33m=\u001b[0m \u001b[0mdiabetes\u001b[0m\u001b[1;33m,\u001b[0m \u001b[0mx\u001b[0m \u001b[1;33m=\u001b[0m \u001b[1;34m'diabetes_per100'\u001b[0m\u001b[1;33m,\u001b[0m \u001b[0mkde\u001b[0m \u001b[1;33m=\u001b[0m \u001b[1;32mTrue\u001b[0m\u001b[1;33m)\u001b[0m\u001b[1;33m\u001b[0m\u001b[1;33m\u001b[0m\u001b[0m\n\u001b[0m\u001b[0;32m      3\u001b[0m \u001b[0mplt\u001b[0m\u001b[1;33m.\u001b[0m\u001b[0mtitle\u001b[0m\u001b[1;33m(\u001b[0m\u001b[1;34m\"Distribution of County Diabetes Cases per 100 People\"\u001b[0m\u001b[1;33m)\u001b[0m\u001b[1;33m\u001b[0m\u001b[1;33m\u001b[0m\u001b[0m\n\u001b[0;32m      4\u001b[0m \u001b[0mplt\u001b[0m\u001b[1;33m.\u001b[0m\u001b[0mxlabel\u001b[0m\u001b[1;33m(\u001b[0m\u001b[1;34m\"Cases per 100 People\"\u001b[0m\u001b[1;33m)\u001b[0m\u001b[1;33m;\u001b[0m\u001b[1;33m\u001b[0m\u001b[1;33m\u001b[0m\u001b[0m\n",
      "\u001b[1;31mAttributeError\u001b[0m: module 'seaborn' has no attribute 'histplot'"
     ]
    }
   ],
   "source": [
    "# diabetes per 100 people\n",
    "sns.histplot(data = diabetes, x = 'diabetes_per100', kde = True)\n",
    "plt.title(\"Distribution of County Diabetes Cases per 100 People\")\n",
    "plt.xlabel(\"Cases per 100 People\");"
   ]
  },
  {
   "cell_type": "code",
   "execution_count": 19,
   "metadata": {},
   "outputs": [
    {
     "data": {
      "image/png": "[encoded data removed]",
      "text/plain": [
       "<Figure size 432x288 with 1 Axes>"
      ]
     },
     "metadata": {
      "needs_background": "light"
     },
     "output_type": "display_data"
    }
   ],
   "source": [
    "# Diabetes and obesity\n",
    "diabetes['ln_obesity'] = np.log(diabetes[\"Obesity_Number\"])\n",
    "\n",
    "sns.regplot(data = diabetes, x = 'ln_diabetes', y = 'ln_obesity', scatter = True)\n",
    "plt.title(\"Diabetes vs. Obesity  by County\")\n",
    "plt.xlabel(\"Log of Cases of Diabetes\")\n",
    "plt.ylabel(\"Log of cases of Obesity\");"
   ]
  },
  {
   "cell_type": "markdown",
   "metadata": {},
   "source": [
    "**Diabetes and Demographic Characteristics**\n",
    "\n",
    "Our data contains county population counts by sex, race, and age (and interactions of all three). It is possible that upstream social factors that vary by gender, such as diet or activity levels, impact rates of diabetes. Although we do not observe the rates of diabetes differentially for men and women (the only genders reported in the ACS), we can see if counties with a higher male to female ratio have higher or lower rates of diabetes. For this, we create a dummy variable indicating if a county has more or equal number of women than men (female_cnty). We then plot a box-and-whisker diagram of cases per 100 people for the two types of county.\n",
    "\n",
    "The plot below shows that for counties with equal or higher numbers of women than men, their rate of diabetes is slightly higher (orange plot). However, there is not a large difference and it may not be significant.  \n"
   ]
  },
  {
   "cell_type": "code",
   "execution_count": 20,
   "metadata": {},
   "outputs": [],
   "source": [
    "# dummy for a county having more or equal number of women to men\n",
    "diabetes['female_cnty'] = 1*(diabetes['sex and age_total population_sex ratio (males per 100 females)'] <=100) \\\n",
    "+ 0*(diabetes['sex and age_total population_sex ratio (males per 100 females)'] > 100)\n",
    "#diabetes['female_cnty']"
   ]
  },
  {
   "cell_type": "code",
   "execution_count": 21,
   "metadata": {},
   "outputs": [
    {
     "data": {
      "image/png": "[encoded data removed]",
      "text/plain": [
       "<Figure size 432x288 with 1 Axes>"
      ]
     },
     "metadata": {
      "needs_background": "light"
     },
     "output_type": "display_data"
    }
   ],
   "source": [
    "sns.boxplot(data = diabetes, x = 'female_cnty', y = 'diabetes_per100')\n",
    "plt.title('Distribution of per capita Diabetes by Sex Ratio of County')\n",
    "plt.xlabel('County Type')\n",
    "plt.ylabel('Diabetes Cases per 100 People');"
   ]
  },
  {
   "cell_type": "markdown",
   "metadata": {},
   "source": [
    "## 2. Prepare to Fit Models"
   ]
  },
  {
   "cell_type": "markdown",
   "metadata": {},
   "source": [
    "In this next section we clean the data, partition it and investigate whether there are any features we should remove prior to fitting the models."
   ]
  },
  {
   "cell_type": "markdown",
   "metadata": {},
   "source": [
    "### A. Clean data"
   ]
  },
  {
   "cell_type": "markdown",
   "metadata": {},
   "source": [
    "First, we remove geographic features and variables we created for data exploration."
   ]
  },
  {
   "cell_type": "code",
   "execution_count": 67,
   "metadata": {},
   "outputs": [
    {
     "data": {
      "text/plain": [
       "(3220, 92)"
      ]
     },
     "execution_count": 67,
     "metadata": {},
     "output_type": "execute_result"
    }
   ],
   "source": [
    "# We create a new variable to store the clean dataset\n",
    "diabetes_clean = diabetes \n",
    "\n",
    "# We drop variables that shouldn't be used in the analysis\n",
    "diabetes_clean = diabetes_clean.drop([ 'State' ,'County','CountyFIPS' # columns with geographic information\n",
    "                                       ,'diabetes_per100','ln_diabetes','ln_inactive','ln_obesity','female_cnty' #Data exploration variables\n",
    "                                     \n",
    "                                     ], axis=1)\n",
    "diabetes_clean.shape"
   ]
  },
  {
   "cell_type": "markdown",
   "metadata": {},
   "source": [
    "Next, we ensure all datatypes are numeric."
   ]
  },
  {
   "cell_type": "code",
   "execution_count": 68,
   "metadata": {},
   "outputs": [],
   "source": [
    "#Checkout all datatypes that are object\n",
    "diabetes_clean.loc[:, diabetes_clean.dtypes == np.object]\n",
    "#We see only one column that's misidentified as object while it is a float\n",
    "\n",
    "#First, we set '-' response as Nan, and then we define the satatype as float\n",
    "diabetes_clean[\"sex and age_total population_65 years and over_sex ratio (males per 100 females)\"]= diabetes_clean[\"sex and age_total population_65 years and over_sex ratio (males per 100 females)\"].str.replace(\"-\", \"nan\", case = False) \n",
    "diabetes_clean[\"sex and age_total population_65 years and over_sex ratio (males per 100 females)\"]=diabetes_clean[\"sex and age_total population_65 years and over_sex ratio (males per 100 females)\"].astype(float)"
   ]
  },
  {
   "cell_type": "markdown",
   "metadata": {},
   "source": [
    "### B. Partition data"
   ]
  },
  {
   "cell_type": "markdown",
   "metadata": {},
   "source": [
    "we start by separating the response from the features:"
   ]
  },
  {
   "cell_type": "code",
   "execution_count": 69,
   "metadata": {},
   "outputs": [],
   "source": [
    "X = diabetes_clean.drop(['Diabetes_Number'], axis=1)\n",
    "Y = diabetes_clean['Diabetes_Number']\n"
   ]
  },
  {
   "cell_type": "markdown",
   "metadata": {},
   "source": [
    "#### Training Set"
   ]
  },
  {
   "cell_type": "markdown",
   "metadata": {},
   "source": [
    "Since our dataset is small, we are interested in saving a relatively large portion (40%) of it for the test dataset, so that we can reduce overfitting. "
   ]
  },
  {
   "cell_type": "code",
   "execution_count": 70,
   "metadata": {},
   "outputs": [],
   "source": [
    "from sklearn.model_selection import train_test_split\n",
    "\n",
    "# set the random seed to ensure that results are similar across different runs and machines. \n",
    "np.random.seed(10)\n",
    "\n",
    "# split the data 4 ways:\n",
    "X_train, X_test, y_train, y_test = train_test_split(X, Y,\n",
    "                                                    train_size=0.60, test_size=0.40)"
   ]
  },
  {
   "cell_type": "code",
   "execution_count": 71,
   "metadata": {},
   "outputs": [
    {
     "name": "stdout",
     "output_type": "stream",
     "text": [
      "Shape of X train is (1932, 91)\n",
      "Shape of y_train is (1932,)\n",
      "Shape of X_test is (1288, 91)\n",
      "Shape of y_test is (1288,)\n"
     ]
    }
   ],
   "source": [
    "print(\"Shape of X train is\", X_train.shape)\n",
    "print(\"Shape of y_train is\", y_train.shape)\n",
    "print(\"Shape of X_test is\", X_test.shape)\n",
    "print(\"Shape of y_test is\", y_test.shape)"
   ]
  },
  {
   "cell_type": "markdown",
   "metadata": {},
   "source": [
    "#### Validation Set"
   ]
  },
  {
   "cell_type": "code",
   "execution_count": 72,
   "metadata": {},
   "outputs": [],
   "source": [
    "X_train, X_validate, y_train, y_validate = train_test_split(X_train, y_train,\n",
    "                                                    train_size=0.75, test_size=0.25)"
   ]
  },
  {
   "cell_type": "code",
   "execution_count": 73,
   "metadata": {},
   "outputs": [
    {
     "name": "stdout",
     "output_type": "stream",
     "text": [
      "Shape of X train is (1449, 91)\n",
      "Shape of y_train is (1449,)\n",
      "Shape of X_validate is (483, 91)\n",
      "Shape of y_validate is (483,)\n"
     ]
    }
   ],
   "source": [
    "print(\"Shape of X train is\", X_train.shape)\n",
    "print(\"Shape of y_train is\", y_train.shape)\n",
    "print(\"Shape of X_validate is\", X_validate.shape)\n",
    "print(\"Shape of y_validate is\", y_validate.shape)"
   ]
  },
  {
   "cell_type": "markdown",
   "metadata": {},
   "source": [
    "### C. Feature selection"
   ]
  },
  {
   "cell_type": "markdown",
   "metadata": {},
   "source": [
    "We drop variables that are highly correlated with the response from the training and validation sets."
   ]
  },
  {
   "cell_type": "code",
   "execution_count": 74,
   "metadata": {},
   "outputs": [],
   "source": [
    "X_train    =    X_train.drop(['Physical_Inactivity_Number','Obesity_Number' ], axis=1)\n",
    "X_validate = X_validate.drop(['Physical_Inactivity_Number','Obesity_Number' ], axis=1)"
   ]
  }
 ],
 "metadata": {
  "kernelspec": {
   "display_name": "Python 3",
   "language": "python",
   "name": "python3"
  },
  "language_info": {
   "codemirror_mode": {
    "name": "ipython",
    "version": 3
   },
   "file_extension": ".py",
   "mimetype": "text/x-python",
   "name": "python",
   "nbconvert_exporter": "python",
   "pygments_lexer": "ipython3",
   "version": "3.7.4"
  }
 },
 "nbformat": 4,
 "nbformat_minor": 4
}
